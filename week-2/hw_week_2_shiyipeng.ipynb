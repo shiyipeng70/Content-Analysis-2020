{
 "cells": [
  {
   "cell_type": "raw",
   "metadata": {},
   "source": [
    "import lucem_illud_2020 #pip install -U git+git://github.com/Computational-Content-Analysis-2020/lucem_illud_2020.git\n",
    "\n",
    "#All these packages need to be installed from pip\n",
    "import numpy as np #For arrays\n",
    "import scipy as sp #For some stats\n",
    "import pandas #Gives us DataFrames\n",
    "import matplotlib.pyplot as plt #For graphics\n",
    "import seaborn #Makes the graphics look nicer\n",
    "import pyanno #On python3 make sure to pip install pyanno3\n",
    "\n",
    "#We need to import these this way due to how pyanno is setup\n",
    "from pyanno.measures import pairwise_matrix, agreement, cohens_kappa, cohens_weighted_kappa, fleiss_kappa, krippendorffs_alpha, pearsons_rho, scotts_pi, spearmans_rho\n",
    "from pyanno.annotations import AnnotationsContainer\n",
    "from pyanno.models import ModelA, ModelBt, ModelB\n",
    "\n",
    "from functools import reduce\n",
    "from itertools import permutations\n",
    "import math\n",
    "\n",
    "\n",
    "#This 'magic' command makes the plots work better\n",
    "#in the notebook, don't use it outside of a notebook.\n",
    "#Also you can ignore the warning\n",
    "%matplotlib inline\n",
    "\n",
    "import os #For looking through files\n",
    "import os.path\n",
    "\n",
    "\n",
    " \n"
   ]
  },
  {
   "cell_type": "code",
   "execution_count": 2,
   "metadata": {},
   "outputs": [
    {
     "data": {
      "text/plain": [
       "'My project is a sentiment analysis of tweets under the topic of COVID-19. Information data will be collected through \\nweb scraping during a period where this issue causes huge discussion. If possible, I want to make comparison between Tweets on\\nTwitter and microblogs on Weibo (Chinese social media with the most frequent users), to see if the news from government sources \\ncarries different sentiment inclinatioin and whether such inclination drives reactions of the public. '"
      ]
     },
     "execution_count": 2,
     "metadata": {},
     "output_type": "execute_result"
    }
   ],
   "source": [
    "'''My project is a sentiment analysis of tweets under the topic of COVID-19. Information data will be collected through \n",
    "web scraping during a period where this issue causes huge discussion. If possible, I want to make comparison between Tweets on\n",
    "Twitter and microblogs on Weibo (Chinese social media with the most frequent users), to see if the news from government sources \n",
    "carries different sentiment inclinatioin and whether such inclination drives reactions of the public. '''"
   ]
  },
  {
   "cell_type": "code",
   "execution_count": 3,
   "metadata": {},
   "outputs": [
    {
     "data": {
      "text/plain": [
       "'I want to present how different regimes are performing themselves under such a historical period. Whether two countries show\\ndifferent emotional reaction are correlated with the respective characteristics of publich sphere. '"
      ]
     },
     "execution_count": 3,
     "metadata": {},
     "output_type": "execute_result"
    }
   ],
   "source": [
    "'''I want to present how different regimes are performing themselves under such a historical period. Whether two countries show\n",
    "different emotional reaction are correlated with the respective characteristics of publich sphere. '''"
   ]
  },
  {
   "cell_type": "code",
   "execution_count": 4,
   "metadata": {},
   "outputs": [
    {
     "data": {
      "text/plain": [
       "'My game actors will be Chinese national media outlets which are under surveillance of the central government, Chinese social media users. American news outlets and social media users.\\nThese can help demonstrate features of news in this two countries and how news from big media outlets construct public sphere. \\nThe limitation could be about research method, i.e. the proper model for sentiment analysis. An alternative could be\\nto study the content of news. '"
      ]
     },
     "execution_count": 4,
     "metadata": {},
     "output_type": "execute_result"
    }
   ],
   "source": [
    "'''My game actors will be Chinese national media outlets which are under surveillance of the central government, Chinese social media users. American news outlets and social media users.\n",
    "These can help demonstrate features of news in this two countries and how news from big media outlets construct public sphere. \n",
    "The limitation could be about research method, i.e. the proper model for sentiment analysis. An alternative could be\n",
    "to study the content of news. '''"
   ]
  },
  {
   "cell_type": "code",
   "execution_count": 5,
   "metadata": {},
   "outputs": [
    {
     "name": "stdout",
     "output_type": "stream",
     "text": [
      "[[1 1 1 1 1 0 1 0 0]\n",
      " [0 0 0 0 0 0 1 0 0]\n",
      " [0 1 1 0 1 2 1 1 1]\n",
      " [2 0 1 1 2 1 1 2 2]\n",
      " [2 2 0 2 0 2 0 2 0]\n",
      " [0 0 1 1 0 1 1 0 1]\n",
      " [0 0 0 0 0 2 0 1 1]\n",
      " [0 0 1 0 0 1 0 0 1]\n",
      " [1 1 0 0 1 1 0 1 0]\n",
      " [1 2 1 1 2 1 1 1 1]]\n",
      "[-1.0, 0.0, 1.0]\n"
     ]
    },
    {
     "data": {
      "text/plain": [
       "[]"
      ]
     },
     "execution_count": 5,
     "metadata": {},
     "output_type": "execute_result"
    }
   ],
   "source": [
    "x  =np.loadtxt('/Users/shiyipeng/Desktop/response/Sheet 1-Table 1.txt')\n",
    "#pd.DataFrame.trasnpose(x)\n",
    "anno = AnnotationsContainer.from_array(x,missing_values=[2])\n",
    "print(anno.annotations)\n",
    "print(anno.labels)\n",
    "anno.missing_values\n"
   ]
  },
  {
   "cell_type": "code",
   "execution_count": 6,
   "metadata": {},
   "outputs": [
    {
     "name": "stdout",
     "output_type": "stream",
     "text": [
      "[0.42222222 0.43333333 0.14444444]\n"
     ]
    },
    {
     "data": {
      "image/png": "[encoded data removed]",
      "text/plain": [
       "<Figure size 432x288 with 2 Axes>"
      ]
     },
     "metadata": {
      "needs_background": "light"
     },
     "output_type": "display_data"
    }
   ],
   "source": [
    "print(pyanno.measures.agreement.labels_frequency(anno.annotations,3))\n",
    "c = pyanno.measures.agreement.confusion_matrix(anno.annotations[:,0], anno.annotations[:,1],3)\n",
    "c\n",
    "ac = seaborn.heatmap(c)\n",
    "plt.show()"
   ]
  },
  {
   "cell_type": "code",
   "execution_count": 7,
   "metadata": {},
   "outputs": [
    {
     "data": {
      "text/plain": [
       "0.5161290322580646"
      ]
     },
     "execution_count": 7,
     "metadata": {},
     "output_type": "execute_result"
    }
   ],
   "source": [
    "scotts_pi(anno.annotations[:,0], anno.annotations[:,1])\n"
   ]
  },
  {
   "cell_type": "code",
   "execution_count": 8,
   "metadata": {},
   "outputs": [
    {
     "data": {
      "text/plain": [
       "0.1753926701570681"
      ]
     },
     "execution_count": 8,
     "metadata": {},
     "output_type": "execute_result"
    }
   ],
   "source": [
    "fleiss_kappa(anno.annotations[::])"
   ]
  },
  {
   "cell_type": "code",
   "execution_count": 9,
   "metadata": {},
   "outputs": [
    {
     "data": {
      "text/plain": [
       "0.2199873896595208"
      ]
     },
     "execution_count": 9,
     "metadata": {},
     "output_type": "execute_result"
    }
   ],
   "source": [
    "krippendorffs_alpha(anno.annotations[::])"
   ]
  },
  {
   "cell_type": "code",
   "execution_count": 10,
   "metadata": {},
   "outputs": [
    {
     "data": {
      "text/plain": [
       "0.5161290322580646"
      ]
     },
     "execution_count": 10,
     "metadata": {},
     "output_type": "execute_result"
    }
   ],
   "source": [
    "cohens_kappa(anno.annotations[:,0], anno.annotations[:,1])"
   ]
  },
  {
   "cell_type": "code",
   "execution_count": 11,
   "metadata": {},
   "outputs": [
    {
     "data": {
      "image/png": "[encoded data removed]",
      "text/plain": [
       "<Figure size 432x288 with 2 Axes>"
      ]
     },
     "metadata": {
      "needs_background": "light"
     },
     "output_type": "display_data"
    }
   ],
   "source": [
    "m = pairwise_matrix(cohens_kappa, anno.annotations)\n",
    "m\n",
    "ax = seaborn.heatmap(m)\n",
    "plt.show()"
   ]
  },
  {
   "cell_type": "code",
   "execution_count": 12,
   "metadata": {},
   "outputs": [
    {
     "data": {
      "text/plain": [
       "0.18560617149105824"
      ]
     },
     "execution_count": 12,
     "metadata": {},
     "output_type": "execute_result"
    }
   ],
   "source": [
    "def pairwise_metric_average(metric, array):\n",
    "    \"\"\"Calculate the pairwise metric average for the real elements of metric function run on an array of annotations\"\"\"\n",
    "    p = permutations(range(array[0,:].size),2)\n",
    "    m = [metric(array[:,x[0]], array[:,x[1]]) for x in p]\n",
    "    clean_m = [c for c in m if not math.isnan(c)]\n",
    "    return reduce(lambda a, b: a + b, clean_m)/len(clean_m)    \n",
    " \n",
    "pairwise_metric_average(cohens_kappa, anno.annotations)"
   ]
  },
  {
   "cell_type": "code",
   "execution_count": 13,
   "metadata": {},
   "outputs": [
    {
     "data": {
      "text/plain": [
       "0.5121951219512195"
      ]
     },
     "execution_count": 13,
     "metadata": {},
     "output_type": "execute_result"
    }
   ],
   "source": [
    "cohens_weighted_kappa(anno.annotations[:,0], anno.annotations[:,1])"
   ]
  },
  {
   "cell_type": "code",
   "execution_count": 14,
   "metadata": {},
   "outputs": [
    {
     "data": {
      "text/plain": [
       "0.19681190759812"
      ]
     },
     "execution_count": 14,
     "metadata": {},
     "output_type": "execute_result"
    }
   ],
   "source": [
    "pairwise_metric_average(cohens_weighted_kappa,anno.annotations)"
   ]
  },
  {
   "cell_type": "code",
   "execution_count": 15,
   "metadata": {},
   "outputs": [
    {
     "data": {
      "image/png": "[encoded data removed]",
      "text/plain": [
       "<Figure size 432x288 with 2 Axes>"
      ]
     },
     "metadata": {
      "needs_background": "light"
     },
     "output_type": "display_data"
    },
    {
     "data": {
      "image/png": "[encoded data removed]",
      "text/plain": [
       "<Figure size 432x288 with 2 Axes>"
      ]
     },
     "metadata": {
      "needs_background": "light"
     },
     "output_type": "display_data"
    }
   ],
   "source": [
    "n = pairwise_matrix(pearsons_rho, anno.annotations)\n",
    "m = pairwise_matrix(spearmans_rho, anno.annotations)\n",
    "an = seaborn.heatmap(n)\n",
    "plt.show()\n",
    "am = seaborn.heatmap(m)\n",
    "plt.show()"
   ]
  },
  {
   "cell_type": "code",
   "execution_count": 16,
   "metadata": {},
   "outputs": [
    {
     "name": "stdout",
     "output_type": "stream",
     "text": [
      "0.21042397343870267 0.19953195958287476\n"
     ]
    }
   ],
   "source": [
    "print(pairwise_metric_average(pearsons_rho,anno.annotations), pairwise_metric_average(spearmans_rho,anno.annotations))"
   ]
  },
  {
   "cell_type": "code",
   "execution_count": 17,
   "metadata": {},
   "outputs": [
    {
     "name": "stdout",
     "output_type": "stream",
     "text": [
      "[[[0.62546262 0.24339508 0.1311423 ]\n",
      "  [0.19997347 0.74917375 0.05085278]\n",
      "  [0.19513709 0.17572331 0.6291396 ]]\n",
      "\n",
      " [[0.81380737 0.09792175 0.08827088]\n",
      "  [0.13099781 0.52797935 0.34102284]\n",
      "  [0.15678636 0.09994953 0.74326411]]\n",
      "\n",
      " [[0.76254907 0.16011296 0.07733798]\n",
      "  [0.31548321 0.55395757 0.13055922]\n",
      "  [0.30404057 0.20159564 0.49436379]]\n",
      "\n",
      " [[0.69211457 0.09971971 0.20816572]\n",
      "  [0.03931068 0.64155696 0.31913237]\n",
      "  [0.06459711 0.27153822 0.66386466]]\n",
      "\n",
      " [[0.78822595 0.1321989  0.07957515]\n",
      "  [0.19012631 0.57808521 0.23178848]\n",
      "  [0.11840291 0.11132265 0.77027444]]\n",
      "\n",
      " [[0.8091284  0.10164366 0.08922795]\n",
      "  [0.11124163 0.67517821 0.21358016]\n",
      "  [0.16724349 0.12052226 0.71223425]]\n",
      "\n",
      " [[0.67155246 0.22948108 0.09896645]\n",
      "  [0.2039139  0.72980889 0.06627721]\n",
      "  [0.05512548 0.10081016 0.84406436]]\n",
      "\n",
      " [[0.7867922  0.15041341 0.06279439]\n",
      "  [0.0545831  0.85886925 0.08654764]\n",
      "  [0.06440215 0.14828863 0.78730923]]\n",
      "\n",
      " [[0.77995359 0.1286154  0.09143101]\n",
      "  [0.14420328 0.7413366  0.11446013]\n",
      "  [0.08520674 0.12190068 0.79289259]]]\n",
      "-106.85272702188955\n"
     ]
    }
   ],
   "source": [
    "model = ModelB.create_initial_state(3, 9)\n",
    "print(model.theta)\n",
    "print(model.log_likelihood(anno.annotations))"
   ]
  },
  {
   "cell_type": "code",
   "execution_count": 18,
   "metadata": {},
   "outputs": [
    {
     "name": "stdout",
     "output_type": "stream",
     "text": [
      "[[[0.81326182 0.14180781 0.04493037]\n",
      "  [0.17642329 0.67434137 0.14923533]\n",
      "  [0.04988287 0.14965203 0.8004651 ]]\n",
      "\n",
      " [[0.81316285 0.14190997 0.04492718]\n",
      "  [0.17403099 0.67425724 0.15171177]\n",
      "  [0.05314444 0.14964788 0.79720769]]\n",
      "\n",
      " [[0.76272763 0.1929353  0.04433707]\n",
      "  [0.14453182 0.74182471 0.11364347]\n",
      "  [0.09885017 0.15291417 0.74823566]]\n",
      "\n",
      " [[0.80638067 0.14869232 0.04492701]\n",
      "  [0.1823023  0.70386348 0.11383423]\n",
      "  [0.04988311 0.15291376 0.79720313]]\n",
      "\n",
      " [[0.81374942 0.14190997 0.04434061]\n",
      "  [0.13882063 0.67425724 0.18692213]\n",
      "  [0.09884993 0.14964788 0.75150219]]\n",
      "\n",
      " [[0.70970442 0.20100456 0.08929102]\n",
      "  [0.15125859 0.69704939 0.15169203]\n",
      "  [0.04988243 0.15291401 0.79720357]]\n",
      "\n",
      " [[0.76253229 0.19313064 0.04433707]\n",
      "  [0.14469871 0.74165782 0.11364347]\n",
      "  [0.09885017 0.15291417 0.74823566]]\n",
      "\n",
      " [[0.76921023 0.1858594  0.04493037]\n",
      "  [0.17617968 0.67458498 0.14923533]\n",
      "  [0.04988248 0.14965242 0.8004651 ]]\n",
      "\n",
      " [[0.71877837 0.2368812  0.04434043]\n",
      "  [0.18208162 0.6688738  0.14904458]\n",
      "  [0.09885018 0.14965219 0.75149763]]]\n",
      "-84.94472853722026\n"
     ]
    }
   ],
   "source": [
    "model.map(anno.annotations)\n",
    "print(model.theta)\n",
    "print(model.log_likelihood(anno.annotations))"
   ]
  },
  {
   "cell_type": "code",
   "execution_count": 19,
   "metadata": {},
   "outputs": [
    {
     "name": "stdout",
     "output_type": "stream",
     "text": [
      "[[7.04650277e-03 9.92952512e-01 9.85492074e-07]\n",
      " [9.99975529e-01 2.44699811e-05 5.70801878e-10]\n",
      " [2.30804213e-03 9.97683781e-01 8.17663948e-06]\n",
      " [7.58792318e-05 9.34531015e-01 6.53931056e-02]\n",
      " [1.33057541e-02 5.03560499e-03 9.81658641e-01]\n",
      " [3.46550238e-01 6.53448762e-01 9.99945333e-07]\n",
      " [9.98299690e-01 1.69963429e-03 6.75985225e-07]\n",
      " [9.95569773e-01 4.43019853e-03 2.82917454e-08]\n",
      " [1.91352557e-01 8.08641651e-01 5.79203505e-06]\n",
      " [3.91526331e-06 9.99904662e-01 9.14226253e-05]]\n"
     ]
    }
   ],
   "source": [
    "posterior = model.infer_labels(anno.annotations)\n",
    "print(posterior)"
   ]
  },
  {
   "cell_type": "code",
   "execution_count": 20,
   "metadata": {},
   "outputs": [
    {
     "data": {
      "image/png": "[encoded data removed]",
      "text/plain": [
       "<Figure size 1080x720 with 4 Axes>"
      ]
     },
     "metadata": {
      "needs_background": "light"
     },
     "output_type": "display_data"
    }
   ],
   "source": [
    "votes = []\n",
    "for r in anno.annotations:\n",
    "    v = [0] * len(anno.labels)\n",
    "    votes.append(v)\n",
    "    for a in r:\n",
    "        if a > -1:\n",
    "            v[a] += 1\n",
    "votes_array = np.array(votes)\n",
    "fig, (ax1, ax2) = plt.subplots(ncols=2, figsize = (15, 10), sharey=True)\n",
    "num_questions = 20\n",
    "\n",
    "seaborn.heatmap(votes_array[:num_questions], annot = True, ax=ax2)\n",
    "seaborn.heatmap(posterior[:num_questions], annot=True, ax =ax1)\n",
    "ax1.set_title(\"Model\")\n",
    "ax2.set_title(\"Vote\")\n",
    "plt.show()"
   ]
  },
  {
   "cell_type": "code",
   "execution_count": 21,
   "metadata": {},
   "outputs": [
    {
     "name": "stdout",
     "output_type": "stream",
     "text": [
      "[[[0.74404373 0.17139718 0.08455909]\n",
      "  [0.19210391 0.6514948  0.15640129]\n",
      "  [0.08794233 0.17565492 0.73640275]]\n",
      "\n",
      " [[0.74157759 0.17001579 0.08840662]\n",
      "  [0.18364548 0.64291037 0.17344415]\n",
      "  [0.09190858 0.17766145 0.73042997]]\n",
      "\n",
      " [[0.71182916 0.21622625 0.07194459]\n",
      "  [0.15752994 0.70136292 0.14110714]\n",
      "  [0.11719204 0.18389501 0.69891295]]\n",
      "\n",
      " [[0.73269409 0.17407833 0.09322758]\n",
      "  [0.19699848 0.67140868 0.13159283]\n",
      "  [0.09131693 0.18128866 0.72739441]]\n",
      "\n",
      " [[0.74856144 0.17636596 0.0750726 ]\n",
      "  [0.16398086 0.62959409 0.20642505]\n",
      "  [0.11241336 0.17965946 0.70792718]]\n",
      "\n",
      " [[0.6519381  0.22472943 0.12333247]\n",
      "  [0.16901211 0.6622102  0.16877769]\n",
      "  [0.07575242 0.18270484 0.74154274]]\n",
      "\n",
      " [[0.70528252 0.21528342 0.07943406]\n",
      "  [0.1606256  0.70605297 0.13332143]\n",
      "  [0.12301485 0.18315063 0.69383452]]\n",
      "\n",
      " [[0.70971852 0.20547509 0.08480639]\n",
      "  [0.19747867 0.63708431 0.16543702]\n",
      "  [0.09010001 0.17846874 0.73143126]]\n",
      "\n",
      " [[0.68313791 0.23828679 0.0785753 ]\n",
      "  [0.18940717 0.64007384 0.17051898]\n",
      "  [0.11353951 0.16690708 0.71955341]]]\n",
      "[[[0.08772527 0.07558728 0.05549674]\n",
      "  [0.07590291 0.09256286 0.06466737]\n",
      "  [0.05968357 0.06914842 0.08370159]]\n",
      "\n",
      " [[0.08687033 0.07378823 0.05451983]\n",
      "  [0.07186785 0.08406622 0.07344792]\n",
      "  [0.05820112 0.07360516 0.08474182]]\n",
      "\n",
      " [[0.08888897 0.08564739 0.04767166]\n",
      "  [0.07042592 0.08474494 0.06855515]\n",
      "  [0.06625774 0.07706643 0.09728749]]\n",
      "\n",
      " [[0.08960655 0.07745134 0.05997497]\n",
      "  [0.0773997  0.08877912 0.06141519]\n",
      "  [0.06419773 0.07973922 0.09859619]]\n",
      "\n",
      " [[0.07953743 0.06924608 0.05009248]\n",
      "  [0.0692299  0.08474132 0.07407979]\n",
      "  [0.06200403 0.07553653 0.09273113]]\n",
      "\n",
      " [[0.09120197 0.07901377 0.06584107]\n",
      "  [0.06367068 0.08606691 0.0674746 ]\n",
      "  [0.05357977 0.08134384 0.09203878]]\n",
      "\n",
      " [[0.08570338 0.08510881 0.05178521]\n",
      "  [0.06581176 0.07915418 0.0601203 ]\n",
      "  [0.06780829 0.07682672 0.0918465 ]]\n",
      "\n",
      " [[0.09007515 0.07906129 0.05515706]\n",
      "  [0.07559186 0.09490891 0.07483514]\n",
      "  [0.05757783 0.08052594 0.09459409]]\n",
      "\n",
      " [[0.09005216 0.08498751 0.05484315]\n",
      "  [0.07522194 0.08155419 0.07456173]\n",
      "  [0.06540235 0.07637621 0.08958579]]]\n"
     ]
    }
   ],
   "source": [
    "samples = model.sample_posterior_over_accuracy(anno.annotations, 200, burn_in_samples=100, thin_samples=3)\n",
    "print(samples[0].mean(axis=0))\n",
    "print(samples[0].std(axis=0))"
   ]
  },
  {
   "cell_type": "code",
   "execution_count": 22,
   "metadata": {},
   "outputs": [],
   "source": [
    "model = ModelBt.create_initial_state(3, 9)\n",
    "model.map(anno.annotations)\n",
    "samples = model.sample_posterior_over_accuracy(anno.annotations, 200, burn_in_samples=100, thin_samples=3)\n",
    "y =  samples.mean(axis=0)\n",
    "y_ci = samples.std(axis=0)\n"
   ]
  },
  {
   "cell_type": "code",
   "execution_count": 23,
   "metadata": {},
   "outputs": [
    {
     "data": {
      "image/png": "[encoded data removed]",
      "text/plain": [
       "<Figure size 432x288 with 1 Axes>"
      ]
     },
     "metadata": {
      "needs_background": "light"
     },
     "output_type": "display_data"
    }
   ],
   "source": [
    "plt.figure()\n",
    "plt.errorbar(range(9),y, yerr = y_ci)\n",
    "plt.show()"
   ]
  },
  {
   "cell_type": "code",
   "execution_count": 24,
   "metadata": {},
   "outputs": [
    {
     "data": {
      "text/plain": [
       "'The measurements above show that there is a weak inter-agreement for my model. The reliabity is not very strong. I may need to invite more coders to make amendments to my sentences.\\nThe coder 3 and coder 7, with higher accuracy and smaller credible interva. '"
      ]
     },
     "execution_count": 24,
     "metadata": {},
     "output_type": "execute_result"
    }
   ],
   "source": [
    "'''The measurements above show that there is a weak inter-agreement for my model. The reliabity is not very strong. I may need to invite more coders to make amendments to my sentences.\n",
    "The coder 3 and coder 7, with higher accuracy and smaller credible interva. '''\n",
    "\n"
   ]
  },
  {
   "cell_type": "code",
   "execution_count": null,
   "metadata": {},
   "outputs": [],
   "source": []
  },
  {
   "cell_type": "code",
   "execution_count": null,
   "metadata": {},
   "outputs": [],
   "source": []
  }
 ],
 "metadata": {
  "kernelspec": {
   "display_name": "Python 3",
   "language": "python",
   "name": "python3"
  },
  "language_info": {
   "codemirror_mode": {
    "name": "ipython",
    "version": 3
   },
   "file_extension": ".py",
   "mimetype": "text/x-python",
   "name": "python",
   "nbconvert_exporter": "python",
   "pygments_lexer": "ipython3",
   "version": "3.7.4"
  }
 },
 "nbformat": 4,
 "nbformat_minor": 4
}
