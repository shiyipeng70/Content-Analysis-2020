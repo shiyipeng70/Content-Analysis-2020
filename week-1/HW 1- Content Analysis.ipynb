{
 "cells": [
  {
   "cell_type": "code",
   "execution_count": 7,
   "metadata": {},
   "outputs": [],
   "source": [
    "import lucem_illud_2020 #pip install git+git://github.com/Computational-Content-Analysis-2020/lucem_illud_2020.git\n",
    "\n",
    "#All these packages need to be installed from pip\n",
    "import requests #for http requests\n",
    "import pandas #gives us DataFrames\n",
    "import matplotlib.pyplot as plt #For graphics\n",
    "import wordcloud #Makes word clouds\n",
    "import numpy as np #For divergences/distances\n",
    "import scipy #For divergences/distances\n",
    "import seaborn as sns #makes our plots look nicer\n",
    "import sklearn.manifold #For a manifold plot\n",
    "import json #For API responses\n",
    "import urllib.parse #For joining urls\n",
    "from urllib.request import urlopen\n",
    "\n",
    "# comp-linguistics\n",
    "import spacy\n",
    "\n",
    "#Displays the graphs\n",
    "import graphviz #You also need to install the command line graphviz\n",
    "\n",
    "#These are from the standard library\n",
    "import os.path\n",
    "import zipfile\n",
    "import subprocess\n",
    "import io\n",
    "import tempfile\n",
    "\n",
    "#This 'magic' command makes the plots work better\n",
    "#in the notebook, don't use it outside of a notebook\n",
    "%matplotlib inline"
   ]
  },
  {
   "cell_type": "code",
   "execution_count": 2,
   "metadata": {},
   "outputs": [],
   "source": [
    "#Retrieving exemplary corpora\n",
    "\n",
    "corpus_name = \"/Users/shiyipeng/Downloads/internet_archive_scifi_v3.txt\"\n",
    "text = open(corpus_name)\n",
    "text = text.read()\n",
    "\n",
    "def clean_raw_text(text):\n",
    "    words_li = []\n",
    "    #text = text.decode(\"utf-8\")\n",
    "    clean_text = text.replace(\" \\'m\", \"'m\").replace(\" \\'ll\", \"'ll\").replace(\" \\'re\", \"'re\").replace(\" \\'s\", \"'s\").replace(\" \\'re\", \"'re\").replace(\" n\\'t\", \"n't\").replace(\" \\'ve\", \"'ve\").replace(\" /'d\", \"'d\").replace(\"#\",\"\")\n",
    "    words = clean_text.split(' ')\n",
    "    for word in words:\n",
    "        words_li.append(word)\n",
    "    return words_li[:10000], clean_text[:10000]\n",
    "\n",
    "words = clean_raw_text(text)[0]\n",
    "text = clean_raw_text(text)[1]"
   ]
  },
  {
   "cell_type": "code",
   "execution_count": 3,
   "metadata": {},
   "outputs": [
    {
     "name": "stdout",
     "output_type": "stream",
     "text": [
      "['MARCH', 'All', 'Stories', 'New', 'and', 'Complete', 'Publisher', 'Editor', 'IF', 'is', 'published', 'bi', 'monthly', 'by', 'Quinn', 'Publishing', 'Company', 'Inc.', 'Kingston', 'New', 'York', 'Volume', 'No', 'Copyright', 'by', 'Quinn', 'Publishing', 'Company', 'Inc.', 'Application', 'for', 'Entry', 'as', 'Second', 'Class', 'matter', 'at', 'Post', 'Office', 'Buffalo', 'New', 'York', 'pending', 'Subscription', 'for', 'issues', 'in', 'U.S.', 'and', 'Possessions', 'Canada', 'for', 'issues', 'elsewhere', 'Aiiow', 'four', 'weeks', 'for', 'change', 'of', 'address', 'All', 'stories', 'appearing', 'in', 'this', 'magazine', 'are', 'fiction', 'Any', 'similarity', 'to', 'actual', 'persons', 'is', 'coincidental', 'c', 'a', 'fcopy', 'Printed', 'ia', 'U.S.', 'A.', 'A', 'chat', 'with', 'the', 'editor', 'i', 'science', 'fiction', 'magazine', 'called', 'IF', 'The', 'title', 'was', 'selected', 'after', 'much']\n"
     ]
    }
   ],
   "source": [
    "import en_core_web_sm\n",
    "nlp = en_core_web_sm.load()\n",
    "\n",
    "def word_tokenize(word_list):\n",
    "    tokenized = []\n",
    "    # pass word list through language model.\n",
    "    doc = nlp(word_list)\n",
    "    for token in doc:\n",
    "        if not token.is_punct and len(token.text.strip()) > 0:\n",
    "            tokenized.append(token.text)\n",
    "    return tokenized\n",
    "\n",
    "tokens = word_tokenize(text)\n",
    "print(tokens[:100])"
   ]
  },
  {
   "cell_type": "code",
   "execution_count": 8,
   "metadata": {},
   "outputs": [],
   "source": [
    "#Counting Words\n",
    "\n",
    "def wordCounter(wordLst):\n",
    "    wordCounts = {}\n",
    "    for word in wordLst:\n",
    "        #We usually need to normalize the case\n",
    "        wLower = word.lower()\n",
    "        if wLower in wordCounts:\n",
    "            wordCounts[wLower] += 1\n",
    "        else:\n",
    "            wordCounts[wLower] = 1\n",
    "    #convert to DataFrame\n",
    "    countsForFrame = {'word' : [], 'count' : []}\n",
    "    for w, c in wordCounts.items():\n",
    "        countsForFrame['word'].append(w)\n",
    "        countsForFrame['count'].append(c)\n",
    "    return pandas.DataFrame(countsForFrame)\n",
    "\n",
    "countedWords = wordCounter(words)"
   ]
  },
  {
   "cell_type": "code",
   "execution_count": 9,
   "metadata": {},
   "outputs": [
    {
     "data": {
      "text/html": [
       "<div>\n",
       "<style scoped>\n",
       "    .dataframe tbody tr th:only-of-type {\n",
       "        vertical-align: middle;\n",
       "    }\n",
       "\n",
       "    .dataframe tbody tr th {\n",
       "        vertical-align: top;\n",
       "    }\n",
       "\n",
       "    .dataframe thead th {\n",
       "        text-align: right;\n",
       "    }\n",
       "</style>\n",
       "<table border=\"1\" class=\"dataframe\">\n",
       "  <thead>\n",
       "    <tr style=\"text-align: right;\">\n",
       "      <th></th>\n",
       "      <th>word</th>\n",
       "      <th>count</th>\n",
       "    </tr>\n",
       "  </thead>\n",
       "  <tbody>\n",
       "    <tr>\n",
       "      <th>72</th>\n",
       "      <td>the</td>\n",
       "      <td>479</td>\n",
       "    </tr>\n",
       "    <tr>\n",
       "      <th>65</th>\n",
       "      <td>a</td>\n",
       "      <td>257</td>\n",
       "    </tr>\n",
       "    <tr>\n",
       "      <th>51</th>\n",
       "      <td>of</td>\n",
       "      <td>255</td>\n",
       "    </tr>\n",
       "    <tr>\n",
       "      <th>5</th>\n",
       "      <td>and</td>\n",
       "      <td>245</td>\n",
       "    </tr>\n",
       "    <tr>\n",
       "      <th>60</th>\n",
       "      <td>to</td>\n",
       "      <td>243</td>\n",
       "    </tr>\n",
       "    <tr>\n",
       "      <th>...</th>\n",
       "      <td>...</td>\n",
       "      <td>...</td>\n",
       "    </tr>\n",
       "    <tr>\n",
       "      <th>719</th>\n",
       "      <td>know</td>\n",
       "      <td>14</td>\n",
       "    </tr>\n",
       "    <tr>\n",
       "      <th>237</th>\n",
       "      <td>way</td>\n",
       "      <td>14</td>\n",
       "    </tr>\n",
       "    <tr>\n",
       "      <th>1073</th>\n",
       "      <td>heard</td>\n",
       "      <td>14</td>\n",
       "    </tr>\n",
       "    <tr>\n",
       "      <th>325</th>\n",
       "      <td>around</td>\n",
       "      <td>14</td>\n",
       "    </tr>\n",
       "    <tr>\n",
       "      <th>364</th>\n",
       "      <td>want</td>\n",
       "      <td>14</td>\n",
       "    </tr>\n",
       "  </tbody>\n",
       "</table>\n",
       "<p>100 rows × 2 columns</p>\n",
       "</div>"
      ],
      "text/plain": [
       "        word  count\n",
       "72       the    479\n",
       "65         a    257\n",
       "51        of    255\n",
       "5        and    245\n",
       "60        to    243\n",
       "...      ...    ...\n",
       "719     know     14\n",
       "237      way     14\n",
       "1073   heard     14\n",
       "325   around     14\n",
       "364     want     14\n",
       "\n",
       "[100 rows x 2 columns]"
      ]
     },
     "execution_count": 9,
     "metadata": {},
     "output_type": "execute_result"
    }
   ],
   "source": [
    "#Doing this in place (changing the original DataFrame) as we don't need the unsorted DataFrame\n",
    "countedWords.sort_values('count', ascending=False, inplace=True)\n",
    "countedWords[:100]"
   ]
  },
  {
   "cell_type": "code",
   "execution_count": 10,
   "metadata": {},
   "outputs": [
    {
     "data": {
      "image/png": "[encoded data removed]",
      "text/plain": [
       "<Figure size 432x288 with 1 Axes>"
      ]
     },
     "metadata": {
      "needs_background": "light"
     },
     "output_type": "display_data"
    }
   ],
   "source": [
    "#Creating a figure and axis lets us do things like change the scaling or add a title\n",
    "fig = plt.figure()\n",
    "ax = fig.add_subplot(111)\n",
    "plt.plot(range(len(countedWords)), countedWords['count'])\n",
    "plt.show()"
   ]
  },
  {
   "cell_type": "code",
   "execution_count": 11,
   "metadata": {},
   "outputs": [
    {
     "data": {
      "image/png": "[encoded data removed]",
      "text/plain": [
       "<Figure size 432x288 with 1 Axes>"
      ]
     },
     "metadata": {
      "needs_background": "light"
     },
     "output_type": "display_data"
    }
   ],
   "source": [
    "fig = plt.figure()\n",
    "ax = fig.add_subplot(111)\n",
    "plt.plot(range(len(countedWords)), countedWords['count'])\n",
    "ax.set_yscale('log')\n",
    "ax.set_xscale('log')\n",
    "plt.show()"
   ]
  },
  {
   "cell_type": "code",
   "execution_count": null,
   "metadata": {},
   "outputs": [],
   "source": []
  },
  {
   "cell_type": "code",
   "execution_count": 12,
   "metadata": {},
   "outputs": [
    {
     "name": "stdout",
     "output_type": "stream",
     "text": [
      "Displaying 9 of 9 matches:\n",
      "dress All stories appearing in this magazine are fiction Any similarity to actua\n",
      "t with the editor i science fiction magazine called IF The title was selected af\n",
      "ias gone into the formation of this magazine We have had the aid of several very\n",
      "ket t a great public demand for our magazine In short why will you buy IF We can\n",
      "ause you like its personality Every magazine we feel does have a definite person\n",
      "rent from any other science fiction magazine on the stands while still building \n",
      "not copied any feature of any other magazine We will not for instance review fan\n",
      "an a happy ending that IF will be a magazine given over to tragedy W e will only\n",
      " day IF went on the science fiction magazine your money could buy It has the bes\n"
     ]
    }
   ],
   "source": [
    "import nltk\n",
    "sfText = nltk.Text(tokens)\n",
    "sfIndex = nltk.text.ConcordanceIndex(sfText) \n",
    "sfIndex.print_concordance('magazine')"
   ]
  },
  {
   "cell_type": "code",
   "execution_count": 13,
   "metadata": {},
   "outputs": [
    {
     "name": "stdout",
     "output_type": "stream",
     "text": [
      "this_are fiction_called this_we our_in every_we fiction_on other_we\n",
      "a_given fiction_your\n"
     ]
    }
   ],
   "source": [
    "sfText.common_contexts(['magazine'])"
   ]
  },
  {
   "cell_type": "code",
   "execution_count": 14,
   "metadata": {},
   "outputs": [
    {
     "data": {
      "text/plain": [
       "1"
      ]
     },
     "execution_count": 14,
     "metadata": {},
     "output_type": "execute_result"
    }
   ],
   "source": [
    "sfText.count('Canada')"
   ]
  },
  {
   "cell_type": "code",
   "execution_count": 15,
   "metadata": {},
   "outputs": [
    {
     "name": "stderr",
     "output_type": "stream",
     "text": [
      "/Library/Frameworks/Python.framework/Versions/3.7/lib/python3.7/_collections_abc.py:841: MatplotlibDeprecationWarning: \n",
      "The examples.directory rcparam was deprecated in Matplotlib 3.0 and will be removed in 3.2. In the future, examples will be found relative to the 'datapath' directory.\n",
      "  self[key] = other[key]\n",
      "/Library/Frameworks/Python.framework/Versions/3.7/lib/python3.7/_collections_abc.py:841: MatplotlibDeprecationWarning: \n",
      "The savefig.frameon rcparam was deprecated in Matplotlib 3.1 and will be removed in 3.3.\n",
      "  self[key] = other[key]\n",
      "/Library/Frameworks/Python.framework/Versions/3.7/lib/python3.7/_collections_abc.py:841: MatplotlibDeprecationWarning: \n",
      "The text.latex.unicode rcparam was deprecated in Matplotlib 3.0 and will be removed in 3.2.\n",
      "  self[key] = other[key]\n",
      "/Library/Frameworks/Python.framework/Versions/3.7/lib/python3.7/_collections_abc.py:841: MatplotlibDeprecationWarning: \n",
      "The verbose.fileo rcparam was deprecated in Matplotlib 3.1 and will be removed in 3.3.\n",
      "  self[key] = other[key]\n",
      "/Library/Frameworks/Python.framework/Versions/3.7/lib/python3.7/_collections_abc.py:841: MatplotlibDeprecationWarning: \n",
      "The verbose.level rcparam was deprecated in Matplotlib 3.1 and will be removed in 3.3.\n",
      "  self[key] = other[key]\n"
     ]
    },
    {
     "data": {
      "image/png": "[encoded data removed]",
      "text/plain": [
       "<Figure size 432x288 with 1 Axes>"
      ]
     },
     "metadata": {
      "needs_background": "light"
     },
     "output_type": "display_data"
    }
   ],
   "source": [
    "sns.reset_orig() #Seaborn messes with this plot, disabling it\n",
    "sfText.dispersion_plot(['magazine','chat', 'U.S', 'issues','office'])\n",
    "sns.set() #Re-enabling seaborn"
   ]
  },
  {
   "cell_type": "code",
   "execution_count": 23,
   "metadata": {},
   "outputs": [
    {
     "name": "stdout",
     "output_type": "stream",
     "text": [
      "[('the', 85), ('of', 62), ('a', 50), ('to', 36), ('and', 34), ('we', 26), ('in', 25), ('you', 19), ('his', 19), ('for', 18), ('it', 17), ('will', 17), ('is', 16), ('he', 16), ('as', 13), ('have', 13), ('with', 12), ('on', 12), ('not', 12), (\"'s\", 12)]\n",
      "['the', 'of', 'a', 'to', 'and', 'we', 'in', 'you', 'his', 'for', 'it', 'will', 'is', 'he', 'as', 'have', 'with', 'on', 'not', \"'s\", 'IF', 'fiction', 'that', 'We', 'by', 'The', 'magazine', 'from', 'an', 'A', 'be', 'one', 'man']\n"
     ]
    }
   ],
   "source": [
    "#Filtering and Normalizing\n",
    "countsDict = {}\n",
    "for word in tokens:\n",
    "    if word in countsDict:\n",
    "        countsDict[word] += 1\n",
    "    else:\n",
    "        countsDict[word] = 1\n",
    "word_counts = sorted(countsDict.items(), key = lambda x : x[1], reverse = True)\n",
    "print(word_counts[:20])\n",
    "\n",
    "stop_words_freq = []\n",
    "for word, count in word_counts:\n",
    "    if word == 'science':\n",
    "        break\n",
    "    else:\n",
    "        stop_words_freq.append(word)\n",
    "print(stop_words_freq)"
   ]
  },
  {
   "cell_type": "code",
   "execution_count": 39,
   "metadata": {},
   "outputs": [
    {
     "name": "stdout",
     "output_type": "stream",
     "text": [
      "           0   1\n",
      "0      story  12\n",
      "1    science   7\n",
      "2       time   7\n",
      "3       good   7\n",
      "4     writer   7\n",
      "..       ...  ..\n",
      "534  tearing   1\n",
      "535      sob   1\n",
      "536  slender   1\n",
      "537    frame   1\n",
      "538        o   1\n",
      "\n",
      "[539 rows x 2 columns]\n"
     ]
    }
   ],
   "source": [
    "def normalizeTokens(word_list, extra_stop=[]):\n",
    "    #We can use a generator here as we just need to iterate over it\n",
    "    normalized = []\n",
    "    if type(word_list) == list and len(word_list) == 1:\n",
    "        word_list = word_list[0]\n",
    "\n",
    "    if type(word_list) == list:\n",
    "        word_list = ' '.join([str(elem) for elem in word_list]) \n",
    "\n",
    "    doc = nlp(word_list.lower())\n",
    "    \n",
    "    # add the property of stop word to words considered as stop words\n",
    "    if len(extra_stop) > 0:\n",
    "        for stopword in extra_stop:\n",
    "            lexeme = nlp.vocab[stopword]\n",
    "            lexeme.is_stop = True\n",
    "\n",
    "    for w in doc:\n",
    "        # if it's not a stop word or punctuation mark, add it to our article\n",
    "        if w.text != '\\n' and not w.is_stop and not w.is_punct and not w.like_num and len(w.text.strip()) > 0:\n",
    "            # we add the lematized version of the word\n",
    "            normalized.append(str(w.lemma_))\n",
    "    return normalized\n",
    "\n",
    "normalized_tokens = {}\n",
    "normalized_tokens['tokens'] = normalizeTokens(tokens)\n",
    "\n",
    "countsDict = {}\n",
    "for word in normalized_tokens['tokens']:\n",
    "    if word in countsDict:\n",
    "        countsDict[word] += 1\n",
    "    else:\n",
    "        countsDict[word] = 1\n",
    "word_counts = sorted(countsDict.items(), key = lambda x : x[1], reverse = True)\n",
    "#print(word_counts)\n",
    "\n",
    "count_df = pandas.DataFrame(word_counts)\n",
    "print(count_df)\n"
   ]
  },
  {
   "cell_type": "code",
   "execution_count": 40,
   "metadata": {},
   "outputs": [
    {
     "data": {
      "text/plain": [
       "<matplotlib.axes._subplots.AxesSubplot at 0x13ef99650>"
      ]
     },
     "execution_count": 40,
     "metadata": {},
     "output_type": "execute_result"
    },
    {
     "data": {
      "image/png": "[encoded data removed]",
      "text/plain": [
       "<Figure size 432x288 with 1 Axes>"
      ]
     },
     "metadata": {},
     "output_type": "display_data"
    }
   ],
   "source": [
    "count_df.plot()"
   ]
  },
  {
   "cell_type": "code",
   "execution_count": 50,
   "metadata": {},
   "outputs": [
    {
     "name": "stdout",
     "output_type": "stream",
     "text": [
      "801\n"
     ]
    },
    {
     "data": {
      "image/png": "[encoded data removed]",
      "text/plain": [
       "<Figure size 432x288 with 1 Axes>"
      ]
     },
     "metadata": {},
     "output_type": "display_data"
    },
    {
     "data": {
      "text/plain": [
       "<matplotlib.axes._subplots.AxesSubplot at 0x13f927810>"
      ]
     },
     "execution_count": 50,
     "metadata": {},
     "output_type": "execute_result"
    }
   ],
   "source": [
    "sci_dist = nltk.ConditionalFreqDist(((len(w), w) for w in normalized_tokens['tokens']))\n",
    "print(sci_dist.N())\n",
    "sci_dist[3].plot()"
   ]
  },
  {
   "cell_type": "code",
   "execution_count": 51,
   "metadata": {},
   "outputs": [
    {
     "name": "stdout",
     "output_type": "stream",
     "text": [
      "go\n",
      "0.21212121212121213\n"
     ]
    }
   ],
   "source": [
    "sci_pdist = nltk.ConditionalProbDist(sci_dist, nltk.ELEProbDist)\n",
    "#print the most common 2 letter word\n",
    "print(sci_pdist[2].max())\n",
    "\n",
    "#And its probability\n",
    "print(sci_pdist[2].prob(sci_pdist[2].max()))"
   ]
  },
  {
   "cell_type": "code",
   "execution_count": 58,
   "metadata": {},
   "outputs": [
    {
     "data": {
      "text/plain": [
       "[('story', FreqDist({'NN': 1})),\n",
       " ('science', FreqDist({'NN': 1})),\n",
       " ('time', FreqDist({'NN': 1})),\n",
       " ('good', FreqDist({'JJ': 1})),\n",
       " ('writer', FreqDist({'NN': 1})),\n",
       " ('howard', FreqDist({'NNP': 1})),\n",
       " ('tell', FreqDist({'VB': 1})),\n",
       " ('great', FreqDist({'JJ': 1})),\n",
       " ('feel', FreqDist({'VB': 1})),\n",
       " ('like', FreqDist({'IN': 1}))]"
      ]
     },
     "execution_count": 58,
     "metadata": {},
     "output_type": "execute_result"
    }
   ],
   "source": [
    "def spacy_pos(word_list):\n",
    "    tags = []\n",
    "    doc = nlp(word_list.lower())\n",
    "    for w in doc:\n",
    "        tags.append((w.text, w.tag_))\n",
    "    return tags\n",
    "\n",
    "count_df['normalized_tokens_POS'] = [spacy_pos(t) for t in count_df.iloc[:,0]]\n",
    "sci_dist_WordtoPOS = nltk.ConditionalFreqDist(count_df['normalized_tokens_POS'].sum())\n",
    "list(sci_dist_WordtoPOS.items())[:10]\n"
   ]
  },
  {
   "cell_type": "code",
   "execution_count": 66,
   "metadata": {},
   "outputs": [
    {
     "data": {
      "image/png": "[encoded data removed]",
      "text/plain": [
       "<Figure size 432x288 with 1 Axes>"
      ]
     },
     "metadata": {},
     "output_type": "display_data"
    }
   ],
   "source": [
    "\n",
    "#sci_dist_POStoWord = nltk.ConditionalProbDist(sci_dist_POStoWord, nltk.ELEProbDist)\n",
    "wc = wordcloud.WordCloud(background_color=\"white\", max_words=500, width= 1000, height = 1000, mode ='RGBA', scale=.5).generate(' '.join(count_df.iloc[:,0]))\n",
    "plt.imshow(wc)\n",
    "plt.axis(\"off\")\n",
    "plt.savefig(\"scifi_word_cloud.pdf\", format = 'pdf')\n",
    "                                                                                                   \n"
   ]
  },
  {
   "cell_type": "code",
   "execution_count": null,
   "metadata": {},
   "outputs": [],
   "source": [
    "#Exercise 4"
   ]
  },
  {
   "cell_type": "code",
   "execution_count": 67,
   "metadata": {},
   "outputs": [
    {
     "name": "stdout",
     "output_type": "stream",
     "text": [
      "Tom PROPN NNP\n",
      "went VERB VBD\n",
      "to ADP IN\n",
      "IKEA PROPN NNP\n",
      "to PART TO\n",
      "get AUX VB\n",
      "some DET DT\n",
      "of ADP IN\n",
      "those DET DT\n",
      "delicious ADJ JJ\n",
      "Swedish ADJ JJ\n",
      "meatballs NOUN NNS\n",
      ". PUNCT .\n"
     ]
    }
   ],
   "source": [
    "sent = nlp(u\"Tom went to IKEA to get some of those delicious Swedish meatballs.\")\n",
    "for token in sent:\n",
    "    print(token.text, token.pos_, token.tag_)"
   ]
  },
  {
   "cell_type": "code",
   "execution_count": 69,
   "metadata": {},
   "outputs": [
    {
     "data": {
      "text/plain": [
       "<bound method NDFrame.head of     Unnamed: 0                   id  \\\n",
       "0            0  1250263302120374274   \n",
       "1            1  1250262920132538368   \n",
       "2            2  1250262559359471616   \n",
       "3            3  1250261970604797959   \n",
       "4            4  1250261634108600320   \n",
       "..         ...                  ...   \n",
       "95          95  1250208632257429505   \n",
       "96          96  1250208320184553472   \n",
       "97          97  1250208018823692291   \n",
       "98          98  1250207526865342464   \n",
       "99          99  1250207217279778818   \n",
       "\n",
       "                                                 text  \\\n",
       "0   Excited for the future when we all study gentr...   \n",
       "1   @lalaleahabel Methadone mile has clapped back ...   \n",
       "2   They warned y’all coons about gentrification n...   \n",
       "3   @BigAlDodgerfan Oh yeah, my bro told me about ...   \n",
       "4   RT @radicarol: very informative &amp; interact...   \n",
       "..                                                ...   \n",
       "95  @rewFer @maccoinnich I mean, gentrification is...   \n",
       "96  RT @Pramas: The Time Traveler's Codex for Muta...   \n",
       "97  @BETNews @BET @Essence @KDTrey5 @Beyonce @GSU_...   \n",
       "98  It’s not just Black ppl vs. COVID-19, it’s Bla...   \n",
       "99                RT @tylasade: I hate gentrification   \n",
       "\n",
       "                     location                 time  \n",
       "0               Michigan, USA  2020-04-15 03:22:54  \n",
       "1          Massachusetts, USA  2020-04-15 03:21:23  \n",
       "2                     SATURN   2020-04-15 03:19:57  \n",
       "3               New York, USA  2020-04-15 03:17:37  \n",
       "4                         NaN  2020-04-15 03:16:16  \n",
       "..                        ...                  ...  \n",
       "95          San Francisco, CA  2020-04-14 23:45:40  \n",
       "96          Behind the screen  2020-04-14 23:44:25  \n",
       "97                        NaN  2020-04-14 23:43:14  \n",
       "98            New Orleans, LA  2020-04-14 23:41:16  \n",
       "99  Screwston, Tx - Bklyn, NY  2020-04-14 23:40:02  \n",
       "\n",
       "[100 rows x 5 columns]>"
      ]
     },
     "execution_count": 69,
     "metadata": {},
     "output_type": "execute_result"
    }
   ],
   "source": [
    "DF = pandas.read_csv(\"/Users/shiyipeng/Documents/geo_analysis2.csv\")\n",
    "DF.head"
   ]
  },
  {
   "cell_type": "code",
   "execution_count": 71,
   "metadata": {},
   "outputs": [
    {
     "data": {
      "text/plain": [
       "<bound method NDFrame.head of     Unnamed: 0                   id  \\\n",
       "0            0  1250263302120374274   \n",
       "1            1  1250262920132538368   \n",
       "2            2  1250262559359471616   \n",
       "3            3  1250261970604797959   \n",
       "4            4  1250261634108600320   \n",
       "..         ...                  ...   \n",
       "95          95  1250208632257429505   \n",
       "96          96  1250208320184553472   \n",
       "97          97  1250208018823692291   \n",
       "98          98  1250207526865342464   \n",
       "99          99  1250207217279778818   \n",
       "\n",
       "                                                 text  \\\n",
       "0   Excited for the future when we all study gentr...   \n",
       "1   @lalaleahabel Methadone mile has clapped back ...   \n",
       "2   They warned y’all coons about gentrification n...   \n",
       "3   @BigAlDodgerfan Oh yeah, my bro told me about ...   \n",
       "4   RT @radicarol: very informative &amp; interact...   \n",
       "..                                                ...   \n",
       "95  @rewFer @maccoinnich I mean, gentrification is...   \n",
       "96  RT @Pramas: The Time Traveler's Codex for Muta...   \n",
       "97  @BETNews @BET @Essence @KDTrey5 @Beyonce @GSU_...   \n",
       "98  It’s not just Black ppl vs. COVID-19, it’s Bla...   \n",
       "99                RT @tylasade: I hate gentrification   \n",
       "\n",
       "                     location                 time  \\\n",
       "0               Michigan, USA  2020-04-15 03:22:54   \n",
       "1          Massachusetts, USA  2020-04-15 03:21:23   \n",
       "2                     SATURN   2020-04-15 03:19:57   \n",
       "3               New York, USA  2020-04-15 03:17:37   \n",
       "4                         NaN  2020-04-15 03:16:16   \n",
       "..                        ...                  ...   \n",
       "95          San Francisco, CA  2020-04-14 23:45:40   \n",
       "96          Behind the screen  2020-04-14 23:44:25   \n",
       "97                        NaN  2020-04-14 23:43:14   \n",
       "98            New Orleans, LA  2020-04-14 23:41:16   \n",
       "99  Screwston, Tx - Bklyn, NY  2020-04-14 23:40:02   \n",
       "\n",
       "                                            sentences  \n",
       "0   [[Excited, for, the, future, when, we, all, st...  \n",
       "1   [[@lalaleahabel, Methadone, mile, has, clapped...  \n",
       "2   [[They, warned, y’, all, coons, about, gentrif...  \n",
       "3   [[@BigAlDodgerfan], [Oh, yeah, my, bro, told, ...  \n",
       "4   [[RT, @radicarol, very, informative, amp, inte...  \n",
       "..                                                ...  \n",
       "95  [[@rewFer], [@maccoinnich], [I, mean, gentrifi...  \n",
       "96  [[RT, @Pramas], [The, Time, Traveler, 's, Code...  \n",
       "97  [[@BETNews, @BET, @Essence, @KDTrey5, @Beyonce...  \n",
       "98  [[It, ’s, not], [just, Black, ppl, vs., COVID-...  \n",
       "99       [[RT, @tylasade], [I, hate, gentrification]]  \n",
       "\n",
       "[100 rows x 6 columns]>"
      ]
     },
     "execution_count": 71,
     "metadata": {},
     "output_type": "execute_result"
    }
   ],
   "source": [
    "def sent_tokenize(word_list):\n",
    "    doc = nlp(word_list)\n",
    "    sentences = [sent.string.strip() for sent in doc.sents]\n",
    "    return sentences\n",
    "\n",
    "DF['sentences'] = DF['text'].apply(lambda x: [word_tokenize(s) for s in sent_tokenize(x)])\n",
    "DF.head"
   ]
  },
  {
   "cell_type": "code",
   "execution_count": 73,
   "metadata": {},
   "outputs": [
    {
     "data": {
      "text/plain": [
       "0     [[(Excited, VBN), (for, IN), (the, DT), (futur...\n",
       "1     [[(@lalaleahabel, NNP), (Methadone, NNP), (mil...\n",
       "2     [[(They, PRP), (warned, VBD), (y, NNP), (’, ''...\n",
       "3     [[(@BigAlDodgerfan, NNP)], [(Oh, UH)], [(yeah,...\n",
       "4     [[(RT, NNP), (@radicarol, NNP), (very, RB), (i...\n",
       "                            ...                        \n",
       "95    [[(@rewFer, NNP)], [(@maccoinnich, NNP)], [(I,...\n",
       "96    [[(RT, NNP), (@Pramas, NNP)], [(The, DT), (Tim...\n",
       "97    [[(@BETNews, NNP), (@BET, $), (@Essence, CD), ...\n",
       "98    [[(It, PRP), (’s, VBZ), (not, RB)], [(just, RB...\n",
       "99    [[(RT, NNP), (@tylasade, NNP)], [(I, PRP), (ha...\n",
       "Name: POS_sents, Length: 100, dtype: object"
      ]
     },
     "execution_count": 73,
     "metadata": {},
     "output_type": "execute_result"
    }
   ],
   "source": [
    "def tag_sents_pos(sentences):\n",
    "    \"\"\"\n",
    "    function which replicates NLTK pos tagging on sentences.\n",
    "    \"\"\"\n",
    "    new_sents = []\n",
    "    for sentence in sentences:\n",
    "        new_sent = ' '.join(sentence)\n",
    "        new_sents.append(new_sent)\n",
    "    final_string = ' '.join(new_sents)\n",
    "    doc = nlp(final_string)\n",
    "    \n",
    "    pos_sents = []\n",
    "    for sent in doc.sents:\n",
    "        pos_sent = []\n",
    "        for token in sent:\n",
    "            pos_sent.append((token.text, token.tag_))\n",
    "        pos_sents.append(pos_sent)\n",
    "    \n",
    "    return pos_sents\n",
    "\n",
    "DF['POS_sents'] = DF['sentences'].apply(lambda x: tag_sents_pos(x))\n",
    "DF['POS_sents']"
   ]
  },
  {
   "cell_type": "code",
   "execution_count": 74,
   "metadata": {},
   "outputs": [
    {
     "data": {
      "text/plain": [
       "[('gentrification', 63),\n",
       " ('housing', 7),\n",
       " ('amp', 6),\n",
       " ('way', 6),\n",
       " ('man', 5),\n",
       " ('legend', 4),\n",
       " ('owner', 4),\n",
       " ('ppl', 4),\n",
       " ('today', 4),\n",
       " ('policy', 4),\n",
       " ('guide', 3),\n",
       " ('energy', 3),\n",
       " ('h', 3),\n",
       " ('reason', 3),\n",
       " ('capitalism', 3),\n",
       " ('tech', 3),\n",
       " ('institution', 3),\n",
       " ('racism', 3),\n",
       " ('section', 3),\n",
       " ('history', 3)]"
      ]
     },
     "execution_count": 74,
     "metadata": {},
     "output_type": "execute_result"
    }
   ],
   "source": [
    "countTarget = 'NN'\n",
    "targetCounts = {}\n",
    "for entry in DF['POS_sents']:\n",
    "    for sentence in entry:\n",
    "        for ent, kind in sentence:\n",
    "            if kind != countTarget:\n",
    "                continue\n",
    "            elif ent in targetCounts:\n",
    "                targetCounts[ent] += 1\n",
    "            else:\n",
    "                targetCounts[ent] = 1\n",
    "sortedTargets = sorted(targetCounts.items(), key = lambda x: x[1], reverse = True)\n",
    "sortedTargets[:20]"
   ]
  },
  {
   "cell_type": "code",
   "execution_count": 76,
   "metadata": {},
   "outputs": [
    {
     "name": "stdout",
     "output_type": "stream",
     "text": [
      "{'former'}\n"
     ]
    }
   ],
   "source": [
    "NTarget = 'JJ'\n",
    "Word = 'city'\n",
    "NResults = set()\n",
    "for entry in DF['POS_sents']:\n",
    "    for sentence in entry:\n",
    "        for (ent1, kind1),(ent2,kind2) in zip(sentence[:-1], sentence[1:]):\n",
    "            if (kind1,ent2.lower())==(NTarget,Word):\n",
    "                NResults.add(ent1)\n",
    "            else:\n",
    "                continue\n",
    "\n",
    "print(NResults)"
   ]
  },
  {
   "cell_type": "code",
   "execution_count": 78,
   "metadata": {},
   "outputs": [
    {
     "name": "stdout",
     "output_type": "stream",
     "text": [
      "There are 3184 bigrams in the finder\n"
     ]
    }
   ],
   "source": [
    "#Exercise 5\n",
    "Bigrams = nltk.collocations.BigramCollocationFinder.from_words(count_df.iloc[:,0].sum())\n",
    "print(\"There are {} bigrams in the finder\".format(Bigrams.N))\n"
   ]
  },
  {
   "cell_type": "code",
   "execution_count": 79,
   "metadata": {},
   "outputs": [
    {
     "name": "stdout",
     "output_type": "stream",
     "text": [
      "[('r', 'e'), ('i', 'n'), ('e', 'r'), ('a', 'r'), ('e', 'a'), ('o', 'n'), ('t', 'e'), ('e', 's'), ('l', 'e'), ('a', 't')]\n"
     ]
    }
   ],
   "source": [
    "def bigramScoring(count, wordsTuple, total):\n",
    "    return count\n",
    "\n",
    "print(Bigrams.nbest(bigramScoring, 10))"
   ]
  },
  {
   "cell_type": "code",
   "execution_count": 80,
   "metadata": {},
   "outputs": [
    {
     "name": "stdout",
     "output_type": "stream",
     "text": [
      "The first word is:  183, The second word is: 218\n",
      "The first word is:  218, The second word is: 184\n",
      "The first word is:  184, The second word is: 249\n",
      "The first word is:  249, The second word is: 89\n",
      "The first word is:  89, The second word is: 183\n",
      "The first word is:  183, The second word is: 124\n",
      "The first word is:  124, The second word is: 240\n",
      "The first word is:  240, The second word is: 393\n",
      "The first word is:  393, The second word is: 200\n",
      "The first word is:  200, The second word is: 124\n"
     ]
    }
   ],
   "source": [
    "birgramScores = []\n",
    "\n",
    "def bigramPrinting(count, wordsTuple, total):\n",
    "    global birgramScores\n",
    "    birgramScores.append(\"The first word is:  {}, The second word is: {}\".format(*wordsTuple))\n",
    "    #Returns None so all the tuples are considered to have the same rank\n",
    "\n",
    "Bigrams.nbest(bigramPrinting, 10)\n",
    "print('\\n'.join(birgramScores[:10]))"
   ]
  },
  {
   "cell_type": "code",
   "execution_count": 81,
   "metadata": {},
   "outputs": [
    {
     "data": {
      "text/plain": [
       "[(('i', 'n'), 90.71914392464943),\n",
       " (('l', 'y'), 76.46180048547248),\n",
       " (('o', 'n'), 58.75807570587229),\n",
       " (('n', 'g'), 50.35093565533436),\n",
       " (('v', 'e'), 40.36635429904639),\n",
       " (('c', 'o'), 34.765732967547024),\n",
       " (('b', 'l'), 33.90101230122686),\n",
       " (('q', 'u'), 33.60177762745389),\n",
       " (('a', 'r'), 33.43550549492331),\n",
       " (('e', 'e'), 33.369249565458695),\n",
       " (('a', 'a'), 33.19267953321488),\n",
       " (('e', 'i'), 32.363659648129484),\n",
       " (('i', 'i'), 31.06502643557694),\n",
       " (('r', 'e'), 30.461891936445554),\n",
       " (('t', 'h'), 28.395898108902912),\n",
       " (('n', 'd'), 26.421184091309932),\n",
       " (('n', 'r'), 25.892698068024792),\n",
       " (('s', 't'), 25.423769324641768),\n",
       " (('n', 't'), 23.531969240349305),\n",
       " (('t', 'n'), 21.829781067631078),\n",
       " (('d', 'e'), 20.461508267051897),\n",
       " (('o', 'a'), 20.04509955600153),\n",
       " (('o', 'r'), 19.293771754505954),\n",
       " (('e', 'r'), 18.648623455839832),\n",
       " (('u', 'r'), 18.617532865571164),\n",
       " (('i', 'e'), 18.12694069866469),\n",
       " (('s', 'n'), 17.348604863506225),\n",
       " (('e', 'o'), 17.179353277503182),\n",
       " (('h', 'o'), 16.22752361846168),\n",
       " (('e', 'x'), 16.048001698188536),\n",
       " (('f', 'f'), 15.883682952364788),\n",
       " (('i', 'v'), 15.668503147480715),\n",
       " (('t', 'i'), 15.643847773563657),\n",
       " (('s', 's'), 14.863597397824865),\n",
       " (('h', 'a'), 14.499307836700712),\n",
       " (('c', 'h'), 13.837113673872008),\n",
       " (('s', 'h'), 13.805799661474534),\n",
       " (('m', 'o'), 13.440848042738814),\n",
       " (('y', 'b'), 13.088795717679817),\n",
       " (('f', 'i'), 12.892355433209357)]"
      ]
     },
     "execution_count": 81,
     "metadata": {},
     "output_type": "execute_result"
    }
   ],
   "source": [
    "bigram_measures = nltk.collocations.BigramAssocMeasures()\n",
    "Bigrams.score_ngrams(bigram_measures.likelihood_ratio)[:40]"
   ]
  },
  {
   "cell_type": "code",
   "execution_count": 83,
   "metadata": {},
   "outputs": [
    {
     "data": {
      "text/plain": [
       "[(('i', 'o', 'n'), 4.037299206256547),\n",
       " (('i', 'n', 'g'), 4.034683411874016),\n",
       " (('t', 'i', 'o'), 3.6277983950965362),\n",
       " (('t', 'e', 'r'), 3.612744234836283),\n",
       " (('e', 's', 's'), 3.5377841394751575),\n",
       " (('u', 'r', 'e'), 3.450142857614115),\n",
       " (('e', 'n', 't'), 3.436580783768213),\n",
       " (('a', 't', 'i'), 3.3789024363669062),\n",
       " (('t', 'u', 'r'), 3.134196653171381),\n",
       " (('s', 't', 'a'), 3.004577172822271),\n",
       " (('i', 'v', 'e'), 2.900760081816116),\n",
       " (('e', 'a', 'd'), 2.7721672397998263),\n",
       " (('a', 'l', 'l'), 2.6976071008833955),\n",
       " (('i', 't', 'y'), 2.666034376986726),\n",
       " (('y', 'r', 'e'), 2.524694955069243),\n",
       " (('e', 'c', 'o'), 2.5157177170773477),\n",
       " (('h', 'e', 'a'), 2.5004084425171222),\n",
       " (('l', 'y', 'r'), 2.491248700419021),\n",
       " (('n', 'c', 'e'), 2.488525594671361),\n",
       " (('e', 's', 't'), 2.48449514374637)]"
      ]
     },
     "execution_count": 83,
     "metadata": {},
     "output_type": "execute_result"
    }
   ],
   "source": [
    "trigram_measures = nltk.collocations.TrigramAssocMeasures()\n",
    "Trigrams = nltk.collocations.TrigramCollocationFinder.from_words(count_df.iloc[:,0].sum())\n",
    "Trigrams.score_ngrams(trigram_measures.student_t)[:20]"
   ]
  },
  {
   "cell_type": "code",
   "execution_count": 86,
   "metadata": {},
   "outputs": [
    {
     "name": "stdout",
     "output_type": "stream",
     "text": [
      "{('e', 'n', 'c', 'e'): 2, ('n', 'c', 'e', 't'): 2, ('w', 'r', 'i', 't'): 2, ('r', 'i', 't', 'e'): 2, ('i', 't', 'e', 'r'): 2, ('t', 'e', 'r', 'h'): 2, ('g', 'r', 'e', 'a'): 2, ('r', 'e', 'a', 't'): 3, ('e', 'a', 't', 'f'): 2, ('l', 'i', 'g', 'h'): 2, ('i', 'g', 'h', 't'): 5, ('g', 'h', 't', 't'): 2, ('t', 'h', 'i', 'n'): 3, ('i', 'e', 'l', 'd'): 2, ('r', 'o', 'w', 'n'): 2, ('e', 'n', 'd', 'i'): 2, ('n', 'd', 'i', 'n'): 3, ('d', 'i', 'n', 'g'): 3, ('r', 'k', 'n', 'e'): 2, ('r', 'e', 'm', 'e'): 2, ('m', 'b', 'e', 'r'): 4, ('p', 'e', 'r', 's'): 4, ('e', 'r', 's', 'o'): 3, ('r', 's', 'o', 'n'): 3, ('s', 'o', 'n', 'a'): 2, ('o', 'n', 'a', 'l'): 4, ('r', 'e', 'v', 'i'): 2, ('v', 'i', 'e', 'w'): 2, ('a', 'n', 'd', 'c'): 2, ('n', 'd', 'c', 'o'): 3, ('c', 'o', 'r', 'd'): 2, ('o', 'r', 'd', 'e'): 3, ('r', 'd', 'e', 'l'): 2, ('e', 'd', 'i', 't'): 2, ('d', 'i', 't', 'o'): 2, ('i', 't', 'o', 'r'): 2, ('t', 'o', 'r', 'i'): 2, ('i', 's', 's', 'u'): 2, ('f', 'o', 'r', 't'): 2, ('e', 's', 't', 'a'): 6, ('s', 't', 'a', 'n'): 4, ('d', 'l', 'i', 'n'): 2, ('l', 'i', 'n', 'e'): 2, ('e', 'c', 'o', 'n'): 3, ('c', 'o', 'n', 't'): 2, ('e', 'a', 't', 'e'): 2, ('t', 'e', 'w', 'o'): 2, ('e', 'w', 'o', 'r'): 3, ('v', 'e', 'm', 'a'): 2, ('e', 'm', 'a', 'n'): 2, ('h', 'a', 'r', 'd'): 2, ('p', 'u', 'b', 'l'): 5, ('u', 'b', 'l', 'i'): 5, ('b', 'l', 'i', 's'): 4, ('l', 'i', 's', 'h'): 4, ('h', 'i', 'n', 'g'): 3, ('i', 'n', 'g', 'c'): 3, ('n', 'g', 'c', 'o'): 2, ('c', 'o', 'm', 'p'): 4, ('o', 'm', 'p', 'a'): 2, ('y', 'i', 'n', 'c'): 2, ('o', 'n', 'd', 'o'): 2, ('s', 'a', 'p', 'p'): 2, ('a', 'p', 'p', 'e'): 2, ('p', 'p', 'e', 'a'): 2, ('p', 'e', 'a', 'r'): 2, ('i', 'n', 't', 'c'): 2, ('w', 'o', 'r', 'k'): 2, ('h', 'o', 'r', 't'): 2, ('l', 'e', 't', 'e'): 2, ('e', 't', 'e', 'r'): 3, ('t', 'e', 'r', 'm'): 2, ('t', 'a', 'n', 'c'): 3, ('a', 'n', 'c', 'e'): 4, ('e', 'p', 'a', 'r'): 3, ('p', 'a', 'r', 't'): 2, ('m', 'e', 'n', 't'): 3, ('n', 't', 'c', 'o'): 2, ('c', 'o', 'p', 'y'): 3, ('y', 'l', 'a', 'r'): 2, ('l', 'a', 'r', 'g'): 2, ('a', 'r', 'g', 'e'): 2, ('n', 'u', 'm', 'b'): 4, ('u', 'm', 'b', 'e'): 3, ('r', 'e', 'a', 'd'): 2, ('e', 'a', 'd', 'e'): 3, ('e', 'r', 'w', 'i'): 2, ('l', 'e', 'a', 'd'): 2, ('n', 'o', 'v', 'e'): 2, ('l', 'i', 's', 't'): 2, ('m', 'a', 's', 't'): 2, ('a', 's', 't', 'e'): 2, ('s', 't', 'e', 'r'): 4, ('t', 'e', 'r', 'p'): 4, ('p', 'i', 'e', 'c'): 2, ('i', 'e', 'c', 'e'): 2, ('e', 'r', 't', 'a'): 2, ('t', 'a', 'i', 'n'): 2, ('e', 't', 'r', 'e'): 2, ('e', 'n', 't', 'i'): 2, ('r', 'e', 'l', 'y'): 2, ('l', 'y', 'l', 'o'): 2, ('c', 'k', 'e', 'x'): 2, ('e', 'x', 'p', 'r'): 2, ('x', 'p', 'r', 'e'): 2, ('p', 'r', 'e', 's'): 2, ('r', 'e', 's', 's'): 3, ('e', 's', 's', 'i'): 4, ('s', 's', 'i', 'o'): 3, ('s', 'i', 'o', 'n'): 3, ('o', 'v', 'e', 'r'): 3, ('h', 'e', 'a', 'd'): 4, ('t', 'c', 'h', 's'): 2, ('h', 'a', 'i', 'r'): 2, ('a', 'i', 'r', 's'): 2, ('w', 'a', 'l', 'l'): 2, ('s', 'e', 'a', 't'): 2, ('u', 'r', 'e', 'h'): 3, ('r', 'e', 'h', 'e'): 4, ('e', 'h', 'e', 'a'): 3, ('e', 'a', 'd', 'd'): 2, ('a', 'd', 'd', 'r'): 2, ('n', 'c', 'e', 'p'): 3, ('e', 'p', 'u', 'b'): 3, ('b', 'l', 'i', 'c'): 2, ('l', 'i', 'c', 'a'): 2, ('i', 'c', 'a', 't'): 4, ('c', 'a', 't', 'i'): 4, ('a', 't', 'i', 'o'): 10, ('t', 'i', 'o', 'n'): 15, ('i', 'o', 'n', 'a'): 5, ('s', 'u', 'r', 'e'): 3, ('e', 'n', 't', 'h'): 2, ('t', 'e', 'r', 'r'): 2, ('e', 'r', 'r', 'i'): 2, ('t', 'u', 'r', 'e'): 9, ('a', 'm', 'm', 'e'): 2, ('m', 'm', 'e', 'r'): 2, ('a', 'c', 'k', 'g'): 2, ('r', 's', 'h', 'a'): 2, ('e', 'b', 'a', 'l'): 2, ('h', 'c', 'o', 'm'): 2, ('m', 'p', 'l', 'e'): 3, ('e', 'r', 'b', 'i'): 2, ('m', 'o', 'n', 't'): 2, ('o', 'n', 't', 'h'): 2, ('l', 'y', 'k', 'i'): 2, ('y', 'k', 'i', 'n'): 2, ('i', 'n', 'g', 's'): 5, ('n', 'v', 'o', 'l'): 2, ('v', 'o', 'l', 'u'): 2, ('o', 'l', 'u', 'm'): 2, ('e', 'c', 'o', 'p'): 2, ('n', 't', 'r', 'y'): 2, ('c', 'l', 'a', 's'): 2, ('l', 'a', 's', 's'): 2, ('t', 't', 'e', 'r'): 3, ('p', 'o', 's', 't'): 2, ('s', 'c', 'r', 'i'): 2, ('h', 'a', 'n', 'g'): 2, ('l', 'a', 'r', 'i'): 2, ('a', 'r', 'i', 't'): 2, ('r', 'i', 't', 'y'): 3, ('t', 'y', 'a', 'c'): 2, ('c', 'i', 'd', 'e'): 2, ('e', 'n', 't', 'a'): 3, ('l', 'e', 'c', 't'): 2, ('i', 't', 'y', 't'): 2, ('i', 'n', 'd', 'i'): 2, ('n', 'd', 'i', 'c'): 2, ('d', 'i', 'c', 'a'): 2, ('a', 't', 'i', 'v'): 4, ('t', 'i', 'v', 'e'): 6, ('t', 'e', 'n', 't'): 2, ('t', 'a', 't', 'i'): 2, ('i', 'v', 'e', 'm'): 2, ('e', 'm', 'o', 'r'): 3, ('n', 'i', 'n', 'g'): 2, ('a', 'r', 'i', 'l'): 3, ('r', 'i', 'l', 'y'): 3, ('t', 'h', 'o', 'u'): 2, ('o', 'u', 'g', 'h'): 2, ('f', 'o', 'r', 'm'): 3, ('o', 'r', 'm', 'a'): 2, ('r', 'm', 'a', 't'): 2, ('m', 'a', 't', 'i'): 2, ('e', 'n', 't', 'e'): 2, ('g', 'e', 'n', 'e'): 2, ('e', 'n', 'e', 'r'): 2, ('h', 'e', 'a', 'r'): 2, ('a', 'r', 't', 'e'): 2, ('a', 's', 's', 'i'): 2, ('s', 'i', 's', 't'): 2, ('i', 's', 't', 'a'): 2, ('c', 'e', 'b', 'u'): 2, ('a', 'i', 'n', 't'): 2, ('a', 'i', 'n', 'f'): 2, ('h', 'o', 'n', 'e'): 2, ('o', 'n', 'e', 's'): 2, ('c', 'e', 's', 's'): 2, ('s', 'h', 'a', 'r'): 2, ('d', 'e', 'f', 'i'): 3, ('e', 'f', 'i', 'n'): 2, ('f', 'i', 'n', 'i'): 3, ('i', 'n', 'i', 't'): 3, ('n', 'i', 't', 'e'): 2, ('t', 'e', 'l', 'y'): 2, ('r', 'e', 'l', 'a'): 2, ('l', 'a', 't', 'i'): 2, ('d', 'e', 's', 'c'): 2, ('a', 't', 'u', 'r'): 2, ('c', 'a', 't', 'e'): 2, ('r', 'i', 'c', 'e'): 2, ('e', 'b', 'u', 'r'): 2, ('m', 'e', 'm', 'o'): 2, ('a', 'b', 'l', 'e'): 3, ('r', 'i', 'l', 'l'): 2, ('a', 'n', 'k', 'l'): 2, ('e', 't', 't', 'e'): 2, ('s', 'u', 'a', 'l'): 3, ('u', 'a', 'l', 'l'): 2, ('a', 'l', 'l', 'y'): 4, ('l', 'y', 'r', 'e'): 5, ('e', 'c', 't', 'i'): 2, ('e', 'c', 'i', 'a'): 2, ('n', 't', 'e', 'r'): 2, ('s', 't', 'a', 'r'): 3, ('t', 'a', 'r', 't'): 2, ('n', 't', 'b', 'u'): 2, ('d', 'l', 'e', 't'): 2, ('f', 'a', 'n', 'z'): 2, ('a', 'n', 'z', 'i'): 2, ('n', 'z', 'i', 'n'): 2, ('z', 'i', 'n', 'e'): 2, ('a', 'l', 'p', 'r'): 2, ('t', 'a', 'b', 'l'): 3, ('n', 'i', 't', 'y'): 3, ('s', 't', 'a', 'g'): 2, ('r', 'i', 'n', 'g'): 3, ('r', 'e', 'm', 'i'): 2, ('c', 'o', 'n', 'c'): 2, ('d', 'c', 'o', 'n'): 2, ('c', 'o', 'n', 'v'): 2, ('o', 'n', 'v', 'e'): 2, ('a', 'l', 'c', 'h'): 2, ('o', 'n', 'l', 'e'): 2, ('r', 'y', 'h', 'o'): 3, ('y', 'r', 'e', 'l'): 2, ('e', 'c', 'e', 's'): 2, ('y', 'r', 'e', 'g'): 2, ('r', 'e', 'g', 'a'): 2, ('e', 'g', 'a', 'r'): 2, ('g', 'a', 'r', 'd'): 2, ('a', 'r', 'd', 'l'): 2, ('r', 'd', 'l', 'e'): 2, ('d', 'l', 'e', 's'): 2, ('l', 'e', 's', 's'): 6, ('n', 'c', 'o', 'm'): 2, ('e', 'a', 'r', 'f'): 3, ('a', 'r', 'f', 'u'): 2, ('r', 'o', 'n', 'g'): 2, ('i', 'n', 'g', 'b'): 2, ('n', 'g', 'b', 'e'): 2, ('e', 'd', 'r', 'i'): 2, ('d', 'd', 'e', 'n'): 2, ('d', 'e', 'n', 'l'): 2, ('p', 'a', 'r', 'a'): 2, ('e', 'e', 'p', 's'): 3, ('t', 'h', 'm', 'o'): 2, ('i', 'n', 'g', 'r'): 3, ('n', 'g', 'r', 'e'): 2, ('u', 'n', 'n', 'u'): 2, ('n', 'n', 'u', 'm'): 2, ('b', 'e', 'r', 'e'): 2, ('n', 'd', 'e', 'r'): 2, ('o', 'r', 'e', 'h'): 2, ('s', 'm', 'o', 't'): 2, ('t', 'h', 'e', 'r'): 3, ('n', 'e', 's', 's'): 3, ('e', 's', 's', 'w'): 2, ('t', 'e', 'r', 'd'): 2, ('m', 'o', 't', 'i'): 2, ('i', 'l', 'e', 's'): 2, ('r', 'd', 'e', 'r'): 2, ('e', 'l', 'i', 'e'): 2, ('p', 'a', 'i', 'n'): 2, ('a', 'l', 'l', 'o'): 2, ('i', 'x', 't', 'u'): 2, ('x', 't', 'u', 'r'): 2, ('i', 'o', 'n', 'd'): 2, ('n', 'g', 'r', 'a'): 2, ('g', 'r', 'a', 'y'): 2, ('p', 'l', 'e', 'a'): 2, ('i', 'n', 'e', 's'): 2, ('i', 'o', 'n', 'c'): 2, ('c', 'a', 's', 'u'): 2, ('a', 's', 'u', 'a'): 2, ('c', 'e', 'n', 't'): 2, ('l', 'y', 'd', 'e'): 2, ('y', 'd', 'e', 'e'): 2, ('d', 'e', 'e', 'p'): 3, ('s', 't', 'u', 'r'): 2, ('o', 'u', 's', 'l'): 2, ('u', 's', 'l', 'y'): 2, ('d', 'a', 'r', 'k'): 2, ('m', 'i', 'n', 'd'): 2, ('i', 'n', 'd', 'c'): 2, ('c', 'i', 'r', 'c'): 2, ('e', 's', 's', 'g'): 2, ('e', 'p', 's', 'e'): 2, ('u', 'r', 'e', 'b'): 2, ('e', 'l', 'y', 'r'): 2, ('o', 'u', 'n', 'd'): 2, ('l', 'l', 'o', 'w'): 2, ('o', 'n', 'd', 'e'): 2, ('w', 'i', 't', 'c'): 2, ('e', 'y', 'e', 's'): 2, ('u', 'm', 'b', 'l'): 2}\n"
     ]
    }
   ],
   "source": [
    "Ngrams = nltk.ngrams(count_df.iloc[:,0].sum(), 4)\n",
    "Counts = {}\n",
    "for ngram in list(Ngrams):\n",
    "    if ngram in Counts.keys():\n",
    "        Counts[ngram] += 1\n",
    "    else:\n",
    "        Counts[ngram] = 1\n",
    "Filtered = {}\n",
    "for key in Counts.keys():\n",
    "    if Counts[key] < 2:\n",
    "        pass\n",
    "    else:\n",
    "        Filtered[key] = Counts[key]\n",
    "print(Filtered)"
   ]
  },
  {
   "cell_type": "code",
   "execution_count": 92,
   "metadata": {},
   "outputs": [
    {
     "name": "stdout",
     "output_type": "stream",
     "text": [
      "Excited \n",
      "for \n",
      "the \n",
      "future \n",
      "when \n",
      "we \n",
      "all \n",
      "study \n",
      "gentrification \n",
      "in \n",
      "one CARDINAL\n",
      "2 FAC\n",
      "square FAC\n",
      "block \n",
      "area \n",
      "in \n",
      "Korea GPE\n",
      ". \n"
     ]
    }
   ],
   "source": [
    "#Exercise 6\n",
    "ner_text = DF['text'][0]\n",
    "sent = nlp(ner_text)\n",
    "for token in sent:\n",
    "    print(token.text, token.ent_type_)"
   ]
  },
  {
   "cell_type": "code",
   "execution_count": 89,
   "metadata": {},
   "outputs": [
    {
     "name": "stdout",
     "output_type": "stream",
     "text": [
      "one CARDINAL\n",
      "2 square FAC\n",
      "Korea GPE\n"
     ]
    }
   ],
   "source": [
    "for ent in sent.ents:\n",
    "    print(ent.text, ent.label_)"
   ]
  },
  {
   "cell_type": "code",
   "execution_count": 93,
   "metadata": {},
   "outputs": [
    {
     "data": {
      "text/plain": [
       "0     [[(one, CARDINAL), (2 square, FAC), (Korea, GP...\n",
       "1                                                  [[]]\n",
       "2                                                  [[]]\n",
       "3                              [[], [], [], [], [], []]\n",
       "4     [[(RT @radicarol, ORG), (Charlottesville, ORG)...\n",
       "                            ...                        \n",
       "95                                     [[], [], [], []]\n",
       "96    [[], [(today, DATE)], [(NYC, ORG), (the 80s, D...\n",
       "97                                     [[], [], [], []]\n",
       "98                             [[], [], [], [], [], []]\n",
       "99                                             [[], []]\n",
       "Name: classified_sents, Length: 100, dtype: object"
      ]
     },
     "execution_count": 93,
     "metadata": {},
     "output_type": "execute_result"
    }
   ],
   "source": [
    "\n",
    "def tag_sents_ner(sentences):\n",
    "    \"\"\"\n",
    "    function which replicates NLTK ner tagging on sentences.\n",
    "    \"\"\"\n",
    "    new_sents = []\n",
    "    for sentence in sentences:\n",
    "        new_sent = ' '.join(sentence)\n",
    "        new_sents.append(new_sent)\n",
    "    final_string = ' '.join(new_sents)\n",
    "    doc = nlp(final_string)\n",
    "    \n",
    "    pos_sents = []\n",
    "    for sent in doc.sents:\n",
    "        pos_sent = []\n",
    "        for ent in sent.ents:\n",
    "            pos_sent.append((ent.text, ent.label_))\n",
    "        pos_sents.append(pos_sent)\n",
    "    \n",
    "    return pos_sents\n",
    "\n",
    "DF['classified_sents'] = DF['sentences'].apply(lambda x: tag_sents_ner(x))\n",
    "DF['classified_sents']"
   ]
  },
  {
   "cell_type": "code",
   "execution_count": 94,
   "metadata": {},
   "outputs": [
    {
     "data": {
      "text/plain": [
       "[('RT', 6),\n",
       " ('New York', 4),\n",
       " ('R.I.P.', 4),\n",
       " ('Jimmy Web Trash and Vaudevilles', 4),\n",
       " ('LA', 4),\n",
       " ('today', 4),\n",
       " ('Henderson', 3),\n",
       " ('first', 3),\n",
       " ('one', 2),\n",
       " ('Charlottesville', 2)]"
      ]
     },
     "execution_count": 94,
     "metadata": {},
     "output_type": "execute_result"
    }
   ],
   "source": [
    "entityCounts = {}\n",
    "for entry in DF['classified_sents']:\n",
    "    for sentence in entry:\n",
    "        for ent, kind in sentence:\n",
    "            if ent in entityCounts:\n",
    "                entityCounts[ent] += 1\n",
    "            else:\n",
    "                entityCounts[ent] = 1\n",
    "sortedEntities = sorted(entityCounts.items(), key = lambda x: x[1], reverse = True)\n",
    "sortedEntities[:10]"
   ]
  },
  {
   "cell_type": "code",
   "execution_count": 97,
   "metadata": {},
   "outputs": [
    {
     "data": {
      "text/html": [
       "<span class=\"tex2jax_ignore\"><svg xmlns=\"http://www.w3.org/2000/svg\" xmlns:xlink=\"http://www.w3.org/1999/xlink\" xml:lang=\"en\" id=\"6d9b4dff64264b109e6457fdc8cd7b3a-0\" class=\"displacy\" width=\"3025\" height=\"662.0\" direction=\"ltr\" style=\"max-width: none; height: 662.0px; color: #000000; background: #ffffff; font-family: Arial; direction: ltr\">\n",
       "<text class=\"displacy-token\" fill=\"currentColor\" text-anchor=\"middle\" y=\"572.0\">\n",
       "    <tspan class=\"displacy-word\" fill=\"currentColor\" x=\"50\">Excited</tspan>\n",
       "    <tspan class=\"displacy-tag\" dy=\"2em\" fill=\"currentColor\" x=\"50\">VERB</tspan>\n",
       "</text>\n",
       "\n",
       "<text class=\"displacy-token\" fill=\"currentColor\" text-anchor=\"middle\" y=\"572.0\">\n",
       "    <tspan class=\"displacy-word\" fill=\"currentColor\" x=\"225\">for</tspan>\n",
       "    <tspan class=\"displacy-tag\" dy=\"2em\" fill=\"currentColor\" x=\"225\">ADP</tspan>\n",
       "</text>\n",
       "\n",
       "<text class=\"displacy-token\" fill=\"currentColor\" text-anchor=\"middle\" y=\"572.0\">\n",
       "    <tspan class=\"displacy-word\" fill=\"currentColor\" x=\"400\">the</tspan>\n",
       "    <tspan class=\"displacy-tag\" dy=\"2em\" fill=\"currentColor\" x=\"400\">DET</tspan>\n",
       "</text>\n",
       "\n",
       "<text class=\"displacy-token\" fill=\"currentColor\" text-anchor=\"middle\" y=\"572.0\">\n",
       "    <tspan class=\"displacy-word\" fill=\"currentColor\" x=\"575\">future</tspan>\n",
       "    <tspan class=\"displacy-tag\" dy=\"2em\" fill=\"currentColor\" x=\"575\">NOUN</tspan>\n",
       "</text>\n",
       "\n",
       "<text class=\"displacy-token\" fill=\"currentColor\" text-anchor=\"middle\" y=\"572.0\">\n",
       "    <tspan class=\"displacy-word\" fill=\"currentColor\" x=\"750\">when</tspan>\n",
       "    <tspan class=\"displacy-tag\" dy=\"2em\" fill=\"currentColor\" x=\"750\">ADV</tspan>\n",
       "</text>\n",
       "\n",
       "<text class=\"displacy-token\" fill=\"currentColor\" text-anchor=\"middle\" y=\"572.0\">\n",
       "    <tspan class=\"displacy-word\" fill=\"currentColor\" x=\"925\">we</tspan>\n",
       "    <tspan class=\"displacy-tag\" dy=\"2em\" fill=\"currentColor\" x=\"925\">PRON</tspan>\n",
       "</text>\n",
       "\n",
       "<text class=\"displacy-token\" fill=\"currentColor\" text-anchor=\"middle\" y=\"572.0\">\n",
       "    <tspan class=\"displacy-word\" fill=\"currentColor\" x=\"1100\">all</tspan>\n",
       "    <tspan class=\"displacy-tag\" dy=\"2em\" fill=\"currentColor\" x=\"1100\">DET</tspan>\n",
       "</text>\n",
       "\n",
       "<text class=\"displacy-token\" fill=\"currentColor\" text-anchor=\"middle\" y=\"572.0\">\n",
       "    <tspan class=\"displacy-word\" fill=\"currentColor\" x=\"1275\">study</tspan>\n",
       "    <tspan class=\"displacy-tag\" dy=\"2em\" fill=\"currentColor\" x=\"1275\">VERB</tspan>\n",
       "</text>\n",
       "\n",
       "<text class=\"displacy-token\" fill=\"currentColor\" text-anchor=\"middle\" y=\"572.0\">\n",
       "    <tspan class=\"displacy-word\" fill=\"currentColor\" x=\"1450\">gentrification</tspan>\n",
       "    <tspan class=\"displacy-tag\" dy=\"2em\" fill=\"currentColor\" x=\"1450\">NOUN</tspan>\n",
       "</text>\n",
       "\n",
       "<text class=\"displacy-token\" fill=\"currentColor\" text-anchor=\"middle\" y=\"572.0\">\n",
       "    <tspan class=\"displacy-word\" fill=\"currentColor\" x=\"1625\">in</tspan>\n",
       "    <tspan class=\"displacy-tag\" dy=\"2em\" fill=\"currentColor\" x=\"1625\">ADP</tspan>\n",
       "</text>\n",
       "\n",
       "<text class=\"displacy-token\" fill=\"currentColor\" text-anchor=\"middle\" y=\"572.0\">\n",
       "    <tspan class=\"displacy-word\" fill=\"currentColor\" x=\"1800\">one</tspan>\n",
       "    <tspan class=\"displacy-tag\" dy=\"2em\" fill=\"currentColor\" x=\"1800\">NUM</tspan>\n",
       "</text>\n",
       "\n",
       "<text class=\"displacy-token\" fill=\"currentColor\" text-anchor=\"middle\" y=\"572.0\">\n",
       "    <tspan class=\"displacy-word\" fill=\"currentColor\" x=\"1975\">2</tspan>\n",
       "    <tspan class=\"displacy-tag\" dy=\"2em\" fill=\"currentColor\" x=\"1975\">NUM</tspan>\n",
       "</text>\n",
       "\n",
       "<text class=\"displacy-token\" fill=\"currentColor\" text-anchor=\"middle\" y=\"572.0\">\n",
       "    <tspan class=\"displacy-word\" fill=\"currentColor\" x=\"2150\">square</tspan>\n",
       "    <tspan class=\"displacy-tag\" dy=\"2em\" fill=\"currentColor\" x=\"2150\">ADJ</tspan>\n",
       "</text>\n",
       "\n",
       "<text class=\"displacy-token\" fill=\"currentColor\" text-anchor=\"middle\" y=\"572.0\">\n",
       "    <tspan class=\"displacy-word\" fill=\"currentColor\" x=\"2325\">block</tspan>\n",
       "    <tspan class=\"displacy-tag\" dy=\"2em\" fill=\"currentColor\" x=\"2325\">NOUN</tspan>\n",
       "</text>\n",
       "\n",
       "<text class=\"displacy-token\" fill=\"currentColor\" text-anchor=\"middle\" y=\"572.0\">\n",
       "    <tspan class=\"displacy-word\" fill=\"currentColor\" x=\"2500\">area</tspan>\n",
       "    <tspan class=\"displacy-tag\" dy=\"2em\" fill=\"currentColor\" x=\"2500\">NOUN</tspan>\n",
       "</text>\n",
       "\n",
       "<text class=\"displacy-token\" fill=\"currentColor\" text-anchor=\"middle\" y=\"572.0\">\n",
       "    <tspan class=\"displacy-word\" fill=\"currentColor\" x=\"2675\">in</tspan>\n",
       "    <tspan class=\"displacy-tag\" dy=\"2em\" fill=\"currentColor\" x=\"2675\">ADP</tspan>\n",
       "</text>\n",
       "\n",
       "<text class=\"displacy-token\" fill=\"currentColor\" text-anchor=\"middle\" y=\"572.0\">\n",
       "    <tspan class=\"displacy-word\" fill=\"currentColor\" x=\"2850\">Korea.</tspan>\n",
       "    <tspan class=\"displacy-tag\" dy=\"2em\" fill=\"currentColor\" x=\"2850\">PROPN</tspan>\n",
       "</text>\n",
       "\n",
       "<g class=\"displacy-arrow\">\n",
       "    <path class=\"displacy-arc\" id=\"arrow-6d9b4dff64264b109e6457fdc8cd7b3a-0-0\" stroke-width=\"2px\" d=\"M70,527.0 C70,439.5 200.0,439.5 200.0,527.0\" fill=\"none\" stroke=\"currentColor\"/>\n",
       "    <text dy=\"1.25em\" style=\"font-size: 0.8em; letter-spacing: 1px\">\n",
       "        <textPath xlink:href=\"#arrow-6d9b4dff64264b109e6457fdc8cd7b3a-0-0\" class=\"displacy-label\" startOffset=\"50%\" side=\"left\" fill=\"currentColor\" text-anchor=\"middle\">prep</textPath>\n",
       "    </text>\n",
       "    <path class=\"displacy-arrowhead\" d=\"M200.0,529.0 L208.0,517.0 192.0,517.0\" fill=\"currentColor\"/>\n",
       "</g>\n",
       "\n",
       "<g class=\"displacy-arrow\">\n",
       "    <path class=\"displacy-arc\" id=\"arrow-6d9b4dff64264b109e6457fdc8cd7b3a-0-1\" stroke-width=\"2px\" d=\"M420,527.0 C420,439.5 550.0,439.5 550.0,527.0\" fill=\"none\" stroke=\"currentColor\"/>\n",
       "    <text dy=\"1.25em\" style=\"font-size: 0.8em; letter-spacing: 1px\">\n",
       "        <textPath xlink:href=\"#arrow-6d9b4dff64264b109e6457fdc8cd7b3a-0-1\" class=\"displacy-label\" startOffset=\"50%\" side=\"left\" fill=\"currentColor\" text-anchor=\"middle\">det</textPath>\n",
       "    </text>\n",
       "    <path class=\"displacy-arrowhead\" d=\"M420,529.0 L412,517.0 428,517.0\" fill=\"currentColor\"/>\n",
       "</g>\n",
       "\n",
       "<g class=\"displacy-arrow\">\n",
       "    <path class=\"displacy-arc\" id=\"arrow-6d9b4dff64264b109e6457fdc8cd7b3a-0-2\" stroke-width=\"2px\" d=\"M245,527.0 C245,352.0 555.0,352.0 555.0,527.0\" fill=\"none\" stroke=\"currentColor\"/>\n",
       "    <text dy=\"1.25em\" style=\"font-size: 0.8em; letter-spacing: 1px\">\n",
       "        <textPath xlink:href=\"#arrow-6d9b4dff64264b109e6457fdc8cd7b3a-0-2\" class=\"displacy-label\" startOffset=\"50%\" side=\"left\" fill=\"currentColor\" text-anchor=\"middle\">pobj</textPath>\n",
       "    </text>\n",
       "    <path class=\"displacy-arrowhead\" d=\"M555.0,529.0 L563.0,517.0 547.0,517.0\" fill=\"currentColor\"/>\n",
       "</g>\n",
       "\n",
       "<g class=\"displacy-arrow\">\n",
       "    <path class=\"displacy-arc\" id=\"arrow-6d9b4dff64264b109e6457fdc8cd7b3a-0-3\" stroke-width=\"2px\" d=\"M770,527.0 C770,264.5 1260.0,264.5 1260.0,527.0\" fill=\"none\" stroke=\"currentColor\"/>\n",
       "    <text dy=\"1.25em\" style=\"font-size: 0.8em; letter-spacing: 1px\">\n",
       "        <textPath xlink:href=\"#arrow-6d9b4dff64264b109e6457fdc8cd7b3a-0-3\" class=\"displacy-label\" startOffset=\"50%\" side=\"left\" fill=\"currentColor\" text-anchor=\"middle\">advmod</textPath>\n",
       "    </text>\n",
       "    <path class=\"displacy-arrowhead\" d=\"M770,529.0 L762,517.0 778,517.0\" fill=\"currentColor\"/>\n",
       "</g>\n",
       "\n",
       "<g class=\"displacy-arrow\">\n",
       "    <path class=\"displacy-arc\" id=\"arrow-6d9b4dff64264b109e6457fdc8cd7b3a-0-4\" stroke-width=\"2px\" d=\"M945,527.0 C945,352.0 1255.0,352.0 1255.0,527.0\" fill=\"none\" stroke=\"currentColor\"/>\n",
       "    <text dy=\"1.25em\" style=\"font-size: 0.8em; letter-spacing: 1px\">\n",
       "        <textPath xlink:href=\"#arrow-6d9b4dff64264b109e6457fdc8cd7b3a-0-4\" class=\"displacy-label\" startOffset=\"50%\" side=\"left\" fill=\"currentColor\" text-anchor=\"middle\">nsubj</textPath>\n",
       "    </text>\n",
       "    <path class=\"displacy-arrowhead\" d=\"M945,529.0 L937,517.0 953,517.0\" fill=\"currentColor\"/>\n",
       "</g>\n",
       "\n",
       "<g class=\"displacy-arrow\">\n",
       "    <path class=\"displacy-arc\" id=\"arrow-6d9b4dff64264b109e6457fdc8cd7b3a-0-5\" stroke-width=\"2px\" d=\"M945,527.0 C945,439.5 1075.0,439.5 1075.0,527.0\" fill=\"none\" stroke=\"currentColor\"/>\n",
       "    <text dy=\"1.25em\" style=\"font-size: 0.8em; letter-spacing: 1px\">\n",
       "        <textPath xlink:href=\"#arrow-6d9b4dff64264b109e6457fdc8cd7b3a-0-5\" class=\"displacy-label\" startOffset=\"50%\" side=\"left\" fill=\"currentColor\" text-anchor=\"middle\">appos</textPath>\n",
       "    </text>\n",
       "    <path class=\"displacy-arrowhead\" d=\"M1075.0,529.0 L1083.0,517.0 1067.0,517.0\" fill=\"currentColor\"/>\n",
       "</g>\n",
       "\n",
       "<g class=\"displacy-arrow\">\n",
       "    <path class=\"displacy-arc\" id=\"arrow-6d9b4dff64264b109e6457fdc8cd7b3a-0-6\" stroke-width=\"2px\" d=\"M70,527.0 C70,2.0 1275.0,2.0 1275.0,527.0\" fill=\"none\" stroke=\"currentColor\"/>\n",
       "    <text dy=\"1.25em\" style=\"font-size: 0.8em; letter-spacing: 1px\">\n",
       "        <textPath xlink:href=\"#arrow-6d9b4dff64264b109e6457fdc8cd7b3a-0-6\" class=\"displacy-label\" startOffset=\"50%\" side=\"left\" fill=\"currentColor\" text-anchor=\"middle\">advcl</textPath>\n",
       "    </text>\n",
       "    <path class=\"displacy-arrowhead\" d=\"M1275.0,529.0 L1283.0,517.0 1267.0,517.0\" fill=\"currentColor\"/>\n",
       "</g>\n",
       "\n",
       "<g class=\"displacy-arrow\">\n",
       "    <path class=\"displacy-arc\" id=\"arrow-6d9b4dff64264b109e6457fdc8cd7b3a-0-7\" stroke-width=\"2px\" d=\"M1295,527.0 C1295,439.5 1425.0,439.5 1425.0,527.0\" fill=\"none\" stroke=\"currentColor\"/>\n",
       "    <text dy=\"1.25em\" style=\"font-size: 0.8em; letter-spacing: 1px\">\n",
       "        <textPath xlink:href=\"#arrow-6d9b4dff64264b109e6457fdc8cd7b3a-0-7\" class=\"displacy-label\" startOffset=\"50%\" side=\"left\" fill=\"currentColor\" text-anchor=\"middle\">dobj</textPath>\n",
       "    </text>\n",
       "    <path class=\"displacy-arrowhead\" d=\"M1425.0,529.0 L1433.0,517.0 1417.0,517.0\" fill=\"currentColor\"/>\n",
       "</g>\n",
       "\n",
       "<g class=\"displacy-arrow\">\n",
       "    <path class=\"displacy-arc\" id=\"arrow-6d9b4dff64264b109e6457fdc8cd7b3a-0-8\" stroke-width=\"2px\" d=\"M1295,527.0 C1295,352.0 1605.0,352.0 1605.0,527.0\" fill=\"none\" stroke=\"currentColor\"/>\n",
       "    <text dy=\"1.25em\" style=\"font-size: 0.8em; letter-spacing: 1px\">\n",
       "        <textPath xlink:href=\"#arrow-6d9b4dff64264b109e6457fdc8cd7b3a-0-8\" class=\"displacy-label\" startOffset=\"50%\" side=\"left\" fill=\"currentColor\" text-anchor=\"middle\">prep</textPath>\n",
       "    </text>\n",
       "    <path class=\"displacy-arrowhead\" d=\"M1605.0,529.0 L1613.0,517.0 1597.0,517.0\" fill=\"currentColor\"/>\n",
       "</g>\n",
       "\n",
       "<g class=\"displacy-arrow\">\n",
       "    <path class=\"displacy-arc\" id=\"arrow-6d9b4dff64264b109e6457fdc8cd7b3a-0-9\" stroke-width=\"2px\" d=\"M1820,527.0 C1820,177.0 2490.0,177.0 2490.0,527.0\" fill=\"none\" stroke=\"currentColor\"/>\n",
       "    <text dy=\"1.25em\" style=\"font-size: 0.8em; letter-spacing: 1px\">\n",
       "        <textPath xlink:href=\"#arrow-6d9b4dff64264b109e6457fdc8cd7b3a-0-9\" class=\"displacy-label\" startOffset=\"50%\" side=\"left\" fill=\"currentColor\" text-anchor=\"middle\">nummod</textPath>\n",
       "    </text>\n",
       "    <path class=\"displacy-arrowhead\" d=\"M1820,529.0 L1812,517.0 1828,517.0\" fill=\"currentColor\"/>\n",
       "</g>\n",
       "\n",
       "<g class=\"displacy-arrow\">\n",
       "    <path class=\"displacy-arc\" id=\"arrow-6d9b4dff64264b109e6457fdc8cd7b3a-0-10\" stroke-width=\"2px\" d=\"M1995,527.0 C1995,264.5 2485.0,264.5 2485.0,527.0\" fill=\"none\" stroke=\"currentColor\"/>\n",
       "    <text dy=\"1.25em\" style=\"font-size: 0.8em; letter-spacing: 1px\">\n",
       "        <textPath xlink:href=\"#arrow-6d9b4dff64264b109e6457fdc8cd7b3a-0-10\" class=\"displacy-label\" startOffset=\"50%\" side=\"left\" fill=\"currentColor\" text-anchor=\"middle\">nummod</textPath>\n",
       "    </text>\n",
       "    <path class=\"displacy-arrowhead\" d=\"M1995,529.0 L1987,517.0 2003,517.0\" fill=\"currentColor\"/>\n",
       "</g>\n",
       "\n",
       "<g class=\"displacy-arrow\">\n",
       "    <path class=\"displacy-arc\" id=\"arrow-6d9b4dff64264b109e6457fdc8cd7b3a-0-11\" stroke-width=\"2px\" d=\"M2170,527.0 C2170,352.0 2480.0,352.0 2480.0,527.0\" fill=\"none\" stroke=\"currentColor\"/>\n",
       "    <text dy=\"1.25em\" style=\"font-size: 0.8em; letter-spacing: 1px\">\n",
       "        <textPath xlink:href=\"#arrow-6d9b4dff64264b109e6457fdc8cd7b3a-0-11\" class=\"displacy-label\" startOffset=\"50%\" side=\"left\" fill=\"currentColor\" text-anchor=\"middle\">amod</textPath>\n",
       "    </text>\n",
       "    <path class=\"displacy-arrowhead\" d=\"M2170,529.0 L2162,517.0 2178,517.0\" fill=\"currentColor\"/>\n",
       "</g>\n",
       "\n",
       "<g class=\"displacy-arrow\">\n",
       "    <path class=\"displacy-arc\" id=\"arrow-6d9b4dff64264b109e6457fdc8cd7b3a-0-12\" stroke-width=\"2px\" d=\"M2345,527.0 C2345,439.5 2475.0,439.5 2475.0,527.0\" fill=\"none\" stroke=\"currentColor\"/>\n",
       "    <text dy=\"1.25em\" style=\"font-size: 0.8em; letter-spacing: 1px\">\n",
       "        <textPath xlink:href=\"#arrow-6d9b4dff64264b109e6457fdc8cd7b3a-0-12\" class=\"displacy-label\" startOffset=\"50%\" side=\"left\" fill=\"currentColor\" text-anchor=\"middle\">compound</textPath>\n",
       "    </text>\n",
       "    <path class=\"displacy-arrowhead\" d=\"M2345,529.0 L2337,517.0 2353,517.0\" fill=\"currentColor\"/>\n",
       "</g>\n",
       "\n",
       "<g class=\"displacy-arrow\">\n",
       "    <path class=\"displacy-arc\" id=\"arrow-6d9b4dff64264b109e6457fdc8cd7b3a-0-13\" stroke-width=\"2px\" d=\"M1645,527.0 C1645,89.5 2495.0,89.5 2495.0,527.0\" fill=\"none\" stroke=\"currentColor\"/>\n",
       "    <text dy=\"1.25em\" style=\"font-size: 0.8em; letter-spacing: 1px\">\n",
       "        <textPath xlink:href=\"#arrow-6d9b4dff64264b109e6457fdc8cd7b3a-0-13\" class=\"displacy-label\" startOffset=\"50%\" side=\"left\" fill=\"currentColor\" text-anchor=\"middle\">pobj</textPath>\n",
       "    </text>\n",
       "    <path class=\"displacy-arrowhead\" d=\"M2495.0,529.0 L2503.0,517.0 2487.0,517.0\" fill=\"currentColor\"/>\n",
       "</g>\n",
       "\n",
       "<g class=\"displacy-arrow\">\n",
       "    <path class=\"displacy-arc\" id=\"arrow-6d9b4dff64264b109e6457fdc8cd7b3a-0-14\" stroke-width=\"2px\" d=\"M2520,527.0 C2520,439.5 2650.0,439.5 2650.0,527.0\" fill=\"none\" stroke=\"currentColor\"/>\n",
       "    <text dy=\"1.25em\" style=\"font-size: 0.8em; letter-spacing: 1px\">\n",
       "        <textPath xlink:href=\"#arrow-6d9b4dff64264b109e6457fdc8cd7b3a-0-14\" class=\"displacy-label\" startOffset=\"50%\" side=\"left\" fill=\"currentColor\" text-anchor=\"middle\">prep</textPath>\n",
       "    </text>\n",
       "    <path class=\"displacy-arrowhead\" d=\"M2650.0,529.0 L2658.0,517.0 2642.0,517.0\" fill=\"currentColor\"/>\n",
       "</g>\n",
       "\n",
       "<g class=\"displacy-arrow\">\n",
       "    <path class=\"displacy-arc\" id=\"arrow-6d9b4dff64264b109e6457fdc8cd7b3a-0-15\" stroke-width=\"2px\" d=\"M2695,527.0 C2695,439.5 2825.0,439.5 2825.0,527.0\" fill=\"none\" stroke=\"currentColor\"/>\n",
       "    <text dy=\"1.25em\" style=\"font-size: 0.8em; letter-spacing: 1px\">\n",
       "        <textPath xlink:href=\"#arrow-6d9b4dff64264b109e6457fdc8cd7b3a-0-15\" class=\"displacy-label\" startOffset=\"50%\" side=\"left\" fill=\"currentColor\" text-anchor=\"middle\">pobj</textPath>\n",
       "    </text>\n",
       "    <path class=\"displacy-arrowhead\" d=\"M2825.0,529.0 L2833.0,517.0 2817.0,517.0\" fill=\"currentColor\"/>\n",
       "</g>\n",
       "</svg></span>"
      ],
      "text/plain": [
       "<IPython.core.display.HTML object>"
      ]
     },
     "metadata": {},
     "output_type": "display_data"
    },
    {
     "name": "stdout",
     "output_type": "stream",
     "text": [
      "the future future pobj for\n",
      "we we nsubj study\n",
      "gentrification gentrification dobj study\n",
      "one 2 square block area area pobj in\n",
      "Korea Korea pobj in\n"
     ]
    }
   ],
   "source": [
    "#Exercise 7\n",
    "from spacy import displacy\n",
    "doc = nlp(ner_text)\n",
    "displacy.render(doc, style='dep')\n",
    "for chunk in doc.noun_chunks:\n",
    "    print(chunk.text, chunk.root.text, chunk.root.dep_, chunk.root.head.text)"
   ]
  },
  {
   "cell_type": "code",
   "execution_count": 98,
   "metadata": {},
   "outputs": [
    {
     "name": "stdout",
     "output_type": "stream",
     "text": [
      "Excited ROOT Excited VERB [for, study, .]\n",
      "for prep Excited VERB [future]\n",
      "the det future NOUN []\n",
      "future pobj for ADP [the]\n",
      "when advmod study VERB []\n",
      "we nsubj study VERB [all]\n",
      "all appos we PRON []\n",
      "study advcl Excited VERB [when, we, gentrification, in]\n",
      "gentrification dobj study VERB []\n",
      "in prep study VERB [area]\n",
      "one nummod area NOUN []\n",
      "2 nummod area NOUN []\n",
      "square amod area NOUN []\n",
      "block compound area NOUN []\n",
      "area pobj in ADP [one, 2, square, block, in]\n",
      "in prep area NOUN [Korea]\n",
      "Korea pobj in ADP []\n",
      ". punct Excited VERB []\n"
     ]
    }
   ],
   "source": [
    "for token in doc:\n",
    "    print(token.text, token.dep_, token.head.text, token.head.pos_,\n",
    "            [child for child in token.children])"
   ]
  },
  {
   "cell_type": "code",
   "execution_count": 100,
   "metadata": {},
   "outputs": [
    {
     "name": "stdout",
     "output_type": "stream",
     "text": [
      "{study}\n"
     ]
    }
   ],
   "source": [
    "from spacy.symbols import nsubj, VERB\n",
    "verbs = set()\n",
    "for possible_subject in doc:\n",
    "    if possible_subject.dep == nsubj and possible_subject.head.pos == VERB:\n",
    "        verbs.add(possible_subject.head)\n",
    "print(verbs)"
   ]
  },
  {
   "cell_type": "code",
   "execution_count": 136,
   "metadata": {},
   "outputs": [
    {
     "data": {
      "text/plain": [
       "{'Michigan, USA': ([], []),\n",
       " 'Massachusetts, USA': ([], []),\n",
       " 'SATURN ': ([], []),\n",
       " 'New York, USA': ([], []),\n",
       " nan: ([], []),\n",
       " 'metro Washington, D.C.': ([], []),\n",
       " 'Chicago, IL': ([], []),\n",
       " 'babyworld': ([], []),\n",
       " 'Brooklyn, NY': ([], []),\n",
       " 'Wairarapa, NZ': ([], []),\n",
       " 'VIRGINIA': ([], []),\n",
       " 'North Carolina, USA': ([], []),\n",
       " 'New York, NY': ([], []),\n",
       " 'San Francisco, CA': ([], []),\n",
       " 'Inland Empire, CA': ([], []),\n",
       " 'Washington, D.C.': ([], []),\n",
       " 'In Your Ears...': ([], []),\n",
       " 'Arizona': ([], []),\n",
       " 'Dallas, TX': ([], []),\n",
       " 'h€ll': ([], []),\n",
       " 'On to better things': ([], []),\n",
       " 'The Crystal Cave': ([], []),\n",
       " 'dakota city': ([], []),\n",
       " 'Kenner,Louisiana': ([], []),\n",
       " 'East Flatbush Brooklyn, NY': ([], []),\n",
       " 'www.democracynow.org': ([], []),\n",
       " 'New Orleans, LA': ([], []),\n",
       " 'Silicon Valley, CA': ([], []),\n",
       " 'Bryan Tx': ([], []),\n",
       " 'Los Angeles, CA': ([], []),\n",
       " 'Atlanta, GA': ([], []),\n",
       " 'NAWF. .. (#916.)': ([], []),\n",
       " 'Bangkok, Thailand': ([], []),\n",
       " 'Hellesdon, England': ([], []),\n",
       " '713/647': ([], []),\n",
       " 'Flawda': ([], []),\n",
       " 'Galiza': ([], []),\n",
       " 'Denver, CO and Washington, DC': ([], []),\n",
       " 'Atl': ([], []),\n",
       " 'Washington, DC': ([], []),\n",
       " 'Buffalo, USA': ([], []),\n",
       " 'home like everyone else': ([], []),\n",
       " 'Oregon, USA': ([], []),\n",
       " 'New Mexico, USA': ([], []),\n",
       " 'Bremerton WA': ([], []),\n",
       " 'New York': ([], []),\n",
       " 'Seattle': ([], []),\n",
       " 'Seattle, WA': ([], []),\n",
       " 'Decatur, GA': ([], []),\n",
       " 'Orange County, CA': ([], []),\n",
       " 'Harlem World': ([], []),\n",
       " 'ktown🚀bay/LA/seoul/해방haenam': ([], []),\n",
       " 'California, USA': ([], []),\n",
       " '花/TOKYO/鳥/JAPAN/風/EARTH/月': ([], []),\n",
       " 'Willowbrook, Houston': ([], []),\n",
       " 'United States': ([], []),\n",
       " 'Florida, USA': ([], []),\n",
       " 'Brooklyn, Nicaragua': ([], []),\n",
       " \"O'WOOD\": ([], []),\n",
       " 'Denver, CO': ([], []),\n",
       " 'Indy/Ypsi/Norfy': ([], []),\n",
       " 'In N Out ': ([], []),\n",
       " 'Durham, North Carolina': ([], []),\n",
       " 'Kezar Stadium': ([], []),\n",
       " 'Vegas': ([], []),\n",
       " 'San Francisco': ([], []),\n",
       " 'Everywhereee': ([], []),\n",
       " 'Palouse': ([], []),\n",
       " 'San Francisco Ca': ([], []),\n",
       " 'Austin, Texas': ([], []),\n",
       " 'Philly. DC.': ([], []),\n",
       " 'karachi  / phl': ([], []),\n",
       " 'Behind the screen': ([], []),\n",
       " 'Screwston, Tx - Bklyn, NY': ([], [])}"
      ]
     },
     "execution_count": 136,
     "metadata": {},
     "output_type": "execute_result"
    }
   ],
   "source": [
    "negative_ex = {}\n",
    "for index, row in DF.iterrows():\n",
    "    text = ' '.join(row['text'])\n",
    "\n",
    "    negative_ex[row['location']] = ([],[])\n",
    "    doc = nlp(text)\n",
    "    #print(doc)\n",
    "    for chunk in doc.noun_chunks:\n",
    "        \n",
    "        subject = 0\n",
    "        object_ = 0\n",
    "        if chunk.root.head.text == 'L':\n",
    "            # we find the subjects and objects around the word, and if it does exist, add it to the tuple\n",
    "            if chunk.root.dep_ == 'nsubj':\n",
    "                subject = chunk.root.text\n",
    "            if chunk.root.dep_ == 'dobj':\n",
    "                object_ = chunk.root.text\n",
    "            if subject is not 0:\n",
    "                negative_ex[row['location']][0].append(subject)\n",
    "            if object_ is not 0:\n",
    "                negative_ex[row['location']][1].append(object_)\n",
    "negative_ex\n",
    "\n",
    "# I dont know why the text cannot keep right format here"
   ]
  },
  {
   "cell_type": "code",
   "execution_count": null,
   "metadata": {},
   "outputs": [],
   "source": []
  }
 ],
 "metadata": {
  "kernelspec": {
   "display_name": "Python 3",
   "language": "python",
   "name": "python3"
  },
  "language_info": {
   "codemirror_mode": {
    "name": "ipython",
    "version": 3
   },
   "file_extension": ".py",
   "mimetype": "text/x-python",
   "name": "python",
   "nbconvert_exporter": "python",
   "pygments_lexer": "ipython3",
   "version": "3.7.4"
  }
 },
 "nbformat": 4,
 "nbformat_minor": 4
}
