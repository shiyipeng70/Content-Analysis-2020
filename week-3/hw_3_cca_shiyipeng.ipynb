{
 "cells": [
  {
   "cell_type": "code",
   "execution_count": 5,
   "metadata": {},
   "outputs": [],
   "source": [
    "import lucem_illud_2020\n",
    "import sklearn\n",
    "import sklearn.naive_bayes\n",
    "import sklearn.tree\n",
    "import sklearn.ensemble\n",
    "import sklearn.neural_network\n",
    "import sklearn.decomposition\n",
    "\n",
    "import numpy as np #arrays\n",
    "import matplotlib.pyplot as plt #Plots\n",
    "import matplotlib.colors # For nice colours\n",
    "import seaborn #Makes plots look nice, also heatmaps\n",
    "import scipy as sp #for interp\n",
    "\n",
    "#These are from the standard library\n",
    "import collections\n",
    "import os\n",
    "import os.path\n",
    "import random\n",
    "import re\n",
    "import glob\n",
    "import pandas as pd\n",
    "import requests\n",
    "import json\n",
    "import math\n",
    "from sklearn.model_selection import train_test_split\n",
    "from sklearn.metrics import confusion_matrix\n",
    "from sklearn import metrics\n",
    "from matplotlib.pyplot import imshow\n",
    "%matplotlib inline\n"
   ]
  },
  {
   "cell_type": "code",
   "execution_count": 2,
   "metadata": {},
   "outputs": [
    {
     "data": {
      "text/html": [
       "<div>\n",
       "<style scoped>\n",
       "    .dataframe tbody tr th:only-of-type {\n",
       "        vertical-align: middle;\n",
       "    }\n",
       "\n",
       "    .dataframe tbody tr th {\n",
       "        vertical-align: top;\n",
       "    }\n",
       "\n",
       "    .dataframe thead th {\n",
       "        text-align: right;\n",
       "    }\n",
       "</style>\n",
       "<table border=\"1\" class=\"dataframe\">\n",
       "  <thead>\n",
       "    <tr style=\"text-align: right;\">\n",
       "      <th></th>\n",
       "      <th>ProductRelated</th>\n",
       "      <th>ProductRelated_Duration</th>\n",
       "      <th>Category</th>\n",
       "    </tr>\n",
       "  </thead>\n",
       "  <tbody>\n",
       "    <tr>\n",
       "      <th>0</th>\n",
       "      <td>1.0</td>\n",
       "      <td>0.000000</td>\n",
       "      <td>0</td>\n",
       "    </tr>\n",
       "    <tr>\n",
       "      <th>1</th>\n",
       "      <td>2.0</td>\n",
       "      <td>64.000000</td>\n",
       "      <td>0</td>\n",
       "    </tr>\n",
       "    <tr>\n",
       "      <th>2</th>\n",
       "      <td>1.0</td>\n",
       "      <td>-1.000000</td>\n",
       "      <td>0</td>\n",
       "    </tr>\n",
       "    <tr>\n",
       "      <th>3</th>\n",
       "      <td>2.0</td>\n",
       "      <td>2.666667</td>\n",
       "      <td>0</td>\n",
       "    </tr>\n",
       "    <tr>\n",
       "      <th>4</th>\n",
       "      <td>10.0</td>\n",
       "      <td>627.500000</td>\n",
       "      <td>1</td>\n",
       "    </tr>\n",
       "    <tr>\n",
       "      <th>...</th>\n",
       "      <td>...</td>\n",
       "      <td>...</td>\n",
       "      <td>...</td>\n",
       "    </tr>\n",
       "    <tr>\n",
       "      <th>95</th>\n",
       "      <td>2.0</td>\n",
       "      <td>33.000000</td>\n",
       "      <td>0</td>\n",
       "    </tr>\n",
       "    <tr>\n",
       "      <th>96</th>\n",
       "      <td>6.0</td>\n",
       "      <td>1566.500000</td>\n",
       "      <td>0</td>\n",
       "    </tr>\n",
       "    <tr>\n",
       "      <th>97</th>\n",
       "      <td>4.0</td>\n",
       "      <td>105.000000</td>\n",
       "      <td>0</td>\n",
       "    </tr>\n",
       "    <tr>\n",
       "      <th>98</th>\n",
       "      <td>7.0</td>\n",
       "      <td>50.000000</td>\n",
       "      <td>0</td>\n",
       "    </tr>\n",
       "    <tr>\n",
       "      <th>99</th>\n",
       "      <td>16.0</td>\n",
       "      <td>644.200000</td>\n",
       "      <td>0</td>\n",
       "    </tr>\n",
       "  </tbody>\n",
       "</table>\n",
       "<p>100 rows × 3 columns</p>\n",
       "</div>"
      ],
      "text/plain": [
       "    ProductRelated  ProductRelated_Duration  Category\n",
       "0              1.0                 0.000000         0\n",
       "1              2.0                64.000000         0\n",
       "2              1.0                -1.000000         0\n",
       "3              2.0                 2.666667         0\n",
       "4             10.0               627.500000         1\n",
       "..             ...                      ...       ...\n",
       "95             2.0                33.000000         0\n",
       "96             6.0              1566.500000         0\n",
       "97             4.0               105.000000         0\n",
       "98             7.0                50.000000         0\n",
       "99            16.0               644.200000         0\n",
       "\n",
       "[100 rows x 3 columns]"
      ]
     },
     "execution_count": 2,
     "metadata": {},
     "output_type": "execute_result"
    }
   ],
   "source": [
    "# My own dataset\n",
    "df = pd.read_csv(\"/Users/shiyipeng/Downloads/online_shoppers_intention 2.csv\")\n",
    "df = pd.DataFrame(df)\n",
    "s0 = df['ProductRelated']\n",
    "s1 = df['ProductRelated_Duration']\n",
    "s2 = df['Weekend']\n",
    "cat = list(map(int,s2))\n",
    "d = {'ProductRelated':s0,'ProductRelated_Duration':s1,'Category':cat}\n",
    "df = pd.DataFrame(d)\n",
    "df = df[pd.notnull(df['ProductRelated'])]\n",
    "df_train = df.iloc[:100]\n",
    "df_train\n"
   ]
  },
  {
   "cell_type": "code",
   "execution_count": 3,
   "metadata": {},
   "outputs": [
    {
     "data": {
      "text/plain": [
       "array([[  1.  ,   0.  ],\n",
       "       [  2.  ,  64.  ],\n",
       "       [  1.  ,  -1.  ],\n",
       "       ...,\n",
       "       [  6.  , 184.25],\n",
       "       [ 15.  , 346.  ],\n",
       "       [  3.  ,  21.25]])"
      ]
     },
     "execution_count": 3,
     "metadata": {},
     "output_type": "execute_result"
    }
   ],
   "source": [
    "#Naive Bayes\n",
    "X = df.iloc[:,0:2].values\n",
    "y = df.iloc[:,2].values\n",
    "X\n"
   ]
  },
  {
   "cell_type": "code",
   "execution_count": 4,
   "metadata": {},
   "outputs": [
    {
     "data": {
      "text/plain": [
       "array([[7.00000000e+00, 5.80000000e+01],\n",
       "       [3.40000000e+01, 1.04849206e+03],\n",
       "       [6.00000000e+00, 1.63250000e+02],\n",
       "       ...,\n",
       "       [1.53000000e+02, 5.31521191e+03],\n",
       "       [2.00000000e+00, 8.00000000e+00],\n",
       "       [3.60000000e+01, 2.54233333e+03]])"
      ]
     },
     "execution_count": 4,
     "metadata": {},
     "output_type": "execute_result"
    }
   ],
   "source": [
    "X_train, X_test, y_train, y_test = train_test_split(X, y, test_size=0.3, random_state=0)\n",
    "X_train"
   ]
  },
  {
   "cell_type": "code",
   "execution_count": 39,
   "metadata": {},
   "outputs": [
    {
     "data": {
      "text/plain": [
       "GaussianNB(priors=None, var_smoothing=1e-09)"
      ]
     },
     "execution_count": 39,
     "metadata": {},
     "output_type": "execute_result"
    }
   ],
   "source": [
    "clf = sklearn.naive_bayes.GaussianNB()\n",
    "clf.fit(X_train, y_train)"
   ]
  },
  {
   "cell_type": "code",
   "execution_count": 40,
   "metadata": {},
   "outputs": [
    {
     "data": {
      "text/plain": [
       "(array([0, 0, 0, ..., 0, 0, 0]), array([0, 0, 0, ..., 0, 0, 0]))"
      ]
     },
     "execution_count": 40,
     "metadata": {},
     "output_type": "execute_result"
    }
   ],
   "source": [
    "y_train_pred = clf.predict(X_train)\n",
    "y_test_pred = clf.predict(X_test)\n",
    "y_train_pred, y_test_pred"
   ]
  },
  {
   "cell_type": "code",
   "execution_count": 41,
   "metadata": {},
   "outputs": [
    {
     "data": {
      "text/plain": [
       "array([[2861,    0],\n",
       "       [ 834,    0]])"
      ]
     },
     "execution_count": 41,
     "metadata": {},
     "output_type": "execute_result"
    }
   ],
   "source": [
    "cm_train = confusion_matrix(y_train, y_train_pred)\n",
    "cm_test = confusion_matrix(y_test, y_test_pred)\n",
    "cm_test"
   ]
  },
  {
   "cell_type": "code",
   "execution_count": 42,
   "metadata": {},
   "outputs": [
    {
     "name": "stdout",
     "output_type": "stream",
     "text": [
      "evaluation: 0.7742895805142084\n"
     ]
    }
   ],
   "source": [
    "evaluation_b = metrics.accuracy_score(y_test, y_test_pred)\n",
    "print(f'evaluation: {evaluation_b}')"
   ]
  },
  {
   "cell_type": "code",
   "execution_count": 43,
   "metadata": {},
   "outputs": [
    {
     "data": {
      "image/png": "[encoded data removed]",
      "text/plain": [
       "<Figure size 432x288 with 2 Axes>"
      ]
     },
     "metadata": {
      "needs_background": "light"
     },
     "output_type": "display_data"
    }
   ],
   "source": [
    "plt.imshow(cm_test)\n",
    "plt.colorbar()\n",
    "plt.show()\n",
    "\n"
   ]
  },
  {
   "cell_type": "code",
   "execution_count": 10,
   "metadata": {},
   "outputs": [
    {
     "data": {
      "text/plain": [
       "KNeighborsClassifier(algorithm='auto', leaf_size=30, metric='minkowski',\n",
       "                     metric_params=None, n_jobs=None, n_neighbors=5, p=2,\n",
       "                     weights='distance')"
      ]
     },
     "execution_count": 10,
     "metadata": {},
     "output_type": "execute_result"
    }
   ],
   "source": [
    "#K-neighborhood\n",
    "clf_kn = sklearn.neighbors.KNeighborsClassifier(5, weights='distance')# k, 'distance' or 'uniform'\n",
    "clf_kn.fit(X_train, y_train)"
   ]
  },
  {
   "cell_type": "code",
   "execution_count": 11,
   "metadata": {},
   "outputs": [
    {
     "data": {
      "text/plain": [
       "(array([0, 1, 0, ..., 0, 0, 1]), array([0, 0, 0, ..., 0, 0, 1]))"
      ]
     },
     "execution_count": 11,
     "metadata": {},
     "output_type": "execute_result"
    }
   ],
   "source": [
    "y_train_pred_kn = clf_kn.predict(X_train)\n",
    "y_test_pred_kn = clf_kn.predict(X_test)\n",
    "y_train_pred_kn, y_test_pred_kn"
   ]
  },
  {
   "cell_type": "code",
   "execution_count": 12,
   "metadata": {},
   "outputs": [
    {
     "data": {
      "text/plain": [
       "0.7087956698240866"
      ]
     },
     "execution_count": 12,
     "metadata": {},
     "output_type": "execute_result"
    }
   ],
   "source": [
    "evaluation_kn = metrics.accuracy_score(y_test, y_test_pred_kn)\n",
    "evaluation_kn"
   ]
  },
  {
   "cell_type": "code",
   "execution_count": 13,
   "metadata": {},
   "outputs": [
    {
     "data": {
      "text/plain": [
       "array([[2509,  352],\n",
       "       [ 724,  110]])"
      ]
     },
     "execution_count": 13,
     "metadata": {},
     "output_type": "execute_result"
    }
   ],
   "source": [
    "cm_test_kn = confusion_matrix(y_test, y_test_pred_kn)\n",
    "cm_test_kn"
   ]
  },
  {
   "cell_type": "code",
   "execution_count": 14,
   "metadata": {},
   "outputs": [
    {
     "data": {
      "image/png": "[encoded data removed]",
      "text/plain": [
       "<Figure size 432x288 with 2 Axes>"
      ]
     },
     "metadata": {
      "needs_background": "light"
     },
     "output_type": "display_data"
    }
   ],
   "source": [
    "plt.imshow(cm_test_kn)\n",
    "plt.colorbar()\n",
    "plt.show()"
   ]
  },
  {
   "cell_type": "code",
   "execution_count": null,
   "metadata": {},
   "outputs": [],
   "source": [
    "from sklearn import svm\n",
    "random_state = np.random.RandomState(0)\n",
    "classifier = svm.SVC(kernel='linear', probability=True,\n",
    "                                 random_state=random_state)\n",
    "y_score_kn = classifier.fit(X_train, y_train).decision_function(X_test_kn)\n",
    "fpr = dict()\n",
    "tpr = dict()\n",
    "roc_auc = dict()\n",
    "for i in range(n_classes):\n",
    "    fpr[i], tpr[i], _ = roc_curve(y_test_kn[:, i], y_score[:, i])\n",
    "    roc_auc[i] = auc(fpr[i], tpr[i])\n",
    "\n",
    "# Compute micro-average ROC curve and ROC area\n",
    "fpr[\"micro\"], tpr[\"micro\"], _ = roc_curve(y_test_kn.ravel(), y_score_kn.ravel())\n",
    "roc_auc[\"micro\"] = auc(fpr[\"micro\"], tpr[\"micro\"])\n",
    "plt.figure()\n",
    "lw = 2\n",
    "plt.plot(fpr[2], tpr[2], color='darkorange',\n",
    "         lw=lw, label='ROC curve (area = %0.2f)' % roc_auc[2])\n",
    "plt.plot([0, 1], [0, 1], color='navy', lw=lw, linestyle='--')\n",
    "plt.xlim([0.0, 1.0])\n",
    "plt.ylim([0.0, 1.05])\n",
    "plt.xlabel('False Positive Rate')\n",
    "plt.ylabel('True Positive Rate')\n",
    "plt.title('Customer Intention')\n",
    "plt.legend(loc=\"lower right\")\n",
    "plt.show()"
   ]
  },
  {
   "cell_type": "code",
   "execution_count": 44,
   "metadata": {},
   "outputs": [
    {
     "data": {
      "text/plain": [
       "LogisticRegression(C=1.0, class_weight=None, dual=False, fit_intercept=True,\n",
       "                   intercept_scaling=1, l1_ratio=None, max_iter=100,\n",
       "                   multi_class='auto', n_jobs=None, penalty='l2',\n",
       "                   random_state=None, solver='lbfgs', tol=0.0001, verbose=0,\n",
       "                   warm_start=False)"
      ]
     },
     "execution_count": 44,
     "metadata": {},
     "output_type": "execute_result"
    }
   ],
   "source": [
    "# Classical Regression\n",
    "\n",
    "clf_lr = sklearn.linear_model.LogisticRegression()\n",
    "clf_lr.fit(X_train,y_train)"
   ]
  },
  {
   "cell_type": "code",
   "execution_count": 45,
   "metadata": {},
   "outputs": [
    {
     "name": "stdout",
     "output_type": "stream",
     "text": [
      "evaluation:0.7742895805142084\n",
      "mean_squared_log_error: 0.2257104194857916\n"
     ]
    }
   ],
   "source": [
    "y_test_pred_lr = clf_lr.predict(X_test)\n",
    "evaluation_lr = metrics.accuracy_score(y_test, y_test_pred_lr)\n",
    "print(f'evaluation:{evaluation_lr}')\n",
    "\n",
    "mse=metrics.mean_squared_error(y_test, y_test_pred_lr)\n",
    "print(f'mean_squared_log_error: {mse}')"
   ]
  },
  {
   "cell_type": "code",
   "execution_count": 31,
   "metadata": {},
   "outputs": [
    {
     "data": {
      "image/png": "[encoded data removed]",
      "text/plain": [
       "<Figure size 432x288 with 2 Axes>"
      ]
     },
     "metadata": {
      "needs_background": "light"
     },
     "output_type": "display_data"
    }
   ],
   "source": [
    "cm_test_lr = confusion_matrix(y_test, y_test_pred_lr)\n",
    "cm_test_lr\n",
    "plt.imshow(cm_test_lr)\n",
    "plt.colorbar()\n",
    "plt.show()\n"
   ]
  },
  {
   "cell_type": "code",
   "execution_count": 33,
   "metadata": {},
   "outputs": [
    {
     "name": "stdout",
     "output_type": "stream",
     "text": [
      "predictionon test: [0 0 0 ... 0 1 1]\n",
      "evaluation:0.6489851150202977\n",
      "mean_squared_log_error: 0.3510148849797023\n"
     ]
    }
   ],
   "source": [
    "#Symbolists\n",
    "clf_s = sklearn.tree.DecisionTreeClassifier()\n",
    "clf_s.fit(X_train,y_train)\n",
    "\n",
    "y_test_pred_s = clf_s.predict(X_test)\n",
    "print(f'predictionon test: {y_test_pred_s}')\n",
    "      \n",
    "evaluation_s = metrics.accuracy_score(y_test, y_test_pred_s)\n",
    "print(f'evaluation:{evaluation_s}')\n",
    "      \n",
    "mse_s=metrics.mean_squared_error(y_test, y_test_pred_s)\n",
    "print(f'mean_squared_log_error: {mse_s}')"
   ]
  },
  {
   "cell_type": "code",
   "execution_count": 34,
   "metadata": {},
   "outputs": [
    {
     "data": {
      "image/png": "[encoded data removed]",
      "text/plain": [
       "<Figure size 432x288 with 2 Axes>"
      ]
     },
     "metadata": {
      "needs_background": "light"
     },
     "output_type": "display_data"
    }
   ],
   "source": [
    "cm_test_s = confusion_matrix(y_test, y_test_pred_s)\n",
    "cm_test_s\n",
    "plt.imshow(cm_test_s)\n",
    "plt.colorbar()\n",
    "plt.show()\n"
   ]
  },
  {
   "cell_type": "code",
   "execution_count": 35,
   "metadata": {},
   "outputs": [
    {
     "name": "stdout",
     "output_type": "stream",
     "text": [
      "predictionon test: [0 0 0 ... 0 0 0]\n",
      "evaluation:0.7742895805142084\n",
      "mean_squared_log_error: 0.2257104194857916\n"
     ]
    }
   ],
   "source": [
    "#Connectionists\n",
    "clf_c = sklearn.neural_network.MLPClassifier()\n",
    "clf_c.fit(X_train,y_train)\n",
    "\n",
    "y_test_pred_c = clf_c.predict(X_test)\n",
    "print(f'predictionon test: {y_test_pred_c}')\n",
    "      \n",
    "evaluation_c = metrics.accuracy_score(y_test, y_test_pred_c)\n",
    "print(f'evaluation:{evaluation_c}')\n",
    "      \n",
    "mse_c=metrics.mean_squared_error(y_test, y_test_pred_c)\n",
    "print(f'mean_squared_log_error: {mse_c}')"
   ]
  },
  {
   "cell_type": "code",
   "execution_count": 36,
   "metadata": {},
   "outputs": [
    {
     "data": {
      "image/png": "[encoded data removed]",
      "text/plain": [
       "<Figure size 432x288 with 2 Axes>"
      ]
     },
     "metadata": {
      "needs_background": "light"
     },
     "output_type": "display_data"
    }
   ],
   "source": [
    "cm_test_c = confusion_matrix(y_test, y_test_pred_c)\n",
    "cm_test_c\n",
    "plt.imshow(cm_test_c)\n",
    "plt.colorbar()\n",
    "plt.show()"
   ]
  },
  {
   "cell_type": "code",
   "execution_count": 37,
   "metadata": {},
   "outputs": [
    {
     "name": "stdout",
     "output_type": "stream",
     "text": [
      "predictionon test: [0 0 0 ... 0 0 0]\n",
      "evaluation:0.7734776725304465\n",
      "mean_squared_log_error: 0.22652232746955345\n"
     ]
    }
   ],
   "source": [
    "#Ensemble\n",
    "clf_e = sklearn.ensemble.GradientBoostingClassifier()\n",
    "\n",
    "clf_e.fit(X_train,y_train)\n",
    "\n",
    "y_test_pred_e = clf_e.predict(X_test)\n",
    "print(f'predictionon test: {y_test_pred_e}')\n",
    "      \n",
    "evaluation_e = metrics.accuracy_score(y_test, y_test_pred_e)\n",
    "print(f'evaluation:{evaluation_e}')\n",
    "      \n",
    "mse_e=metrics.mean_squared_error(y_test, y_test_pred_e)\n",
    "print(f'mean_squared_log_error: {mse_e}')\n",
    "\n"
   ]
  },
  {
   "cell_type": "code",
   "execution_count": 38,
   "metadata": {},
   "outputs": [
    {
     "data": {
      "image/png": "[encoded data removed]",
      "text/plain": [
       "<Figure size 432x288 with 2 Axes>"
      ]
     },
     "metadata": {
      "needs_background": "light"
     },
     "output_type": "display_data"
    }
   ],
   "source": [
    "cm_test_e = confusion_matrix(y_test, y_test_pred_e)\n",
    "cm_test_e\n",
    "plt.imshow(cm_test_e)\n",
    "plt.colorbar()\n",
    "plt.show()"
   ]
  },
  {
   "cell_type": "code",
   "execution_count": null,
   "metadata": {},
   "outputs": [],
   "source": [
    "'''In terms of accuracy, Naive Bayes, classical regression and connectionists models generate the same result in my case dataset.'''"
   ]
  },
  {
   "cell_type": "code",
   "execution_count": 75,
   "metadata": {},
   "outputs": [
    {
     "name": "stdout",
     "output_type": "stream",
     "text": [
      "evaluation:0.7737483085250338\n",
      "mean_squared_log_error: 0.22625169147496618\n"
     ]
    }
   ],
   "source": [
    "#AdaBoost\n",
    "\n",
    "from sklearn import tree\n",
    "from sklearn.ensemble import AdaBoostClassifier\n",
    "from sklearn.preprocessing import LabelEncoder\n",
    "from sklearn.datasets import load_breast_cancer\n",
    "from sklearn.tree import DecisionTreeClassifier\n",
    "\n",
    "clf_ada = AdaBoostClassifier(DecisionTreeClassifier(max_depth=1),)\n",
    "clf_ada.fit(X_train,y_train)\n",
    "predicted_ada = clf_ada.predict(X_test)\n",
    "\n",
    "evaluation_ada = metrics.accuracy_score(y_test, predicted_ada)\n",
    "print(f'evaluation:{evaluation_ada}')\n",
    "      \n",
    "mse_ada=metrics.mean_squared_error(y_test, predicted_ada)\n",
    "print(f'mean_squared_log_error: {mse_ada}')\n"
   ]
  },
  {
   "cell_type": "code",
   "execution_count": 76,
   "metadata": {},
   "outputs": [
    {
     "name": "stdout",
     "output_type": "stream",
     "text": [
      "Loading data for: comp.sys.mac.hardware\n",
      "Loading data for: comp.windows.x\n",
      "Loading data for: misc.forsale\n",
      "Loading data for: rec.autos\n",
      "Converting to vectors\n"
     ]
    },
    {
     "data": {
      "text/plain": [
       "AdaBoostClassifier(algorithm='SAMME.R',\n",
       "                   base_estimator=DecisionTreeClassifier(ccp_alpha=0.0,\n",
       "                                                         class_weight=None,\n",
       "                                                         criterion='gini',\n",
       "                                                         max_depth=1,\n",
       "                                                         max_features=None,\n",
       "                                                         max_leaf_nodes=None,\n",
       "                                                         min_impurity_decrease=0.0,\n",
       "                                                         min_impurity_split=None,\n",
       "                                                         min_samples_leaf=1,\n",
       "                                                         min_samples_split=2,\n",
       "                                                         min_weight_fraction_leaf=0.0,\n",
       "                                                         presort='deprecated',\n",
       "                                                         random_state=None,\n",
       "                                                         splitter='best'),\n",
       "                   learning_rate=1.0, n_estimators=50, random_state=None)"
      ]
     },
     "execution_count": 76,
     "metadata": {},
     "output_type": "execute_result"
    }
   ],
   "source": [
    "dfTrain, dfTest = lucem_illud_2020.trainTestSplit(lucem_illud_2020.loadNewsGroups())\n",
    "clf_ada.fit(np.stack(dfTrain['vect'], axis=0), dfTrain['category'])"
   ]
  },
  {
   "cell_type": "code",
   "execution_count": 78,
   "metadata": {},
   "outputs": [
    {
     "name": "stdout",
     "output_type": "stream",
     "text": [
      "                       Error_Rate       AUC  Precision  Average_Precision  \\\n",
      "Category                                                                    \n",
      "rec.autos                0.178723  0.824345   0.604938           0.544960   \n",
      "comp.windows.x           0.055319  0.922361   0.880734           0.803352   \n",
      "comp.sys.mac.hardware    0.117021  0.800513   0.839080           0.624540   \n",
      "misc.forsale             0.112766  0.837948   0.839286           0.686041   \n",
      "\n",
      "                         Recall  \n",
      "Category                         \n",
      "rec.autos              0.830508  \n",
      "comp.windows.x         0.880734  \n",
      "comp.sys.mac.hardware  0.640351  \n",
      "misc.forsale           0.728682  \n"
     ]
    }
   ],
   "source": [
    "print(lucem_illud_2020.evaluateClassifier(clf_ada, dfTest))"
   ]
  },
  {
   "cell_type": "code",
   "execution_count": 79,
   "metadata": {},
   "outputs": [
    {
     "data": {
      "image/png": "[encoded data removed]",
      "text/plain": [
       "<Figure size 432x288 with 1 Axes>"
      ]
     },
     "metadata": {
      "needs_background": "light"
     },
     "output_type": "display_data"
    }
   ],
   "source": [
    "lucem_illud_2020.plotConfusionMatrix(clf_ada, dfTest)"
   ]
  },
  {
   "cell_type": "code",
   "execution_count": null,
   "metadata": {},
   "outputs": [],
   "source": []
  },
  {
   "cell_type": "code",
   "execution_count": 80,
   "metadata": {},
   "outputs": [
    {
     "name": "stdout",
     "output_type": "stream",
     "text": [
      "Loading data for: comp.sys.mac.hardware\n",
      "Loading data for: comp.windows.x\n",
      "Loading data for: misc.forsale\n",
      "Loading data for: rec.autos\n",
      "Converting to vectors\n"
     ]
    }
   ],
   "source": [
    "\n",
    "import sklearn.feature_extraction\n",
    "from sklearn import datasets\n",
    "\n",
    "dfTrain, dfTest = lucem_illud_2020.trainTestSplit(lucem_illud_2020.loadNewsGroups())\n"
   ]
  },
  {
   "cell_type": "code",
   "execution_count": 109,
   "metadata": {},
   "outputs": [
    {
     "data": {
      "text/html": [
       "<div>\n",
       "<style scoped>\n",
       "    .dataframe tbody tr th:only-of-type {\n",
       "        vertical-align: middle;\n",
       "    }\n",
       "\n",
       "    .dataframe tbody tr th {\n",
       "        vertical-align: top;\n",
       "    }\n",
       "\n",
       "    .dataframe thead th {\n",
       "        text-align: right;\n",
       "    }\n",
       "</style>\n",
       "<table border=\"1\" class=\"dataframe\">\n",
       "  <thead>\n",
       "    <tr style=\"text-align: right;\">\n",
       "      <th></th>\n",
       "      <th>text</th>\n",
       "      <th>category</th>\n",
       "      <th>source_file</th>\n",
       "      <th>tokenized_text</th>\n",
       "      <th>normalized_text</th>\n",
       "      <th>vect</th>\n",
       "    </tr>\n",
       "  </thead>\n",
       "  <tbody>\n",
       "    <tr>\n",
       "      <th>2296</th>\n",
       "      <td>Could someone out there please tell me how I c...</td>\n",
       "      <td>rec.autos</td>\n",
       "      <td>../data/20news_home/20news-bydate-train/rec.au...</td>\n",
       "      <td>[Could, someone, out, there, please, tell, me,...</td>\n",
       "      <td>[tell, saab, mail, list, specifically, need, a...</td>\n",
       "      <td>[0.0, 0.0, 0.0, 0.0, 0.0, 0.0, 0.0, 0.0, 0.0, ...</td>\n",
       "    </tr>\n",
       "    <tr>\n",
       "      <th>98</th>\n",
       "      <td>{Send follow ups to comp.sys.mac.advocacy. Sor...</td>\n",
       "      <td>comp.sys.mac.hardware</td>\n",
       "      <td>../data/20news_home/20news-bydate-train/comp.s...</td>\n",
       "      <td>[Send, follow, ups, to, comp.sys.mac.advocacy,...</td>\n",
       "      <td>[send, follow, up, comp.sys.mac.advocacy, sorr...</td>\n",
       "      <td>[0.0, 0.0, 0.005235062817741617, 0.0, 0.0, 0.0...</td>\n",
       "    </tr>\n",
       "    <tr>\n",
       "      <th>654</th>\n",
       "      <td>#\\n#Do anyone know about any shading program b...</td>\n",
       "      <td>comp.windows.x</td>\n",
       "      <td>../data/20news_home/20news-bydate-train/comp.w...</td>\n",
       "      <td>[Do, anyone, know, about, any, shading, progra...</td>\n",
       "      <td>[know, shade, program, base, xlib, public, dom...</td>\n",
       "      <td>[0.0, 0.0, 0.0, 0.0, 0.0, 0.0, 0.0, 0.0, 0.0, ...</td>\n",
       "    </tr>\n",
       "    <tr>\n",
       "      <th>1247</th>\n",
       "      <td>This is a repost of an earlier.  Thanks to sev...</td>\n",
       "      <td>misc.forsale</td>\n",
       "      <td>../data/20news_home/20news-bydate-train/misc.f...</td>\n",
       "      <td>[This, is, a, repost, of, an, earlier, Thanks,...</td>\n",
       "      <td>[repost, early, thank, offer, advise, realisti...</td>\n",
       "      <td>[0.0, 0.0, 0.0, 0.0, 0.0, 0.0, 0.0, 0.0, 0.0, ...</td>\n",
       "    </tr>\n",
       "    <tr>\n",
       "      <th>739</th>\n",
       "      <td>Hi Guys,\\n\\n\\tIt has been a long time since I ...</td>\n",
       "      <td>comp.windows.x</td>\n",
       "      <td>../data/20news_home/20news-bydate-train/comp.w...</td>\n",
       "      <td>[Hi, Guys, It, has, been, a, long, time, since...</td>\n",
       "      <td>[hello, guy, long, time, write, program, x., t...</td>\n",
       "      <td>[0.0, 0.0, 0.0, 0.0, 0.0, 0.0, 0.0, 0.0, 0.0, ...</td>\n",
       "    </tr>\n",
       "    <tr>\n",
       "      <th>...</th>\n",
       "      <td>...</td>\n",
       "      <td>...</td>\n",
       "      <td>...</td>\n",
       "      <td>...</td>\n",
       "      <td>...</td>\n",
       "      <td>...</td>\n",
       "    </tr>\n",
       "    <tr>\n",
       "      <th>1657</th>\n",
       "      <td>I have one round-trip ticket good for travel b...</td>\n",
       "      <td>misc.forsale</td>\n",
       "      <td>../data/20news_home/20news-bydate-train/misc.f...</td>\n",
       "      <td>[I, have, one, round, trip, ticket, good, for,...</td>\n",
       "      <td>[round, trip, ticket, good, travel, usa, canad...</td>\n",
       "      <td>[0.0, 0.0, 0.0, 0.0, 0.0, 0.0, 0.0, 0.0, 0.0, ...</td>\n",
       "    </tr>\n",
       "    <tr>\n",
       "      <th>1158</th>\n",
       "      <td>\\nThe following packages meet your criteria in...</td>\n",
       "      <td>comp.windows.x</td>\n",
       "      <td>../data/20news_home/20news-bydate-train/comp.w...</td>\n",
       "      <td>[The, following, packages, meet, your, criteri...</td>\n",
       "      <td>[follow, package, meet, criterium, pd, present...</td>\n",
       "      <td>[0.0, 0.0, 0.0, 0.0, 0.0, 0.0, 0.0, 0.0, 0.0, ...</td>\n",
       "    </tr>\n",
       "    <tr>\n",
       "      <th>9</th>\n",
       "      <td>\\n\\n\\nThe previous article referred to the fac...</td>\n",
       "      <td>comp.sys.mac.hardware</td>\n",
       "      <td>../data/20news_home/20news-bydate-train/comp.s...</td>\n",
       "      <td>[The, previous, article, referred, to, the, fa...</td>\n",
       "      <td>[previous, article, refer, fact, use, 20ns, si...</td>\n",
       "      <td>[0.0, 0.0, 0.0, 0.0, 0.0, 0.0, 0.0, 0.0, 0.0, ...</td>\n",
       "    </tr>\n",
       "    <tr>\n",
       "      <th>2034</th>\n",
       "      <td>\\n--AutoWeek had an article about the car with...</td>\n",
       "      <td>rec.autos</td>\n",
       "      <td>../data/20news_home/20news-bydate-train/rec.au...</td>\n",
       "      <td>[--AutoWeek, had, an, article, about, the, car...</td>\n",
       "      <td>[--autoweek, article, car, past, week, issue, ...</td>\n",
       "      <td>[0.0, 0.0, 0.0, 0.0, 0.0, 0.0, 0.0, 0.0, 0.0, ...</td>\n",
       "    </tr>\n",
       "    <tr>\n",
       "      <th>2317</th>\n",
       "      <td>\\nThe quality of autobahns is something of a m...</td>\n",
       "      <td>rec.autos</td>\n",
       "      <td>../data/20news_home/20news-bydate-train/rec.au...</td>\n",
       "      <td>[The, quality, of, autobahns, is, something, o...</td>\n",
       "      <td>[quality, autobahn, myth, road, surface, diffe...</td>\n",
       "      <td>[0.0, 0.0, 0.0, 0.0, 0.0, 0.0, 0.0, 0.0, 0.0, ...</td>\n",
       "    </tr>\n",
       "  </tbody>\n",
       "</table>\n",
       "<p>1880 rows × 6 columns</p>\n",
       "</div>"
      ],
      "text/plain": [
       "                                                   text  \\\n",
       "2296  Could someone out there please tell me how I c...   \n",
       "98    {Send follow ups to comp.sys.mac.advocacy. Sor...   \n",
       "654   #\\n#Do anyone know about any shading program b...   \n",
       "1247  This is a repost of an earlier.  Thanks to sev...   \n",
       "739   Hi Guys,\\n\\n\\tIt has been a long time since I ...   \n",
       "...                                                 ...   \n",
       "1657  I have one round-trip ticket good for travel b...   \n",
       "1158  \\nThe following packages meet your criteria in...   \n",
       "9     \\n\\n\\nThe previous article referred to the fac...   \n",
       "2034  \\n--AutoWeek had an article about the car with...   \n",
       "2317  \\nThe quality of autobahns is something of a m...   \n",
       "\n",
       "                   category  \\\n",
       "2296              rec.autos   \n",
       "98    comp.sys.mac.hardware   \n",
       "654          comp.windows.x   \n",
       "1247           misc.forsale   \n",
       "739          comp.windows.x   \n",
       "...                     ...   \n",
       "1657           misc.forsale   \n",
       "1158         comp.windows.x   \n",
       "9     comp.sys.mac.hardware   \n",
       "2034              rec.autos   \n",
       "2317              rec.autos   \n",
       "\n",
       "                                            source_file  \\\n",
       "2296  ../data/20news_home/20news-bydate-train/rec.au...   \n",
       "98    ../data/20news_home/20news-bydate-train/comp.s...   \n",
       "654   ../data/20news_home/20news-bydate-train/comp.w...   \n",
       "1247  ../data/20news_home/20news-bydate-train/misc.f...   \n",
       "739   ../data/20news_home/20news-bydate-train/comp.w...   \n",
       "...                                                 ...   \n",
       "1657  ../data/20news_home/20news-bydate-train/misc.f...   \n",
       "1158  ../data/20news_home/20news-bydate-train/comp.w...   \n",
       "9     ../data/20news_home/20news-bydate-train/comp.s...   \n",
       "2034  ../data/20news_home/20news-bydate-train/rec.au...   \n",
       "2317  ../data/20news_home/20news-bydate-train/rec.au...   \n",
       "\n",
       "                                         tokenized_text  \\\n",
       "2296  [Could, someone, out, there, please, tell, me,...   \n",
       "98    [Send, follow, ups, to, comp.sys.mac.advocacy,...   \n",
       "654   [Do, anyone, know, about, any, shading, progra...   \n",
       "1247  [This, is, a, repost, of, an, earlier, Thanks,...   \n",
       "739   [Hi, Guys, It, has, been, a, long, time, since...   \n",
       "...                                                 ...   \n",
       "1657  [I, have, one, round, trip, ticket, good, for,...   \n",
       "1158  [The, following, packages, meet, your, criteri...   \n",
       "9     [The, previous, article, referred, to, the, fa...   \n",
       "2034  [--AutoWeek, had, an, article, about, the, car...   \n",
       "2317  [The, quality, of, autobahns, is, something, o...   \n",
       "\n",
       "                                        normalized_text  \\\n",
       "2296  [tell, saab, mail, list, specifically, need, a...   \n",
       "98    [send, follow, up, comp.sys.mac.advocacy, sorr...   \n",
       "654   [know, shade, program, base, xlib, public, dom...   \n",
       "1247  [repost, early, thank, offer, advise, realisti...   \n",
       "739   [hello, guy, long, time, write, program, x., t...   \n",
       "...                                                 ...   \n",
       "1657  [round, trip, ticket, good, travel, usa, canad...   \n",
       "1158  [follow, package, meet, criterium, pd, present...   \n",
       "9     [previous, article, refer, fact, use, 20ns, si...   \n",
       "2034  [--autoweek, article, car, past, week, issue, ...   \n",
       "2317  [quality, autobahn, myth, road, surface, diffe...   \n",
       "\n",
       "                                                   vect  \n",
       "2296  [0.0, 0.0, 0.0, 0.0, 0.0, 0.0, 0.0, 0.0, 0.0, ...  \n",
       "98    [0.0, 0.0, 0.005235062817741617, 0.0, 0.0, 0.0...  \n",
       "654   [0.0, 0.0, 0.0, 0.0, 0.0, 0.0, 0.0, 0.0, 0.0, ...  \n",
       "1247  [0.0, 0.0, 0.0, 0.0, 0.0, 0.0, 0.0, 0.0, 0.0, ...  \n",
       "739   [0.0, 0.0, 0.0, 0.0, 0.0, 0.0, 0.0, 0.0, 0.0, ...  \n",
       "...                                                 ...  \n",
       "1657  [0.0, 0.0, 0.0, 0.0, 0.0, 0.0, 0.0, 0.0, 0.0, ...  \n",
       "1158  [0.0, 0.0, 0.0, 0.0, 0.0, 0.0, 0.0, 0.0, 0.0, ...  \n",
       "9     [0.0, 0.0, 0.0, 0.0, 0.0, 0.0, 0.0, 0.0, 0.0, ...  \n",
       "2034  [0.0, 0.0, 0.0, 0.0, 0.0, 0.0, 0.0, 0.0, 0.0, ...  \n",
       "2317  [0.0, 0.0, 0.0, 0.0, 0.0, 0.0, 0.0, 0.0, 0.0, ...  \n",
       "\n",
       "[1880 rows x 6 columns]"
      ]
     },
     "execution_count": 109,
     "metadata": {},
     "output_type": "execute_result"
    }
   ],
   "source": [
    "dfTrain"
   ]
  },
  {
   "cell_type": "code",
   "execution_count": 81,
   "metadata": {},
   "outputs": [
    {
     "name": "stdout",
     "output_type": "stream",
     "text": [
      "                       Error_Rate       AUC  Precision  Average_Precision  \\\n",
      "Category                                                                    \n",
      "rec.autos                0.082979  0.913038   0.789474           0.738014   \n",
      "comp.windows.x           0.048936  0.931762   0.926230           0.853913   \n",
      "comp.sys.mac.hardware    0.063830  0.895202   0.900000           0.778917   \n",
      "misc.forsale             0.072340  0.900414   0.860870           0.766726   \n",
      "\n",
      "                         Recall  \n",
      "Category                         \n",
      "rec.autos              0.905172  \n",
      "comp.windows.x         0.889764  \n",
      "comp.sys.mac.hardware  0.818182  \n",
      "misc.forsale           0.846154  \n"
     ]
    }
   ],
   "source": [
    "#Analogizes\n",
    "clf = sklearn.svm.SVC(kernel = 'linear', probability = True) #slow, set probability = False to speed up, but lose ROC\n",
    "#clf = sklearn.svm.SVC(kernel = 'poly', degree = 3, probability = True) #slower\n",
    "#clf = sklearn.neighbors.KNeighborsClassifier(5, weights='distance')# k, 'distance' or 'uniform'\n",
    "clf.fit(np.stack(dfTrain['vect'], axis=0), dfTrain['category'])\n",
    "print(lucem_illud_2020.evaluateClassifier(clf, dfTest))"
   ]
  },
  {
   "cell_type": "code",
   "execution_count": 82,
   "metadata": {},
   "outputs": [
    {
     "data": {
      "image/png": "[encoded data removed]",
      "text/plain": [
       "<Figure size 432x288 with 1 Axes>"
      ]
     },
     "metadata": {
      "needs_background": "light"
     },
     "output_type": "display_data"
    }
   ],
   "source": [
    "lucem_illud_2020.plotConfusionMatrix(clf, dfTest)"
   ]
  },
  {
   "cell_type": "code",
   "execution_count": 83,
   "metadata": {},
   "outputs": [
    {
     "data": {
      "image/png": "[encoded data removed]",
      "text/plain": [
       "<Figure size 720x720 with 1 Axes>"
      ]
     },
     "metadata": {
      "needs_background": "light"
     },
     "output_type": "display_data"
    }
   ],
   "source": [
    "lucem_illud_2020.plotMultiROC(clf, dfTest)"
   ]
  },
  {
   "cell_type": "code",
   "execution_count": 84,
   "metadata": {},
   "outputs": [
    {
     "name": "stderr",
     "output_type": "stream",
     "text": [
      "'c' argument looks like a single numeric RGB or RGBA sequence, which should be avoided as value-mapping will have precedence in case its length matches with 'x' & 'y'.  Please use a 2-D array with a single row if you really want to specify the same RGB or RGBA value for all points.\n",
      "'c' argument looks like a single numeric RGB or RGBA sequence, which should be avoided as value-mapping will have precedence in case its length matches with 'x' & 'y'.  Please use a 2-D array with a single row if you really want to specify the same RGB or RGBA value for all points.\n",
      "'c' argument looks like a single numeric RGB or RGBA sequence, which should be avoided as value-mapping will have precedence in case its length matches with 'x' & 'y'.  Please use a 2-D array with a single row if you really want to specify the same RGB or RGBA value for all points.\n",
      "'c' argument looks like a single numeric RGB or RGBA sequence, which should be avoided as value-mapping will have precedence in case its length matches with 'x' & 'y'.  Please use a 2-D array with a single row if you really want to specify the same RGB or RGBA value for all points.\n"
     ]
    },
    {
     "data": {
      "image/png": "[encoded data removed]",
      "text/plain": [
       "<Figure size 720x720 with 1 Axes>"
      ]
     },
     "metadata": {
      "needs_background": "light"
     },
     "output_type": "display_data"
    }
   ],
   "source": [
    "lucem_illud_2020.plotregions(clf, dfTrain)"
   ]
  },
  {
   "cell_type": "code",
   "execution_count": null,
   "metadata": {},
   "outputs": [],
   "source": []
  },
  {
   "cell_type": "code",
   "execution_count": null,
   "metadata": {},
   "outputs": [],
   "source": []
  },
  {
   "cell_type": "code",
   "execution_count": null,
   "metadata": {},
   "outputs": [],
   "source": []
  },
  {
   "cell_type": "code",
   "execution_count": 110,
   "metadata": {},
   "outputs": [
    {
     "data": {
      "text/plain": [
       "<bound method NDFrame.head of                       id sentiment         airline  \\\n",
       "0     570306133677760513   neutral  Virgin America   \n",
       "1     570301130888122368  positive  Virgin America   \n",
       "2     570301083672813571   neutral  Virgin America   \n",
       "3     570301031407624196  negative  Virgin America   \n",
       "4     570300817074462722  negative  Virgin America   \n",
       "...                  ...       ...             ...   \n",
       "1995  569484788404322304  negative          United   \n",
       "1996  569484671672651776  negative          United   \n",
       "1997  569484085397057536  negative          United   \n",
       "1998  569483390581383168  positive          United   \n",
       "1999  569481897203494914  negative          United   \n",
       "\n",
       "                                                   text  \n",
       "0                   @VirginAmerica What @dhepburn said.  \n",
       "1     @VirginAmerica plus you've added commercials t...  \n",
       "2     @VirginAmerica I didn't today... Must mean I n...  \n",
       "3     @VirginAmerica it's really aggressive to blast...  \n",
       "4     @VirginAmerica and it's a really big bad thing...  \n",
       "...                                                 ...  \n",
       "1995  @united lost bag on next flight. Didn't have t...  \n",
       "1996  @united A day Late Flightr, one delayed &amp; ...  \n",
       "1997  @united can you not get the first flight of th...  \n",
       "1998  @united thank you for flying me out of the mes...  \n",
       "1999  @united What does delayed due to Customer Serv...  \n",
       "\n",
       "[2000 rows x 4 columns]>"
      ]
     },
     "execution_count": 110,
     "metadata": {},
     "output_type": "execute_result"
    }
   ],
   "source": [
    "#Exercise 2\n",
    "\n",
    "f = \"/Users/shiyipeng/Downloads/twitter-airline-sentiment/Tweets.csv\"\n",
    "df = pd.read_csv(f,encoding = \"ISO-8859-1\")\n",
    "df = df[:2000]\n",
    "df = df[['tweet_id','airline_sentiment','airline','text']]\n",
    "df.columns = ['id','sentiment','airline','text']\n",
    "df.head"
   ]
  },
  {
   "cell_type": "code",
   "execution_count": 111,
   "metadata": {},
   "outputs": [
    {
     "name": "stdout",
     "output_type": "stream",
     "text": [
      "1200\n",
      "800\n",
      "<bound method NDFrame.head of                       id sentiment         airline  \\\n",
      "179   569324558999691264   neutral  Virgin America   \n",
      "101   569892199690678272  negative  Virgin America   \n",
      "1554  569666428388958209   neutral          United   \n",
      "645   570230752476049408   neutral          United   \n",
      "175   569356387785900032   neutral  Virgin America   \n",
      "...                  ...       ...             ...   \n",
      "1429  569723892358467584  negative          United   \n",
      "442   568053134439788546   neutral  Virgin America   \n",
      "1484  569702566126325760  negative          United   \n",
      "295   568837602071203840   neutral  Virgin America   \n",
      "623   570245555064074240  negative          United   \n",
      "\n",
      "                                                   text  category  \\\n",
      "179                   @VirginAmerica @TTINAC11 I DM you      True   \n",
      "101   @VirginAmerica why must a traveler miss a flig...     False   \n",
      "1554  @united left my iPad on MCO-&gt;IAD flight 174...      True   \n",
      "645   @united A Tourist Wonder: Super Tides and Tide...      True   \n",
      "175   @VirginAmerica I'd love to know what your poli...      True   \n",
      "...                                                 ...       ...   \n",
      "1429  @united you advertise the flight and its still...     False   \n",
      "442   @VirginAmerica please add more frequency to PD...      True   \n",
      "1484  @united i did but i got nothing from it. Just ...     False   \n",
      "295   @VirginAmerica I applied for a position in @fl...      True   \n",
      "623   @united What's going on with your website? I'm...     False   \n",
      "\n",
      "                                         tokenized_text  \\\n",
      "179             [@VirginAmerica, @TTINAC11, I, DM, you]   \n",
      "101   [@VirginAmerica, why, must, a, traveler, miss,...   \n",
      "1554  [@united, left, my, iPad, on, MCO-&gt;IAD, fli...   \n",
      "645   [@united, A, Tourist, Wonder, Super, Tides, an...   \n",
      "175   [@VirginAmerica, I, 'd, love, to, know, what, ...   \n",
      "...                                                 ...   \n",
      "1429  [@united, you, advertise, the, flight, and, it...   \n",
      "442   [@VirginAmerica, please, add, more, frequency,...   \n",
      "1484  [@united, i, did, but, i, got, nothing, from, ...   \n",
      "295   [@VirginAmerica, I, applied, for, a, position,...   \n",
      "623   [@united, What, 's, going, on, with, your, web...   \n",
      "\n",
      "                                        normalized_text  \n",
      "179                     [@virginamerica, @ttinac11, dm]  \n",
      "101   [@virginamerica, traveler, miss, flight, late,...  \n",
      "1554  [@united, leave, ipad, mco-&gt;iad, flight, lo...  \n",
      "645   [@united, tourist, wonder, super, tide, tide, ...  \n",
      "175   [@virginamerica, love, know, policy, damage, l...  \n",
      "...                                                 ...  \n",
      "1429  [@united, advertise, flight, website, book, sp...  \n",
      "442     [@virginamerica, add, frequency, pdx, portland]  \n",
      "1484                 [@united, get, dissapointment, =(]  \n",
      "295   [@virginamerica, apply, position, @flylaxairpo...  \n",
      "623   [@united, go, website, be, flight, book, probl...  \n",
      "\n",
      "[1200 rows x 7 columns]>\n"
     ]
    }
   ],
   "source": [
    "df['category'] = [s == 'neutral' for s in df['sentiment']]\n",
    "#print(df['category'])\n",
    "df['tokenized_text'] = df['text'].apply(lambda x: lucem_illud_2020.word_tokenize(x))\n",
    "df['normalized_text'] = df['tokenized_text'].apply(lambda x: lucem_illud_2020.normalizeTokens(x))\n",
    "holdBackFraction = .4\n",
    "train_data_df, test_data_df = lucem_illud_2020.trainTestSplit(df, holdBackFraction=holdBackFraction)\n",
    "print(len(train_data_df))\n",
    "print(len(test_data_df))\n",
    "print(train_data_df.head)"
   ]
  },
  {
   "cell_type": "code",
   "execution_count": 114,
   "metadata": {},
   "outputs": [
    {
     "data": {
      "text/plain": [
       "(1200, 3245)"
      ]
     },
     "execution_count": 114,
     "metadata": {},
     "output_type": "execute_result"
    }
   ],
   "source": [
    "TFVectorizer = sklearn.feature_extraction.text.TfidfVectorizer(max_df=2000, min_df=1, stop_words='english', norm='l2')\n",
    "TFVects = TFVectorizer.fit_transform(train_data_df['text'])\n",
    "\n",
    "TFVects.shape"
   ]
  },
  {
   "cell_type": "code",
   "execution_count": 115,
   "metadata": {},
   "outputs": [
    {
     "name": "stderr",
     "output_type": "stream",
     "text": [
      "'c' argument looks like a single numeric RGB or RGBA sequence, which should be avoided as value-mapping will have precedence in case its length matches with 'x' & 'y'.  Please use a 2-D array with a single row if you really want to specify the same RGB or RGBA value for all points.\n",
      "'c' argument looks like a single numeric RGB or RGBA sequence, which should be avoided as value-mapping will have precedence in case its length matches with 'x' & 'y'.  Please use a 2-D array with a single row if you really want to specify the same RGB or RGBA value for all points.\n"
     ]
    },
    {
     "data": {
      "image/png": "[encoded data removed]",
      "text/plain": [
       "<Figure size 720x720 with 1 Axes>"
      ]
     },
     "metadata": {
      "needs_background": "light"
     },
     "output_type": "display_data"
    }
   ],
   "source": [
    "train_data_df['vect'] = [np.array(v).flatten() for v in TFVects.todense()]\n",
    "\n",
    "    \n",
    "pca = sklearn.decomposition.PCA()\n",
    "reduced_data = pca.fit_transform(np.stack(train_data_df['vect'],axis=0))\n",
    "train_data_df['pca'] = [r for r in reduced_data]\n",
    "\n",
    "fig, ax = plt.subplots(figsize = (10,10))\n",
    "ax.axis('off')\n",
    "pallet = seaborn.color_palette(palette='coolwarm', n_colors = 2)\n",
    "\n",
    "#Plot neutral\n",
    "a = np.stack(train_data_df[train_data_df['category']]['pca'])\n",
    "ax.scatter(a[:,0], a[:, 1], c = pallet[0], label = \"Neutral\")\n",
    "\n",
    "#Plot not neutral\n",
    "a = np.stack(train_data_df[train_data_df['category'].eq(False)]['pca'])\n",
    "ax.scatter(a[:,0], a[:, 1], c = pallet[1], label = \"Not Neutral\")\n",
    "    \n",
    "ax.legend(loc = 'upper right', title = 'Sentiment')\n",
    "plt.title('True Classes, Training Set')\n",
    "plt.show()"
   ]
  },
  {
   "cell_type": "code",
   "execution_count": 89,
   "metadata": {},
   "outputs": [
    {
     "data": {
      "image/png": "[encoded data removed]",
      "text/plain": [
       "<Figure size 1152x360 with 3 Axes>"
      ]
     },
     "metadata": {
      "needs_background": "light"
     },
     "output_type": "display_data"
    }
   ],
   "source": [
    "n = len(train_data_df)\n",
    "\n",
    "fig, (ax1, ax2, ax3) = plt.subplots(ncols=3, figsize = (16, 5), sharey=True)\n",
    "\n",
    "eigen_vals = np.arange(n) + 1\n",
    "ax1.plot(eigen_vals, pca.explained_variance_ratio_, 'ro-', linewidth=1)\n",
    "ax1.set_title('Scree Plot (Full)')\n",
    "ax1.set_xlabel('Principal Component')\n",
    "ax1.set_ylabel('Proportion of Explained Variance')\n",
    "\n",
    "eigen_vals = np.arange(50) + 1\n",
    "ax2.plot(eigen_vals, pca.explained_variance_ratio_[:50], 'ro-', linewidth=1)\n",
    "ax2.set_title('Scree Plot (First 50 Principal Components)')\n",
    "ax2.set_xlabel('Principal Component')\n",
    "ax2.set_ylabel('Proportion of Explained Variance')\n",
    "\n",
    "\n",
    "eigen_vals = np.arange(20) + 1\n",
    "ax3.plot(eigen_vals, pca.explained_variance_ratio_[:20], 'ro-', linewidth=2)\n",
    "ax3.set_title('Scree Plot (First 50 Principal Components)')\n",
    "ax3.set_xlabel('Principal Component')\n",
    "ax3.set_ylabel('Proportion of Explained Variance')\n",
    "\n",
    "plt.show()"
   ]
  },
  {
   "cell_type": "code",
   "execution_count": 116,
   "metadata": {},
   "outputs": [
    {
     "name": "stdout",
     "output_type": "stream",
     "text": [
      "179     [0.016007111403910017, 0.20025036277905187, 0....\n",
      "101     [-0.09191784332794876, 0.042294178974874676, -...\n",
      "1554    [-0.03144037298048806, -0.05129264318630201, -...\n",
      "645     [-0.009282190622061499, -0.0034446680509092682...\n",
      "175     [-0.04050073232626786, 0.17753763850877388, -0...\n",
      "                              ...                        \n",
      "1429    [-0.014436319390928066, -0.06140589722456736, ...\n",
      "442     [-0.03127698344359503, 0.16582225331834916, -0...\n",
      "1484    [0.0268264972541374, -0.07416308364677067, 0.0...\n",
      "295     [-0.033180198609930385, 0.13776616771974393, 0...\n",
      "623     [-0.03805783260712196, -0.021668820426856934, ...\n",
      "Name: pca_reduced_10, Length: 1200, dtype: object\n"
     ]
    }
   ],
   "source": [
    "train_data_df['pca_reduced_10'] = train_data_df['pca'].apply(lambda x: x[:10])\n",
    "print(train_data_df['pca_reduced_10'])"
   ]
  },
  {
   "cell_type": "code",
   "execution_count": 117,
   "metadata": {},
   "outputs": [
    {
     "data": {
      "text/plain": [
       "LogisticRegression(C=1.0, class_weight=None, dual=False, fit_intercept=True,\n",
       "                   intercept_scaling=1, l1_ratio=None, max_iter=100,\n",
       "                   multi_class='auto', n_jobs=None, penalty='l2',\n",
       "                   random_state=None, solver='lbfgs', tol=0.0001, verbose=0,\n",
       "                   warm_start=False)"
      ]
     },
     "execution_count": 117,
     "metadata": {},
     "output_type": "execute_result"
    }
   ],
   "source": [
    "#Logistic Regression\n",
    "import numpy as np\n",
    "logistic = sklearn.linear_model.LogisticRegression()\n",
    "logistic.fit(np.stack(train_data_df['pca_reduced_10'],axis=0), train_data_df['category'])"
   ]
  },
  {
   "cell_type": "code",
   "execution_count": 118,
   "metadata": {},
   "outputs": [
    {
     "data": {
      "text/plain": [
       "0.7891666666666667"
      ]
     },
     "execution_count": 118,
     "metadata": {},
     "output_type": "execute_result"
    }
   ],
   "source": [
    "logistic.score(np.stack(train_data_df['pca_reduced_10'], axis=0), train_data_df['category'])"
   ]
  },
  {
   "cell_type": "code",
   "execution_count": 119,
   "metadata": {},
   "outputs": [
    {
     "name": "stdout",
     "output_type": "stream",
     "text": [
      "1855    [0.0, 0.0, 0.0, 0.0, 0.0, 0.0, 0.0, 0.0, 0.0, ...\n",
      "1487    [0.0, 0.0, 0.0, 0.0, 0.0, 0.0, 0.0, 0.0, 0.0, ...\n",
      "727     [0.0, 0.0, 0.0, 0.0, 0.0, 0.0, 0.0, 0.0, 0.0, ...\n",
      "1401    [0.0, 0.0, 0.0, 0.0, 0.0, 0.0, 0.0, 0.0, 0.0, ...\n",
      "890     [0.0, 0.0, 0.0, 0.0, 0.0, 0.0, 0.0, 0.0, 0.0, ...\n",
      "                              ...                        \n",
      "1815    [0.0, 0.0, 0.0, 0.0, 0.0, 0.0, 0.0, 0.0, 0.0, ...\n",
      "746     [0.0, 0.0, 0.0, 0.0, 0.0, 0.0, 0.0, 0.0, 0.0, ...\n",
      "1796    [0.0, 0.0, 0.0, 0.0, 0.0, 0.0, 0.0, 0.0, 0.0, ...\n",
      "1656    [0.0, 0.0, 0.0, 0.0, 0.0, 0.0, 0.0, 0.0, 0.0, ...\n",
      "451     [0.0, 0.0, 0.0, 0.0, 0.0, 0.0, 0.0, 0.0, 0.0, ...\n",
      "Name: vect, Length: 800, dtype: object\n"
     ]
    },
    {
     "data": {
      "text/plain": [
       "0.8"
      ]
     },
     "execution_count": 119,
     "metadata": {},
     "output_type": "execute_result"
    }
   ],
   "source": [
    "#Create vectors\n",
    "TFVects_test = TFVectorizer.transform(test_data_df['text'])\n",
    "test_data_df['vect'] = [np.array(v).flatten() for v in TFVects_test.todense()]\n",
    "print(test_data_df['vect'])\n",
    "\n",
    "#PCA\n",
    "reduced_data_test = pca.transform(np.stack(test_data_df['vect'], axis=0))\n",
    "test_data_df['pca'] = [r for r in reduced_data_test]\n",
    "test_data_df['pca_reduced_10'] = test_data_df['pca'].apply(lambda x: x[:10])\n",
    "\n",
    "#Test\n",
    "logistic.score(np.stack(test_data_df['pca_reduced_10'], axis=0), test_data_df['category'])"
   ]
  },
  {
   "cell_type": "code",
   "execution_count": 120,
   "metadata": {},
   "outputs": [
    {
     "name": "stdout",
     "output_type": "stream",
     "text": [
      "Training:\n",
      "0.7941666666666667\n",
      "Testing:\n",
      "0.7975\n"
     ]
    }
   ],
   "source": [
    "train_data_df['pca_reduced_40'] = train_data_df['pca'].apply(lambda x: x[:40])\n",
    "test_data_df['pca_reduced_40'] = test_data_df['pca'].apply(lambda x: x[:40])\n",
    "\n",
    "logistic.fit(np.stack(train_data_df['pca_reduced_40'], axis=0), train_data_df['category'])\n",
    "\n",
    "print(\"Training:\")\n",
    "print(logistic.score(np.stack(train_data_df['pca_reduced_40'], axis=0), train_data_df['category']))\n",
    "print(\"Testing:\")\n",
    "print(logistic.score(np.stack(test_data_df['pca_reduced_40'], axis=0), test_data_df['category']))"
   ]
  },
  {
   "cell_type": "code",
   "execution_count": 121,
   "metadata": {},
   "outputs": [
    {
     "name": "stdout",
     "output_type": "stream",
     "text": [
      "Training:\n",
      "0.7983333333333333\n",
      "Testing:\n",
      "0.80125\n"
     ]
    }
   ],
   "source": [
    "train_data_df['pca_reduced_100'] = train_data_df['pca'].apply(lambda x: x[:100])\n",
    "test_data_df['pca_reduced_100'] = test_data_df['pca'].apply(lambda x: x[:100])\n",
    "\n",
    "logistic.fit(np.stack(train_data_df['pca_reduced_100'], axis=0), train_data_df['category'])\n",
    "\n",
    "print(\"Training:\")\n",
    "print(logistic.score(np.stack(train_data_df['pca_reduced_100'], axis=0), train_data_df['category']))\n",
    "print(\"Testing:\")\n",
    "print(logistic.score(np.stack(test_data_df['pca_reduced_100'], axis=0), test_data_df['category']))"
   ]
  },
  {
   "cell_type": "code",
   "execution_count": 122,
   "metadata": {},
   "outputs": [
    {
     "name": "stdout",
     "output_type": "stream",
     "text": [
      "Training:\n",
      "0.7966666666666666\n",
      "Testing:\n",
      "0.80375\n"
     ]
    }
   ],
   "source": [
    "train_data_df['pca_reduced_200'] = train_data_df['pca'].apply(lambda x: x[:200])\n",
    "test_data_df['pca_reduced_200'] = test_data_df['pca'].apply(lambda x: x[:200])\n",
    "\n",
    "#Logistic Regression\n",
    "logistic.fit(np.stack(train_data_df['pca_reduced_200'], axis=0), train_data_df['category'])\n",
    "\n",
    "print(\"Training:\")\n",
    "print(logistic.score(np.stack(train_data_df['pca_reduced_200'], axis=0), train_data_df['category']))\n",
    "print(\"Testing:\")\n",
    "print(logistic.score(np.stack(test_data_df['pca_reduced_200'], axis=0), test_data_df['category']))"
   ]
  },
  {
   "cell_type": "code",
   "execution_count": 123,
   "metadata": {},
   "outputs": [
    {
     "name": "stdout",
     "output_type": "stream",
     "text": [
      "Training:\n",
      "0.8\n",
      "Testing:\n",
      "0.80375\n"
     ]
    }
   ],
   "source": [
    "train_data_df['pca_reduced_400'] = train_data_df['pca'].apply(lambda x: x[:400])\n",
    "test_data_df['pca_reduced_400'] = test_data_df['pca'].apply(lambda x: x[:400])\n",
    "\n",
    "logistic.fit(np.stack(train_data_df['pca_reduced_400'], axis=0), train_data_df['category'])\n",
    "\n",
    "print(\"Training:\")\n",
    "print(logistic.score(np.stack(train_data_df['pca_reduced_400'], axis=0), train_data_df['category']))\n",
    "print(\"Testing:\")\n",
    "print(logistic.score(np.stack(test_data_df['pca_reduced_400'], axis=0), test_data_df['category']))"
   ]
  },
  {
   "cell_type": "code",
   "execution_count": 124,
   "metadata": {},
   "outputs": [
    {
     "data": {
      "text/plain": [
       "LogisticRegression(C=1.0, class_weight=None, dual=False, fit_intercept=True,\n",
       "                   intercept_scaling=1, l1_ratio=None, max_iter=100,\n",
       "                   multi_class='auto', n_jobs=None, penalty='l2',\n",
       "                   random_state=None, solver='lbfgs', tol=0.0001, verbose=0,\n",
       "                   warm_start=False)"
      ]
     },
     "execution_count": 124,
     "metadata": {},
     "output_type": "execute_result"
    }
   ],
   "source": [
    "logistic_l1= sklearn.linear_model.LogisticRegression(penalty='l2')\n",
    "logistic_l1.fit(np.stack(train_data_df['vect'], axis=0), train_data_df['category'])\n"
   ]
  },
  {
   "cell_type": "code",
   "execution_count": 125,
   "metadata": {},
   "outputs": [
    {
     "name": "stdout",
     "output_type": "stream",
     "text": [
      "0.80375\n"
     ]
    }
   ],
   "source": [
    "print(logistic_l1.score(np.stack(test_data_df['vect'], axis=0), test_data_df['category']))"
   ]
  },
  {
   "cell_type": "code",
   "execution_count": 126,
   "metadata": {},
   "outputs": [
    {
     "data": {
      "text/plain": [
       "BernoulliNB(alpha=1.0, binarize=0.0, class_prior=None, fit_prior=True)"
      ]
     },
     "execution_count": 126,
     "metadata": {},
     "output_type": "execute_result"
    }
   ],
   "source": [
    "#Naive Bayes\n",
    "\n",
    "naiveBayes = sklearn.naive_bayes.BernoulliNB()\n",
    "naiveBayes.fit(np.stack(train_data_df['vect'], axis=0), train_data_df['category'])"
   ]
  },
  {
   "cell_type": "code",
   "execution_count": 127,
   "metadata": {},
   "outputs": [
    {
     "name": "stdout",
     "output_type": "stream",
     "text": [
      "Training:\n",
      "0.8583333333333333\n",
      "Testing:\n",
      "0.8075\n"
     ]
    }
   ],
   "source": [
    "print(\"Training:\")\n",
    "print(naiveBayes.score(np.stack(train_data_df['vect'], axis=0), train_data_df['category']))\n",
    "print(\"Testing:\")\n",
    "print(naiveBayes.score(np.stack(test_data_df['vect'], axis=0), test_data_df['category']))"
   ]
  },
  {
   "cell_type": "code",
   "execution_count": 131,
   "metadata": {},
   "outputs": [
    {
     "data": {
      "text/plain": [
       "0.8"
      ]
     },
     "execution_count": 131,
     "metadata": {},
     "output_type": "execute_result"
    }
   ],
   "source": [
    "#Precision\n",
    "test_data_df['nb_predict'] = naiveBayes.predict(np.stack(test_data_df['vect'], axis=0))\n",
    "test_data_df['nb_predict_prob_true'] = naiveBayes.predict_proba(np.stack(test_data_df['vect'], axis=0))[:,0]\n",
    "sklearn.metrics.precision_score(test_data_df['category'], test_data_df['nb_predict'])"
   ]
  },
  {
   "cell_type": "code",
   "execution_count": 103,
   "metadata": {},
   "outputs": [
    {
     "data": {
      "text/plain": [
       "0.8333333333333334"
      ]
     },
     "execution_count": 103,
     "metadata": {},
     "output_type": "execute_result"
    }
   ],
   "source": [
    "#Recall\n",
    "sklearn.metrics.precision_score(test_data_df['category'], test_data_df['nb_predict'])"
   ]
  },
  {
   "cell_type": "code",
   "execution_count": 104,
   "metadata": {},
   "outputs": [
    {
     "data": {
      "text/plain": [
       "0.060240963855421686"
      ]
     },
     "execution_count": 104,
     "metadata": {},
     "output_type": "execute_result"
    }
   ],
   "source": [
    "#F1-measure\n",
    "sklearn.metrics.f1_score(test_data_df['category'], test_data_df['nb_predict'])"
   ]
  },
  {
   "cell_type": "code",
   "execution_count": 105,
   "metadata": {},
   "outputs": [
    {
     "data": {
      "image/png": "[encoded data removed]",
      "text/plain": [
       "<Figure size 432x288 with 1 Axes>"
      ]
     },
     "metadata": {
      "needs_background": "light"
     },
     "output_type": "display_data"
    }
   ],
   "source": [
    "fig, ax = plt.subplots()\n",
    "ax.grid(False)\n",
    "ax.set_frame_on(False)\n",
    "test_data_df[test_data_df['category'].eq(True)]['nb_predict_prob_true'].hist(alpha = 0.5, ax = ax, bins = 10, label = 'True', color = 'red')\n",
    "test_data_df[test_data_df['category'].eq(False)]['nb_predict_prob_true'].hist(alpha = 0.5, ax = ax, bins = 10, label = 'False', color = 'blue')\n",
    "ax.set_xlim((0,1.1))\n",
    "ax.legend(title = \"Is Neutral\")\n",
    "ax.set_xlabel('posterior')\n",
    "ax.set_ylabel('counts')\n",
    "plt.show()"
   ]
  },
  {
   "cell_type": "code",
   "execution_count": 106,
   "metadata": {},
   "outputs": [
    {
     "data": {
      "text/html": [
       "<div>\n",
       "<style scoped>\n",
       "    .dataframe tbody tr th:only-of-type {\n",
       "        vertical-align: middle;\n",
       "    }\n",
       "\n",
       "    .dataframe tbody tr th {\n",
       "        vertical-align: top;\n",
       "    }\n",
       "\n",
       "    .dataframe thead th {\n",
       "        text-align: right;\n",
       "    }\n",
       "</style>\n",
       "<table border=\"1\" class=\"dataframe\">\n",
       "  <thead>\n",
       "    <tr style=\"text-align: right;\">\n",
       "      <th></th>\n",
       "      <th>neutral</th>\n",
       "      <th>neutral_log_prob</th>\n",
       "      <th>not_neutral</th>\n",
       "      <th>notneutral_log_prob</th>\n",
       "    </tr>\n",
       "  </thead>\n",
       "  <tbody>\n",
       "    <tr>\n",
       "      <th>0</th>\n",
       "      <td>united</td>\n",
       "      <td>-0.243768</td>\n",
       "      <td>united</td>\n",
       "      <td>-0.521095</td>\n",
       "    </tr>\n",
       "    <tr>\n",
       "      <th>1</th>\n",
       "      <td>flight</td>\n",
       "      <td>-1.483090</td>\n",
       "      <td>virginamerica</td>\n",
       "      <td>-0.901081</td>\n",
       "    </tr>\n",
       "    <tr>\n",
       "      <th>2</th>\n",
       "      <td>virginamerica</td>\n",
       "      <td>-1.521190</td>\n",
       "      <td>flight</td>\n",
       "      <td>-1.826851</td>\n",
       "    </tr>\n",
       "    <tr>\n",
       "      <th>3</th>\n",
       "      <td>service</td>\n",
       "      <td>-2.531578</td>\n",
       "      <td>http</td>\n",
       "      <td>-1.900959</td>\n",
       "    </tr>\n",
       "    <tr>\n",
       "      <th>4</th>\n",
       "      <td>just</td>\n",
       "      <td>-2.545001</td>\n",
       "      <td>need</td>\n",
       "      <td>-2.345645</td>\n",
       "    </tr>\n",
       "    <tr>\n",
       "      <th>5</th>\n",
       "      <td>thanks</td>\n",
       "      <td>-2.806015</td>\n",
       "      <td>dm</td>\n",
       "      <td>-2.620081</td>\n",
       "    </tr>\n",
       "    <tr>\n",
       "      <th>6</th>\n",
       "      <td>delayed</td>\n",
       "      <td>-2.823715</td>\n",
       "      <td>flights</td>\n",
       "      <td>-2.791932</td>\n",
       "    </tr>\n",
       "    <tr>\n",
       "      <th>7</th>\n",
       "      <td>customer</td>\n",
       "      <td>-2.841733</td>\n",
       "      <td>know</td>\n",
       "      <td>-2.999571</td>\n",
       "    </tr>\n",
       "    <tr>\n",
       "      <th>8</th>\n",
       "      <td>http</td>\n",
       "      <td>-2.841733</td>\n",
       "      <td>thanks</td>\n",
       "      <td>-2.999571</td>\n",
       "    </tr>\n",
       "    <tr>\n",
       "      <th>9</th>\n",
       "      <td>time</td>\n",
       "      <td>-2.878774</td>\n",
       "      <td>flying</td>\n",
       "      <td>-3.166625</td>\n",
       "    </tr>\n",
       "    <tr>\n",
       "      <th>10</th>\n",
       "      <td>cancelled</td>\n",
       "      <td>-2.897823</td>\n",
       "      <td>help</td>\n",
       "      <td>-3.166625</td>\n",
       "    </tr>\n",
       "    <tr>\n",
       "      <th>11</th>\n",
       "      <td>bag</td>\n",
       "      <td>-2.977865</td>\n",
       "      <td>new</td>\n",
       "      <td>-3.166625</td>\n",
       "    </tr>\n",
       "    <tr>\n",
       "      <th>12</th>\n",
       "      <td>plane</td>\n",
       "      <td>-2.977865</td>\n",
       "      <td>today</td>\n",
       "      <td>-3.166625</td>\n",
       "    </tr>\n",
       "    <tr>\n",
       "      <th>13</th>\n",
       "      <td>amp</td>\n",
       "      <td>-3.042404</td>\n",
       "      <td>way</td>\n",
       "      <td>-3.166625</td>\n",
       "    </tr>\n",
       "    <tr>\n",
       "      <th>14</th>\n",
       "      <td>hours</td>\n",
       "      <td>-3.042404</td>\n",
       "      <td>just</td>\n",
       "      <td>-3.261935</td>\n",
       "    </tr>\n",
       "  </tbody>\n",
       "</table>\n",
       "</div>"
      ],
      "text/plain": [
       "          neutral  neutral_log_prob    not_neutral  notneutral_log_prob\n",
       "0          united         -0.243768         united            -0.521095\n",
       "1          flight         -1.483090  virginamerica            -0.901081\n",
       "2   virginamerica         -1.521190         flight            -1.826851\n",
       "3         service         -2.531578           http            -1.900959\n",
       "4            just         -2.545001           need            -2.345645\n",
       "5          thanks         -2.806015             dm            -2.620081\n",
       "6         delayed         -2.823715        flights            -2.791932\n",
       "7        customer         -2.841733           know            -2.999571\n",
       "8            http         -2.841733         thanks            -2.999571\n",
       "9            time         -2.878774         flying            -3.166625\n",
       "10      cancelled         -2.897823           help            -3.166625\n",
       "11            bag         -2.977865            new            -3.166625\n",
       "12          plane         -2.977865          today            -3.166625\n",
       "13            amp         -3.042404            way            -3.166625\n",
       "14          hours         -3.042404           just            -3.261935"
      ]
     },
     "execution_count": 106,
     "metadata": {},
     "output_type": "execute_result"
    }
   ],
   "source": [
    "#Top indices\n",
    "trueVals, falseVals = naiveBayes.feature_log_prob_\n",
    "\n",
    "words_dict = {\n",
    "    'neutral' : [],\n",
    "    'neutral_log_prob' : [],\n",
    "    'not_neutral' : [],\n",
    "    'notneutral_log_prob' : [],\n",
    "}\n",
    "\n",
    "for i, prob in sorted(enumerate(trueVals), key = lambda x:x[1], reverse=True)[:15]:\n",
    "    words_dict['neutral'].append(TFVectorizer.get_feature_names()[i])\n",
    "    words_dict['neutral_log_prob'].append(prob)\n",
    "\n",
    "for i, prob in sorted(enumerate(falseVals), key = lambda x:x[1], reverse=True)[:15]:\n",
    "    words_dict['not_neutral'].append(TFVectorizer.get_feature_names()[i])\n",
    "    words_dict['notneutral_log_prob'].append(prob)\n",
    "    \n",
    "pd.DataFrame(words_dict)"
   ]
  },
  {
   "cell_type": "code",
   "execution_count": null,
   "metadata": {},
   "outputs": [],
   "source": [
    "'''\n",
    "In my sentiment analysis on United Airline, logistic regression with 400 dimensions print the best predictions. It seems undoubtedly that the more dimensions are incorperated in PCA, the result will be more accurate. F1-measure returns a very bad result. From the posterior distribution we can tell that neutral comments are much less than non neutral comments. However, it gets confusing when we look at the top indices, we see words like \"cancelled\" and \"thanks\" are also classified as neutral comments. It reflects a fact in airline that such words are normally used so that their sentimental dependence has been reduced. \n",
    "'''"
   ]
  },
  {
   "cell_type": "code",
   "execution_count": 146,
   "metadata": {},
   "outputs": [
    {
     "data": {
      "text/plain": [
       "<bound method NDFrame.head of                       id sentiment         airline  \\\n",
       "413   568144330268868608   neutral  Virgin America   \n",
       "1807  569577455176048642  negative          United   \n",
       "1522  569683734951170048  negative          United   \n",
       "1912  569523440547291136  negative          United   \n",
       "1589  569654428636049408   neutral          United   \n",
       "...                  ...       ...             ...   \n",
       "1274  569857624549625856  negative          United   \n",
       "551   570284312697765888   neutral          United   \n",
       "1311  569838692220542976  negative          United   \n",
       "609   570252146320351232  negative          United   \n",
       "1911  569523831460761601  negative          United   \n",
       "\n",
       "                                                   text  category  \\\n",
       "413            @VirginAmerica no A's channel this year?      True   \n",
       "1807  @united more people would catch their flights ...     False   \n",
       "1522  @united resolved and im sick and tired of wait...     False   \n",
       "1912  .@united Our newest delay, right now http://t....     False   \n",
       "1589                                  @united no thanks      True   \n",
       "...                                                 ...       ...   \n",
       "1274  @united also forgot add our bag is probably go...     False   \n",
       "551   @united Kewl. Will also let them know the over...      True   \n",
       "1311  @united well for a start it would be nice if y...     False   \n",
       "609   @united #worst2unitedflightsever UA1429 IAD to...     False   \n",
       "1911  @united I did already rebook, and now I will m...     False   \n",
       "\n",
       "                                         tokenized_text  \\\n",
       "413    [@VirginAmerica, no, A, 's, channel, this, year]   \n",
       "1807  [@united, more, people, would, catch, their, f...   \n",
       "1522  [@united, resolved, and, i, m, sick, and, tire...   \n",
       "1912  [.@united, Our, newest, delay, right, now, htt...   \n",
       "1589                              [@united, no, thanks]   \n",
       "...                                                 ...   \n",
       "1274  [@united, also, forgot, add, our, bag, is, pro...   \n",
       "551   [@united, Kewl, Will, also, let, them, know, t...   \n",
       "1311  [@united, well, for, a, start, it, would, be, ...   \n",
       "609   [@united, worst2unitedflightsever, UA1429, IAD...   \n",
       "1911  [@united, I, did, already, rebook, and, now, I...   \n",
       "\n",
       "                                        normalized_text  \\\n",
       "413                     [@virginamerica, channel, year]   \n",
       "1807  [@united, people, catch, flight, attendant, help]   \n",
       "1522  [@united, resolve, be, sick, tire, wait, want,...   \n",
       "1912  [.@united, new, delay, right, http://t.co/96ft...   \n",
       "1589                                   [@united, thank]   \n",
       "...                                                 ...   \n",
       "1274  [@united, forget, add, bag, probably, go, sit,...   \n",
       "551   [@united, kewl, let, know, overhead, bin, row,...   \n",
       "1311  [@united, start, nice, ticket, actually, syste...   \n",
       "609   [@united, worst2unitedflightsever, ua1429, iad...   \n",
       "1911  [@united, rebook, miss, appointment, london, t...   \n",
       "\n",
       "                                                   vect  \n",
       "413   [0.0, 0.0, 0.0, 0.0, 0.0, 0.0, 0.0, 0.0, 0.0, ...  \n",
       "1807  [0.0, 0.0, 0.0, 0.0, 0.0, 0.0, 0.0, 0.0, 0.0, ...  \n",
       "1522  [0.0, 0.0, 0.0, 0.0, 0.0, 0.0, 0.0, 0.0, 0.0, ...  \n",
       "1912  [0.0, 0.0, 0.0, 0.0, 0.0, 0.0, 0.0, 0.0, 0.0, ...  \n",
       "1589  [0.0, 0.0, 0.0, 0.0, 0.0, 0.0, 0.0, 0.0, 0.0, ...  \n",
       "...                                                 ...  \n",
       "1274  [0.0, 0.0, 0.0, 0.0, 0.0, 0.0, 0.0, 0.0, 0.0, ...  \n",
       "551   [0.0, 0.0, 0.0, 0.0, 0.0, 0.0, 0.0, 0.0, 0.0, ...  \n",
       "1311  [0.0, 0.0, 0.0, 0.0, 0.0, 0.0, 0.0, 0.0, 0.0, ...  \n",
       "609   [0.0, 0.0, 0.0, 0.0, 0.0, 0.0, 0.0, 0.0, 0.0, ...  \n",
       "1911  [0.0, 0.0, 0.0, 0.0, 0.0, 0.0, 0.0, 0.0, 0.0, ...  \n",
       "\n",
       "[1600 rows x 8 columns]>"
      ]
     },
     "execution_count": 146,
     "metadata": {},
     "output_type": "execute_result"
    }
   ],
   "source": [
    "# Exercise 3\n",
    "blobs_df = lucem_illud_2020.multiBlobs(noise=.2, centers=[(0,0), (0,5), (5,0), (-5,0), (0,-5)])\n",
    "\n",
    "Vectorizer = sklearn.feature_extraction.text.TfidfVectorizer(max_df=2000, min_df=1, stop_words='english', norm='l2')\n",
    "Vects = TFVectorizer.fit_transform(df['text'])\n",
    "df['vect'] = [np.array(v).flatten() for v in Vects.todense()]\n",
    "\n",
    "df_exampleTree_train, df_exampleTree_test = lucem_illud_2020.trainTestSplit(df)\n",
    "df_exampleTree_train.head\n",
    "\n",
    "\n",
    "#df_exampleTree_train['vect'] = [np.array(v).flatten() for v in Vects.todense()]\n",
    "#df_exampleTree_test['vect'] = [np.array(v).flatten() for v in Vects.todense()]"
   ]
  },
  {
   "cell_type": "code",
   "execution_count": 147,
   "metadata": {},
   "outputs": [
    {
     "data": {
      "text/plain": [
       "DecisionTreeClassifier(ccp_alpha=0.0, class_weight=None, criterion='gini',\n",
       "                       max_depth=4, max_features=None, max_leaf_nodes=None,\n",
       "                       min_impurity_decrease=0.0, min_impurity_split=None,\n",
       "                       min_samples_leaf=1, min_samples_split=2,\n",
       "                       min_weight_fraction_leaf=0.0, presort='deprecated',\n",
       "                       random_state=0, splitter='best')"
      ]
     },
     "execution_count": 147,
     "metadata": {},
     "output_type": "execute_result"
    }
   ],
   "source": [
    "clf_trees = sklearn.tree.DecisionTreeClassifier(max_depth=4,random_state=0)\n",
    "\n",
    "clf_trees.fit(np.stack(df_exampleTree_train['vect'], axis =0), df_exampleTree_train['category'])\n"
   ]
  },
  {
   "cell_type": "code",
   "execution_count": 148,
   "metadata": {},
   "outputs": [
    {
     "name": "stderr",
     "output_type": "stream",
     "text": [
      "'c' argument looks like a single numeric RGB or RGBA sequence, which should be avoided as value-mapping will have precedence in case its length matches with 'x' & 'y'.  Please use a 2-D array with a single row if you really want to specify the same RGB or RGBA value for all points.\n",
      "'c' argument looks like a single numeric RGB or RGBA sequence, which should be avoided as value-mapping will have precedence in case its length matches with 'x' & 'y'.  Please use a 2-D array with a single row if you really want to specify the same RGB or RGBA value for all points.\n"
     ]
    },
    {
     "data": {
      "image/png": "[encoded data removed]",
      "text/plain": [
       "<Figure size 720x720 with 1 Axes>"
      ]
     },
     "metadata": {
      "needs_background": "light"
     },
     "output_type": "display_data"
    }
   ],
   "source": [
    "lucem_illud_2020.plotregions(clf_trees, df_exampleTree_train)"
   ]
  },
  {
   "cell_type": "code",
   "execution_count": 149,
   "metadata": {},
   "outputs": [
    {
     "data": {
      "text/html": [
       "<div>\n",
       "<style scoped>\n",
       "    .dataframe tbody tr th:only-of-type {\n",
       "        vertical-align: middle;\n",
       "    }\n",
       "\n",
       "    .dataframe tbody tr th {\n",
       "        vertical-align: top;\n",
       "    }\n",
       "\n",
       "    .dataframe thead th {\n",
       "        text-align: right;\n",
       "    }\n",
       "</style>\n",
       "<table border=\"1\" class=\"dataframe\">\n",
       "  <thead>\n",
       "    <tr style=\"text-align: right;\">\n",
       "      <th></th>\n",
       "      <th>Error_Rate</th>\n",
       "      <th>AUC</th>\n",
       "      <th>Precision</th>\n",
       "      <th>Average_Precision</th>\n",
       "      <th>Recall</th>\n",
       "    </tr>\n",
       "    <tr>\n",
       "      <th>Category</th>\n",
       "      <th></th>\n",
       "      <th></th>\n",
       "      <th></th>\n",
       "      <th></th>\n",
       "      <th></th>\n",
       "    </tr>\n",
       "  </thead>\n",
       "  <tbody>\n",
       "    <tr>\n",
       "      <th>False</th>\n",
       "      <td>0.1775</td>\n",
       "      <td>0.569159</td>\n",
       "      <td>0.827676</td>\n",
       "      <td>0.827324</td>\n",
       "      <td>0.984472</td>\n",
       "    </tr>\n",
       "    <tr>\n",
       "      <th>True</th>\n",
       "      <td>0.1775</td>\n",
       "      <td>0.569159</td>\n",
       "      <td>0.705882</td>\n",
       "      <td>0.273597</td>\n",
       "      <td>0.153846</td>\n",
       "    </tr>\n",
       "  </tbody>\n",
       "</table>\n",
       "</div>"
      ],
      "text/plain": [
       "          Error_Rate       AUC  Precision  Average_Precision    Recall\n",
       "Category                                                              \n",
       "False         0.1775  0.569159   0.827676           0.827324  0.984472\n",
       "True          0.1775  0.569159   0.705882           0.273597  0.153846"
      ]
     },
     "execution_count": 149,
     "metadata": {},
     "output_type": "execute_result"
    }
   ],
   "source": [
    "lucem_illud_2020.evaluateClassifier(clf_trees, df_exampleTree_test)"
   ]
  },
  {
   "cell_type": "code",
   "execution_count": 151,
   "metadata": {},
   "outputs": [
    {
     "data": {
      "text/plain": [
       "0.8225"
      ]
     },
     "execution_count": 151,
     "metadata": {},
     "output_type": "execute_result"
    }
   ],
   "source": [
    "sklearn.metrics.accuracy_score(df_exampleTree_test['category'],clf_trees.predict(np.stack(df_exampleTree_test['vect'], axis = 0)))"
   ]
  },
  {
   "cell_type": "code",
   "execution_count": 152,
   "metadata": {},
   "outputs": [
    {
     "data": {
      "image/png": "[encoded data removed]",
      "text/plain": [
       "<Figure size 432x288 with 1 Axes>"
      ]
     },
     "metadata": {
      "needs_background": "light"
     },
     "output_type": "display_data"
    }
   ],
   "source": [
    "depthvec = []\n",
    "scorevec = []\n",
    "for i in range(1,20):\n",
    "    tree2 = sklearn.tree.DecisionTreeClassifier(max_depth=i,random_state=0)\n",
    "    tree2.fit(np.stack(df_exampleTree_train['vect'], axis =0), df_exampleTree_train['category'])\n",
    "    score = sklearn.metrics.accuracy_score(df_exampleTree_test['category'], tree2.predict(np.stack(df_exampleTree_test['vect'], axis = 0)))\n",
    "    depthvec.append(i)\n",
    "    scorevec.append(score)\n",
    "plt.scatter(depthvec,scorevec)\n",
    "plt.show()"
   ]
  },
  {
   "cell_type": "code",
   "execution_count": 191,
   "metadata": {},
   "outputs": [
    {
     "name": "stdout",
     "output_type": "stream",
     "text": [
      "BaggingClassifier(base_estimator=DecisionTreeClassifier(ccp_alpha=0.0,\n",
      "                                                        class_weight=None,\n",
      "                                                        criterion='gini',\n",
      "                                                        max_depth=10,\n",
      "                                                        max_features=None,\n",
      "                                                        max_leaf_nodes=None,\n",
      "                                                        min_impurity_decrease=0.0,\n",
      "                                                        min_impurity_split=None,\n",
      "                                                        min_samples_leaf=1,\n",
      "                                                        min_samples_split=2,\n",
      "                                                        min_weight_fraction_leaf=0.0,\n",
      "                                                        presort='deprecated',\n",
      "                                                        random_state=None,\n",
      "                                                        splitter='best'),\n",
      "                  bootstrap=True, bootstrap_features=False, max_features=1.0,\n",
      "                  max_samples=0.8, n_estimators=100, n_jobs=None,\n",
      "                  oob_score=False, random_state=1, verbose=0, warm_start=False)\n"
     ]
    },
    {
     "name": "stderr",
     "output_type": "stream",
     "text": [
      "'c' argument looks like a single numeric RGB or RGBA sequence, which should be avoided as value-mapping will have precedence in case its length matches with 'x' & 'y'.  Please use a 2-D array with a single row if you really want to specify the same RGB or RGBA value for all points.\n",
      "'c' argument looks like a single numeric RGB or RGBA sequence, which should be avoided as value-mapping will have precedence in case its length matches with 'x' & 'y'.  Please use a 2-D array with a single row if you really want to specify the same RGB or RGBA value for all points.\n"
     ]
    },
    {
     "data": {
      "image/png": "[encoded data removed]",
      "text/plain": [
       "<Figure size 720x720 with 1 Axes>"
      ]
     },
     "metadata": {
      "needs_background": "light"
     },
     "output_type": "display_data"
    }
   ],
   "source": [
    "tree = sklearn.tree.DecisionTreeClassifier(max_depth=10) #Create an instance of our decision tree classifier.\n",
    "\n",
    "bag = sklearn.ensemble.BaggingClassifier(tree, n_estimators=100, max_samples=0.8, random_state=1) #Each tree us\n",
    "print(bag.fit(np.stack(df_exampleTree_train['vect'], axis =0), df_exampleTree_train['category'])) #\n",
    "\n",
    "lucem_illud_2020.plotregions(bag, df_exampleTree_test)"
   ]
  },
  {
   "cell_type": "code",
   "execution_count": 154,
   "metadata": {},
   "outputs": [
    {
     "data": {
      "text/html": [
       "<div>\n",
       "<style scoped>\n",
       "    .dataframe tbody tr th:only-of-type {\n",
       "        vertical-align: middle;\n",
       "    }\n",
       "\n",
       "    .dataframe tbody tr th {\n",
       "        vertical-align: top;\n",
       "    }\n",
       "\n",
       "    .dataframe thead th {\n",
       "        text-align: right;\n",
       "    }\n",
       "</style>\n",
       "<table border=\"1\" class=\"dataframe\">\n",
       "  <thead>\n",
       "    <tr style=\"text-align: right;\">\n",
       "      <th></th>\n",
       "      <th>Error_Rate</th>\n",
       "      <th>AUC</th>\n",
       "      <th>Precision</th>\n",
       "      <th>Average_Precision</th>\n",
       "      <th>Recall</th>\n",
       "    </tr>\n",
       "    <tr>\n",
       "      <th>Category</th>\n",
       "      <th></th>\n",
       "      <th></th>\n",
       "      <th></th>\n",
       "      <th></th>\n",
       "      <th></th>\n",
       "    </tr>\n",
       "  </thead>\n",
       "  <tbody>\n",
       "    <tr>\n",
       "      <th>False</th>\n",
       "      <td>0.185</td>\n",
       "      <td>0.554786</td>\n",
       "      <td>0.822917</td>\n",
       "      <td>0.822583</td>\n",
       "      <td>0.981366</td>\n",
       "    </tr>\n",
       "    <tr>\n",
       "      <th>True</th>\n",
       "      <td>0.185</td>\n",
       "      <td>0.554786</td>\n",
       "      <td>0.625000</td>\n",
       "      <td>0.250128</td>\n",
       "      <td>0.128205</td>\n",
       "    </tr>\n",
       "  </tbody>\n",
       "</table>\n",
       "</div>"
      ],
      "text/plain": [
       "          Error_Rate       AUC  Precision  Average_Precision    Recall\n",
       "Category                                                              \n",
       "False          0.185  0.554786   0.822917           0.822583  0.981366\n",
       "True           0.185  0.554786   0.625000           0.250128  0.128205"
      ]
     },
     "execution_count": 154,
     "metadata": {},
     "output_type": "execute_result"
    }
   ],
   "source": [
    "\n",
    "lucem_illud_2020.evaluateClassifier(bag, df_exampleTree_test)"
   ]
  },
  {
   "cell_type": "code",
   "execution_count": 155,
   "metadata": {},
   "outputs": [
    {
     "data": {
      "image/png": "[encoded data removed]",
      "text/plain": [
       "<Figure size 432x288 with 1 Axes>"
      ]
     },
     "metadata": {
      "needs_background": "light"
     },
     "output_type": "display_data"
    }
   ],
   "source": [
    "\n",
    "lucem_illud_2020.plotConfusionMatrix(bag, df_exampleTree_test)"
   ]
  },
  {
   "cell_type": "code",
   "execution_count": 157,
   "metadata": {},
   "outputs": [
    {
     "data": {
      "text/plain": [
       "0.25263157894736843"
      ]
     },
     "execution_count": 157,
     "metadata": {},
     "output_type": "execute_result"
    }
   ],
   "source": [
    "#F1-measure\n",
    "sklearn.metrics.f1_score(df_exampleTree_test['category'], clf_trees.predict(np.stack(df_exampleTree_test['vect'], axis = 0)))"
   ]
  },
  {
   "cell_type": "code",
   "execution_count": 166,
   "metadata": {},
   "outputs": [
    {
     "data": {
      "image/png": "[encoded data removed]",
      "text/plain": [
       "<Figure size 720x720 with 1 Axes>"
      ]
     },
     "metadata": {
      "needs_background": "light"
     },
     "output_type": "display_data"
    }
   ],
   "source": [
    "lucem_illud_2020.plotMultiROC(bag, df_exampleTree_test)"
   ]
  },
  {
   "cell_type": "code",
   "execution_count": null,
   "metadata": {},
   "outputs": [],
   "source": [
    "'''Decision tree performs slightly better than random forest calssification. '''"
   ]
  },
  {
   "cell_type": "code",
   "execution_count": 167,
   "metadata": {},
   "outputs": [
    {
     "data": {
      "text/html": [
       "<div>\n",
       "<style scoped>\n",
       "    .dataframe tbody tr th:only-of-type {\n",
       "        vertical-align: middle;\n",
       "    }\n",
       "\n",
       "    .dataframe tbody tr th {\n",
       "        vertical-align: top;\n",
       "    }\n",
       "\n",
       "    .dataframe thead th {\n",
       "        text-align: right;\n",
       "    }\n",
       "</style>\n",
       "<table border=\"1\" class=\"dataframe\">\n",
       "  <thead>\n",
       "    <tr style=\"text-align: right;\">\n",
       "      <th></th>\n",
       "      <th>id</th>\n",
       "      <th>sentiment</th>\n",
       "      <th>airline</th>\n",
       "      <th>text</th>\n",
       "      <th>category</th>\n",
       "      <th>tokenized_text</th>\n",
       "      <th>normalized_text</th>\n",
       "      <th>vect</th>\n",
       "    </tr>\n",
       "  </thead>\n",
       "  <tbody>\n",
       "    <tr>\n",
       "      <th>0</th>\n",
       "      <td>570306133677760513</td>\n",
       "      <td>neutral</td>\n",
       "      <td>Virgin America</td>\n",
       "      <td>@VirginAmerica What @dhepburn said.</td>\n",
       "      <td>True</td>\n",
       "      <td>[@VirginAmerica, What, @dhepburn, said]</td>\n",
       "      <td>[@virginamerica, @dhepburn, say]</td>\n",
       "      <td>[0.0, 0.0, 0.0, 0.0, 0.0, 0.0, 0.0, 0.0, 0.0, ...</td>\n",
       "    </tr>\n",
       "    <tr>\n",
       "      <th>1</th>\n",
       "      <td>570301130888122368</td>\n",
       "      <td>positive</td>\n",
       "      <td>Virgin America</td>\n",
       "      <td>@VirginAmerica plus you've added commercials t...</td>\n",
       "      <td>False</td>\n",
       "      <td>[@VirginAmerica, plus, you, 've, added, commer...</td>\n",
       "      <td>[@virginamerica, plus, have, add, commercial, ...</td>\n",
       "      <td>[0.0, 0.0, 0.0, 0.0, 0.0, 0.0, 0.0, 0.0, 0.0, ...</td>\n",
       "    </tr>\n",
       "    <tr>\n",
       "      <th>2</th>\n",
       "      <td>570301083672813571</td>\n",
       "      <td>neutral</td>\n",
       "      <td>Virgin America</td>\n",
       "      <td>@VirginAmerica I didn't today... Must mean I n...</td>\n",
       "      <td>True</td>\n",
       "      <td>[@VirginAmerica, I, did, n't, today, Must, mea...</td>\n",
       "      <td>[@virginamerica, today, mean, need, trip]</td>\n",
       "      <td>[0.0, 0.0, 0.0, 0.0, 0.0, 0.0, 0.0, 0.0, 0.0, ...</td>\n",
       "    </tr>\n",
       "    <tr>\n",
       "      <th>3</th>\n",
       "      <td>570301031407624196</td>\n",
       "      <td>negative</td>\n",
       "      <td>Virgin America</td>\n",
       "      <td>@VirginAmerica it's really aggressive to blast...</td>\n",
       "      <td>False</td>\n",
       "      <td>[@VirginAmerica, it, 's, really, aggressive, t...</td>\n",
       "      <td>[@virginamerica, aggressive, blast, obnoxious,...</td>\n",
       "      <td>[0.0, 0.0, 0.0, 0.0, 0.0, 0.0, 0.0, 0.0, 0.0, ...</td>\n",
       "    </tr>\n",
       "    <tr>\n",
       "      <th>4</th>\n",
       "      <td>570300817074462722</td>\n",
       "      <td>negative</td>\n",
       "      <td>Virgin America</td>\n",
       "      <td>@VirginAmerica and it's a really big bad thing...</td>\n",
       "      <td>False</td>\n",
       "      <td>[@VirginAmerica, and, it, 's, a, really, big, ...</td>\n",
       "      <td>[@virginamerica, big, bad, thing]</td>\n",
       "      <td>[0.0, 0.0, 0.0, 0.0, 0.0, 0.0, 0.0, 0.0, 0.0, ...</td>\n",
       "    </tr>\n",
       "  </tbody>\n",
       "</table>\n",
       "</div>"
      ],
      "text/plain": [
       "                   id sentiment         airline  \\\n",
       "0  570306133677760513   neutral  Virgin America   \n",
       "1  570301130888122368  positive  Virgin America   \n",
       "2  570301083672813571   neutral  Virgin America   \n",
       "3  570301031407624196  negative  Virgin America   \n",
       "4  570300817074462722  negative  Virgin America   \n",
       "\n",
       "                                                text  category  \\\n",
       "0                @VirginAmerica What @dhepburn said.      True   \n",
       "1  @VirginAmerica plus you've added commercials t...     False   \n",
       "2  @VirginAmerica I didn't today... Must mean I n...      True   \n",
       "3  @VirginAmerica it's really aggressive to blast...     False   \n",
       "4  @VirginAmerica and it's a really big bad thing...     False   \n",
       "\n",
       "                                      tokenized_text  \\\n",
       "0            [@VirginAmerica, What, @dhepburn, said]   \n",
       "1  [@VirginAmerica, plus, you, 've, added, commer...   \n",
       "2  [@VirginAmerica, I, did, n't, today, Must, mea...   \n",
       "3  [@VirginAmerica, it, 's, really, aggressive, t...   \n",
       "4  [@VirginAmerica, and, it, 's, a, really, big, ...   \n",
       "\n",
       "                                     normalized_text  \\\n",
       "0                   [@virginamerica, @dhepburn, say]   \n",
       "1  [@virginamerica, plus, have, add, commercial, ...   \n",
       "2          [@virginamerica, today, mean, need, trip]   \n",
       "3  [@virginamerica, aggressive, blast, obnoxious,...   \n",
       "4                  [@virginamerica, big, bad, thing]   \n",
       "\n",
       "                                                vect  \n",
       "0  [0.0, 0.0, 0.0, 0.0, 0.0, 0.0, 0.0, 0.0, 0.0, ...  \n",
       "1  [0.0, 0.0, 0.0, 0.0, 0.0, 0.0, 0.0, 0.0, 0.0, ...  \n",
       "2  [0.0, 0.0, 0.0, 0.0, 0.0, 0.0, 0.0, 0.0, 0.0, ...  \n",
       "3  [0.0, 0.0, 0.0, 0.0, 0.0, 0.0, 0.0, 0.0, 0.0, ...  \n",
       "4  [0.0, 0.0, 0.0, 0.0, 0.0, 0.0, 0.0, 0.0, 0.0, ...  "
      ]
     },
     "execution_count": 167,
     "metadata": {},
     "output_type": "execute_result"
    }
   ],
   "source": [
    "#Exercise 4\n",
    "df[:5]"
   ]
  },
  {
   "cell_type": "code",
   "execution_count": 168,
   "metadata": {},
   "outputs": [],
   "source": [
    "holdBackFraction=.2\n",
    "train_ng_df, test_ng_df = lucem_illud_2020.trainTestSplit(df, holdBackFraction=holdBackFraction)"
   ]
  },
  {
   "cell_type": "code",
   "execution_count": 169,
   "metadata": {},
   "outputs": [],
   "source": [
    "n_neighbors = 15\n",
    "weights=\"uniform\"\n",
    "clf_knearest = sklearn.neighbors.KNeighborsClassifier(n_neighbors, weights=weights)"
   ]
  },
  {
   "cell_type": "code",
   "execution_count": 170,
   "metadata": {},
   "outputs": [],
   "source": [
    "TFVectorizer_ng = sklearn.feature_extraction.text.TfidfVectorizer(max_df=100, min_df=2, stop_words='english', norm='l2')\n",
    "TFVects_ng = TFVectorizer_ng.fit_transform(train_ng_df['text'])\n",
    "train_ng_df['vect'] = [np.array(v).flatten() for v in TFVects_ng.todense()]"
   ]
  },
  {
   "cell_type": "code",
   "execution_count": 171,
   "metadata": {},
   "outputs": [
    {
     "data": {
      "text/plain": [
       "KNeighborsClassifier(algorithm='auto', leaf_size=30, metric='minkowski',\n",
       "                     metric_params=None, n_jobs=None, n_neighbors=15, p=2,\n",
       "                     weights='uniform')"
      ]
     },
     "execution_count": 171,
     "metadata": {},
     "output_type": "execute_result"
    }
   ],
   "source": [
    "clf_knearest.fit(np.stack(train_ng_df['vect'], axis = 0), train_ng_df['category'])"
   ]
  },
  {
   "cell_type": "code",
   "execution_count": 172,
   "metadata": {},
   "outputs": [
    {
     "data": {
      "text/html": [
       "<div>\n",
       "<style scoped>\n",
       "    .dataframe tbody tr th:only-of-type {\n",
       "        vertical-align: middle;\n",
       "    }\n",
       "\n",
       "    .dataframe tbody tr th {\n",
       "        vertical-align: top;\n",
       "    }\n",
       "\n",
       "    .dataframe thead th {\n",
       "        text-align: right;\n",
       "    }\n",
       "</style>\n",
       "<table border=\"1\" class=\"dataframe\">\n",
       "  <thead>\n",
       "    <tr style=\"text-align: right;\">\n",
       "      <th></th>\n",
       "      <th>Error_Rate</th>\n",
       "      <th>AUC</th>\n",
       "      <th>Precision</th>\n",
       "      <th>Average_Precision</th>\n",
       "      <th>Recall</th>\n",
       "    </tr>\n",
       "    <tr>\n",
       "      <th>Category</th>\n",
       "      <th></th>\n",
       "      <th></th>\n",
       "      <th></th>\n",
       "      <th></th>\n",
       "      <th></th>\n",
       "    </tr>\n",
       "  </thead>\n",
       "  <tbody>\n",
       "    <tr>\n",
       "      <th>False</th>\n",
       "      <td>0.139375</td>\n",
       "      <td>0.679474</td>\n",
       "      <td>0.859589</td>\n",
       "      <td>0.858685</td>\n",
       "      <td>0.985860</td>\n",
       "    </tr>\n",
       "    <tr>\n",
       "      <th>True</th>\n",
       "      <td>0.139375</td>\n",
       "      <td>0.679474</td>\n",
       "      <td>0.871429</td>\n",
       "      <td>0.453245</td>\n",
       "      <td>0.373089</td>\n",
       "    </tr>\n",
       "  </tbody>\n",
       "</table>\n",
       "</div>"
      ],
      "text/plain": [
       "          Error_Rate       AUC  Precision  Average_Precision    Recall\n",
       "Category                                                              \n",
       "False       0.139375  0.679474   0.859589           0.858685  0.985860\n",
       "True        0.139375  0.679474   0.871429           0.453245  0.373089"
      ]
     },
     "execution_count": 172,
     "metadata": {},
     "output_type": "execute_result"
    }
   ],
   "source": [
    "lucem_illud_2020.evaluateClassifier(clf_knearest, train_ng_df)"
   ]
  },
  {
   "cell_type": "code",
   "execution_count": 173,
   "metadata": {},
   "outputs": [
    {
     "name": "stdout",
     "output_type": "stream",
     "text": [
      "Testing score:\n",
      "0.77\n"
     ]
    }
   ],
   "source": [
    "#Create vectors\n",
    "TFVects_test = TFVectorizer_ng.transform(test_ng_df['text'])\n",
    "test_ng_df['vect'] = [np.array(v).flatten() for v in TFVects_test.todense()]\n",
    "\n",
    "#Add to df\n",
    "test_ng_df['nb_predict'] = clf_knearest.predict(np.stack(test_ng_df['vect'], axis=0))\n",
    "\n",
    "#Test\n",
    "print(\"Testing score:\")\n",
    "print(clf_knearest.score(np.stack(test_ng_df['vect'], axis=0), test_ng_df['category']))"
   ]
  },
  {
   "cell_type": "code",
   "execution_count": 174,
   "metadata": {},
   "outputs": [
    {
     "data": {
      "image/png": "[encoded data removed]",
      "text/plain": [
       "<Figure size 432x288 with 1 Axes>"
      ]
     },
     "metadata": {
      "needs_background": "light"
     },
     "output_type": "display_data"
    }
   ],
   "source": [
    "lucem_illud_2020.plotConfusionMatrix(clf_knearest, test_ng_df)"
   ]
  },
  {
   "cell_type": "code",
   "execution_count": null,
   "metadata": {},
   "outputs": [],
   "source": [
    "'''K-nearest neighbor algorithm is mainly used for classification and regression of given data when the attribute is already known.'''"
   ]
  },
  {
   "cell_type": "code",
   "execution_count": 180,
   "metadata": {},
   "outputs": [],
   "source": [
    "#EXercise 5\n",
    "TFVectorizer = sklearn.feature_extraction.text.TfidfVectorizer(max_df=0.5,min_df=3,stop_words='english')\n",
    "TFVects = TFVectorizer.fit_transform([' '.join(l) for l in df['normalized_text']])\n",
    "df['vect'] = [np.array(v).flatten() for v in TFVects.todense()]"
   ]
  },
  {
   "cell_type": "code",
   "execution_count": 182,
   "metadata": {},
   "outputs": [
    {
     "data": {
      "text/plain": [
       "SVC(C=1.0, break_ties=False, cache_size=200, class_weight=None, coef0=0.0,\n",
       "    decision_function_shape='ovr', degree=3, gamma='scale', kernel='linear',\n",
       "    max_iter=-1, probability=False, random_state=None, shrinking=True,\n",
       "    tol=0.001, verbose=False)"
      ]
     },
     "execution_count": 182,
     "metadata": {},
     "output_type": "execute_result"
    }
   ],
   "source": [
    "holdBackFraction = .2\n",
    "train_Df, test_Df = lucem_illud_2020.trainTestSplit(df, holdBackFraction=holdBackFraction)\n",
    "clf_svm = sklearn.svm.SVC(kernel='linear', probability = False)\n",
    "#probability = True is slower but  lets you call predict_proba()\n",
    "clf_svm.fit(np.stack(train_Df['vect'], axis=0), train_Df['category'])"
   ]
  },
  {
   "cell_type": "code",
   "execution_count": 183,
   "metadata": {},
   "outputs": [
    {
     "data": {
      "text/html": [
       "<div>\n",
       "<style scoped>\n",
       "    .dataframe tbody tr th:only-of-type {\n",
       "        vertical-align: middle;\n",
       "    }\n",
       "\n",
       "    .dataframe tbody tr th {\n",
       "        vertical-align: top;\n",
       "    }\n",
       "\n",
       "    .dataframe thead th {\n",
       "        text-align: right;\n",
       "    }\n",
       "</style>\n",
       "<table border=\"1\" class=\"dataframe\">\n",
       "  <thead>\n",
       "    <tr style=\"text-align: right;\">\n",
       "      <th></th>\n",
       "      <th>Error_Rate</th>\n",
       "      <th>AUC</th>\n",
       "      <th>Precision</th>\n",
       "      <th>Average_Precision</th>\n",
       "      <th>Recall</th>\n",
       "    </tr>\n",
       "    <tr>\n",
       "      <th>Category</th>\n",
       "      <th></th>\n",
       "      <th></th>\n",
       "      <th></th>\n",
       "      <th></th>\n",
       "      <th></th>\n",
       "    </tr>\n",
       "  </thead>\n",
       "  <tbody>\n",
       "    <tr>\n",
       "      <th>False</th>\n",
       "      <td>0.19</td>\n",
       "      <td>0.595313</td>\n",
       "      <td>0.833333</td>\n",
       "      <td>0.831771</td>\n",
       "      <td>0.953125</td>\n",
       "    </tr>\n",
       "    <tr>\n",
       "      <th>True</th>\n",
       "      <td>0.19</td>\n",
       "      <td>0.595313</td>\n",
       "      <td>0.558824</td>\n",
       "      <td>0.285221</td>\n",
       "      <td>0.237500</td>\n",
       "    </tr>\n",
       "  </tbody>\n",
       "</table>\n",
       "</div>"
      ],
      "text/plain": [
       "          Error_Rate       AUC  Precision  Average_Precision    Recall\n",
       "Category                                                              \n",
       "False           0.19  0.595313   0.833333           0.831771  0.953125\n",
       "True            0.19  0.595313   0.558824           0.285221  0.237500"
      ]
     },
     "execution_count": 183,
     "metadata": {},
     "output_type": "execute_result"
    }
   ],
   "source": [
    "lucem_illud_2020.evaluateClassifier(clf_svm, test_Df)"
   ]
  },
  {
   "cell_type": "code",
   "execution_count": 184,
   "metadata": {},
   "outputs": [
    {
     "data": {
      "image/png": "[encoded data removed]",
      "text/plain": [
       "<Figure size 432x288 with 1 Axes>"
      ]
     },
     "metadata": {
      "needs_background": "light"
     },
     "output_type": "display_data"
    }
   ],
   "source": [
    "lucem_illud_2020.plotConfusionMatrix(clf_svm, test_Df)"
   ]
  },
  {
   "cell_type": "code",
   "execution_count": 185,
   "metadata": {},
   "outputs": [
    {
     "name": "stderr",
     "output_type": "stream",
     "text": [
      "'c' argument looks like a single numeric RGB or RGBA sequence, which should be avoided as value-mapping will have precedence in case its length matches with 'x' & 'y'.  Please use a 2-D array with a single row if you really want to specify the same RGB or RGBA value for all points.\n",
      "'c' argument looks like a single numeric RGB or RGBA sequence, which should be avoided as value-mapping will have precedence in case its length matches with 'x' & 'y'.  Please use a 2-D array with a single row if you really want to specify the same RGB or RGBA value for all points.\n"
     ]
    },
    {
     "data": {
      "image/png": "[encoded data removed]",
      "text/plain": [
       "<Figure size 720x720 with 1 Axes>"
      ]
     },
     "metadata": {
      "needs_background": "light"
     },
     "output_type": "display_data"
    }
   ],
   "source": [
    "lucem_illud_2020.plotregions(clf_svm, test_Df)"
   ]
  },
  {
   "cell_type": "code",
   "execution_count": 187,
   "metadata": {},
   "outputs": [
    {
     "name": "stderr",
     "output_type": "stream",
     "text": [
      "/Library/Frameworks/Python.framework/Versions/3.7/lib/python3.7/site-packages/sklearn/neural_network/_multilayer_perceptron.py:571: ConvergenceWarning: Stochastic Optimizer: Maximum iterations (200) reached and the optimization hasn't converged yet.\n",
      "  % self.max_iter, ConvergenceWarning)\n"
     ]
    },
    {
     "data": {
      "text/plain": [
       "MLPClassifier(activation='relu', alpha=0.0001, batch_size='auto', beta_1=0.9,\n",
       "              beta_2=0.999, early_stopping=False, epsilon=1e-08,\n",
       "              hidden_layer_sizes=(100,), learning_rate='constant',\n",
       "              learning_rate_init=0.001, max_fun=15000, max_iter=200,\n",
       "              momentum=0.9, n_iter_no_change=10, nesterovs_momentum=True,\n",
       "              power_t=0.5, random_state=None, shuffle=True, solver='adam',\n",
       "              tol=0.0001, validation_fraction=0.1, verbose=False,\n",
       "              warm_start=False)"
      ]
     },
     "execution_count": 187,
     "metadata": {},
     "output_type": "execute_result"
    }
   ],
   "source": [
    "clf_nn = sklearn.neural_network.MLPClassifier()\n",
    "clf_nn.fit(np.stack(train_Df['vect'], axis=0), train_Df['category'])"
   ]
  },
  {
   "cell_type": "code",
   "execution_count": 188,
   "metadata": {},
   "outputs": [
    {
     "data": {
      "text/html": [
       "<div>\n",
       "<style scoped>\n",
       "    .dataframe tbody tr th:only-of-type {\n",
       "        vertical-align: middle;\n",
       "    }\n",
       "\n",
       "    .dataframe tbody tr th {\n",
       "        vertical-align: top;\n",
       "    }\n",
       "\n",
       "    .dataframe thead th {\n",
       "        text-align: right;\n",
       "    }\n",
       "</style>\n",
       "<table border=\"1\" class=\"dataframe\">\n",
       "  <thead>\n",
       "    <tr style=\"text-align: right;\">\n",
       "      <th></th>\n",
       "      <th>Error_Rate</th>\n",
       "      <th>AUC</th>\n",
       "      <th>Precision</th>\n",
       "      <th>Average_Precision</th>\n",
       "      <th>Recall</th>\n",
       "    </tr>\n",
       "    <tr>\n",
       "      <th>Category</th>\n",
       "      <th></th>\n",
       "      <th></th>\n",
       "      <th></th>\n",
       "      <th></th>\n",
       "      <th></th>\n",
       "    </tr>\n",
       "  </thead>\n",
       "  <tbody>\n",
       "    <tr>\n",
       "      <th>False</th>\n",
       "      <td>0.215</td>\n",
       "      <td>0.635938</td>\n",
       "      <td>0.852410</td>\n",
       "      <td>0.846350</td>\n",
       "      <td>0.884375</td>\n",
       "    </tr>\n",
       "    <tr>\n",
       "      <th>True</th>\n",
       "      <td>0.215</td>\n",
       "      <td>0.635938</td>\n",
       "      <td>0.455882</td>\n",
       "      <td>0.299154</td>\n",
       "      <td>0.387500</td>\n",
       "    </tr>\n",
       "  </tbody>\n",
       "</table>\n",
       "</div>"
      ],
      "text/plain": [
       "          Error_Rate       AUC  Precision  Average_Precision    Recall\n",
       "Category                                                              \n",
       "False          0.215  0.635938   0.852410           0.846350  0.884375\n",
       "True           0.215  0.635938   0.455882           0.299154  0.387500"
      ]
     },
     "execution_count": 188,
     "metadata": {},
     "output_type": "execute_result"
    }
   ],
   "source": [
    "lucem_illud_2020.evaluateClassifier(clf_nn, test_Df)"
   ]
  },
  {
   "cell_type": "code",
   "execution_count": 189,
   "metadata": {},
   "outputs": [
    {
     "data": {
      "text/plain": [
       "0.41891891891891897"
      ]
     },
     "execution_count": 189,
     "metadata": {},
     "output_type": "execute_result"
    }
   ],
   "source": [
    "#F1-measure\n",
    "sklearn.metrics.f1_score(test_Df['category'], clf_nn.predict(np.stack(test_Df['vect'], axis = 0)))"
   ]
  },
  {
   "cell_type": "code",
   "execution_count": 190,
   "metadata": {},
   "outputs": [
    {
     "data": {
      "image/png": "[encoded data removed]",
      "text/plain": [
       "<Figure size 720x720 with 1 Axes>"
      ]
     },
     "metadata": {
      "needs_background": "light"
     },
     "output_type": "display_data"
    }
   ],
   "source": [
    "lucem_illud_2020.plotMultiROC(clf_nn, test_Df)"
   ]
  },
  {
   "cell_type": "code",
   "execution_count": null,
   "metadata": {},
   "outputs": [],
   "source": [
    "'''The neutral nets model has an obviously higher f1 score, meaning that it reaches better precision and recall than other models'''"
   ]
  }
 ],
 "metadata": {
  "kernelspec": {
   "display_name": "Python 3",
   "language": "python",
   "name": "python3"
  },
  "language_info": {
   "codemirror_mode": {
    "name": "ipython",
    "version": 3
   },
   "file_extension": ".py",
   "mimetype": "text/x-python",
   "name": "python",
   "nbconvert_exporter": "python",
   "pygments_lexer": "ipython3",
   "version": "3.7.4"
  }
 },
 "nbformat": 4,
 "nbformat_minor": 4
}
